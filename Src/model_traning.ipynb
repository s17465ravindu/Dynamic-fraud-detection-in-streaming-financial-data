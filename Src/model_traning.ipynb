{
 "cells": [
  {
   "cell_type": "code",
   "execution_count": 50,
   "metadata": {},
   "outputs": [],
   "source": [
    "import pandas as pd\n",
    "import numpy as np\n",
    "from sklearn.preprocessing import StandardScaler\n",
    "from imblearn.combine import SMOTETomek\n",
    "from sklearn.model_selection import train_test_split\n",
    "from sklearn.linear_model import LogisticRegression\n",
    "from sklearn.svm import SVC\n",
    "from sklearn.tree import DecisionTreeClassifier\n",
    "from sklearn.metrics import accuracy_score, precision_score, recall_score, f1_score, matthews_corrcoef\n",
    "from sklearn.model_selection import StratifiedKFold\n",
    "import tensorflow as tf\n",
    "import matplotlib.pyplot as plt\n",
    "import seaborn as sns\n"
   ]
  },
  {
   "cell_type": "markdown",
   "metadata": {},
   "source": [
    "### handing Data Inbalancess"
   ]
  },
  {
   "cell_type": "code",
   "execution_count": 2,
   "metadata": {},
   "outputs": [],
   "source": [
    "df = pd.read_csv(r'D:\\Uni Docs\\DSC4996\\Dynamic_fraud_detection_system\\Data\\pre_processed_df.csv')"
   ]
  },
  {
   "cell_type": "code",
   "execution_count": 3,
   "metadata": {},
   "outputs": [
    {
     "data": {
      "text/html": [
       "<div>\n",
       "<style scoped>\n",
       "    .dataframe tbody tr th:only-of-type {\n",
       "        vertical-align: middle;\n",
       "    }\n",
       "\n",
       "    .dataframe tbody tr th {\n",
       "        vertical-align: top;\n",
       "    }\n",
       "\n",
       "    .dataframe thead th {\n",
       "        text-align: right;\n",
       "    }\n",
       "</style>\n",
       "<table border=\"1\" class=\"dataframe\">\n",
       "  <thead>\n",
       "    <tr style=\"text-align: right;\">\n",
       "      <th></th>\n",
       "      <th>Time</th>\n",
       "      <th>V1</th>\n",
       "      <th>V2</th>\n",
       "      <th>V3</th>\n",
       "      <th>V4</th>\n",
       "      <th>V5</th>\n",
       "      <th>V6</th>\n",
       "      <th>V7</th>\n",
       "      <th>V8</th>\n",
       "      <th>V9</th>\n",
       "      <th>...</th>\n",
       "      <th>V21</th>\n",
       "      <th>V22</th>\n",
       "      <th>V23</th>\n",
       "      <th>V24</th>\n",
       "      <th>V25</th>\n",
       "      <th>V26</th>\n",
       "      <th>V27</th>\n",
       "      <th>V28</th>\n",
       "      <th>Amount</th>\n",
       "      <th>Class</th>\n",
       "    </tr>\n",
       "  </thead>\n",
       "  <tbody>\n",
       "    <tr>\n",
       "      <th>0</th>\n",
       "      <td>0.0</td>\n",
       "      <td>-1.359807</td>\n",
       "      <td>-0.072781</td>\n",
       "      <td>2.536347</td>\n",
       "      <td>1.378155</td>\n",
       "      <td>-0.338321</td>\n",
       "      <td>0.462388</td>\n",
       "      <td>0.239599</td>\n",
       "      <td>0.098698</td>\n",
       "      <td>0.363787</td>\n",
       "      <td>...</td>\n",
       "      <td>-0.018307</td>\n",
       "      <td>0.277838</td>\n",
       "      <td>-0.110474</td>\n",
       "      <td>0.066928</td>\n",
       "      <td>0.128539</td>\n",
       "      <td>-0.189115</td>\n",
       "      <td>0.133558</td>\n",
       "      <td>-0.021053</td>\n",
       "      <td>149.62</td>\n",
       "      <td>0</td>\n",
       "    </tr>\n",
       "    <tr>\n",
       "      <th>1</th>\n",
       "      <td>0.0</td>\n",
       "      <td>1.191857</td>\n",
       "      <td>0.266151</td>\n",
       "      <td>0.166480</td>\n",
       "      <td>0.448154</td>\n",
       "      <td>0.060018</td>\n",
       "      <td>-0.082361</td>\n",
       "      <td>-0.078803</td>\n",
       "      <td>0.085102</td>\n",
       "      <td>-0.255425</td>\n",
       "      <td>...</td>\n",
       "      <td>-0.225775</td>\n",
       "      <td>-0.638672</td>\n",
       "      <td>0.101288</td>\n",
       "      <td>-0.339846</td>\n",
       "      <td>0.167170</td>\n",
       "      <td>0.125895</td>\n",
       "      <td>-0.008983</td>\n",
       "      <td>0.014724</td>\n",
       "      <td>2.69</td>\n",
       "      <td>0</td>\n",
       "    </tr>\n",
       "    <tr>\n",
       "      <th>2</th>\n",
       "      <td>1.0</td>\n",
       "      <td>-1.358354</td>\n",
       "      <td>-1.340163</td>\n",
       "      <td>1.773209</td>\n",
       "      <td>0.379780</td>\n",
       "      <td>-0.503198</td>\n",
       "      <td>1.800499</td>\n",
       "      <td>0.791461</td>\n",
       "      <td>0.247676</td>\n",
       "      <td>-1.514654</td>\n",
       "      <td>...</td>\n",
       "      <td>0.247998</td>\n",
       "      <td>0.771679</td>\n",
       "      <td>0.909412</td>\n",
       "      <td>-0.689281</td>\n",
       "      <td>-0.327642</td>\n",
       "      <td>-0.139097</td>\n",
       "      <td>-0.055353</td>\n",
       "      <td>-0.059752</td>\n",
       "      <td>378.66</td>\n",
       "      <td>0</td>\n",
       "    </tr>\n",
       "    <tr>\n",
       "      <th>3</th>\n",
       "      <td>1.0</td>\n",
       "      <td>-0.966272</td>\n",
       "      <td>-0.185226</td>\n",
       "      <td>1.792993</td>\n",
       "      <td>-0.863291</td>\n",
       "      <td>-0.010309</td>\n",
       "      <td>1.247203</td>\n",
       "      <td>0.237609</td>\n",
       "      <td>0.377436</td>\n",
       "      <td>-1.387024</td>\n",
       "      <td>...</td>\n",
       "      <td>-0.108300</td>\n",
       "      <td>0.005274</td>\n",
       "      <td>-0.190321</td>\n",
       "      <td>-1.175575</td>\n",
       "      <td>0.647376</td>\n",
       "      <td>-0.221929</td>\n",
       "      <td>0.062723</td>\n",
       "      <td>0.061458</td>\n",
       "      <td>123.50</td>\n",
       "      <td>0</td>\n",
       "    </tr>\n",
       "    <tr>\n",
       "      <th>4</th>\n",
       "      <td>2.0</td>\n",
       "      <td>-1.158233</td>\n",
       "      <td>0.877737</td>\n",
       "      <td>1.548718</td>\n",
       "      <td>0.403034</td>\n",
       "      <td>-0.407193</td>\n",
       "      <td>0.095921</td>\n",
       "      <td>0.592941</td>\n",
       "      <td>-0.270533</td>\n",
       "      <td>0.817739</td>\n",
       "      <td>...</td>\n",
       "      <td>-0.009431</td>\n",
       "      <td>0.798278</td>\n",
       "      <td>-0.137458</td>\n",
       "      <td>0.141267</td>\n",
       "      <td>-0.206010</td>\n",
       "      <td>0.502292</td>\n",
       "      <td>0.219422</td>\n",
       "      <td>0.215153</td>\n",
       "      <td>69.99</td>\n",
       "      <td>0</td>\n",
       "    </tr>\n",
       "  </tbody>\n",
       "</table>\n",
       "<p>5 rows × 31 columns</p>\n",
       "</div>"
      ],
      "text/plain": [
       "   Time        V1        V2        V3        V4        V5        V6        V7  \\\n",
       "0   0.0 -1.359807 -0.072781  2.536347  1.378155 -0.338321  0.462388  0.239599   \n",
       "1   0.0  1.191857  0.266151  0.166480  0.448154  0.060018 -0.082361 -0.078803   \n",
       "2   1.0 -1.358354 -1.340163  1.773209  0.379780 -0.503198  1.800499  0.791461   \n",
       "3   1.0 -0.966272 -0.185226  1.792993 -0.863291 -0.010309  1.247203  0.237609   \n",
       "4   2.0 -1.158233  0.877737  1.548718  0.403034 -0.407193  0.095921  0.592941   \n",
       "\n",
       "         V8        V9  ...       V21       V22       V23       V24       V25  \\\n",
       "0  0.098698  0.363787  ... -0.018307  0.277838 -0.110474  0.066928  0.128539   \n",
       "1  0.085102 -0.255425  ... -0.225775 -0.638672  0.101288 -0.339846  0.167170   \n",
       "2  0.247676 -1.514654  ...  0.247998  0.771679  0.909412 -0.689281 -0.327642   \n",
       "3  0.377436 -1.387024  ... -0.108300  0.005274 -0.190321 -1.175575  0.647376   \n",
       "4 -0.270533  0.817739  ... -0.009431  0.798278 -0.137458  0.141267 -0.206010   \n",
       "\n",
       "        V26       V27       V28  Amount  Class  \n",
       "0 -0.189115  0.133558 -0.021053  149.62      0  \n",
       "1  0.125895 -0.008983  0.014724    2.69      0  \n",
       "2 -0.139097 -0.055353 -0.059752  378.66      0  \n",
       "3 -0.221929  0.062723  0.061458  123.50      0  \n",
       "4  0.502292  0.219422  0.215153   69.99      0  \n",
       "\n",
       "[5 rows x 31 columns]"
      ]
     },
     "execution_count": 3,
     "metadata": {},
     "output_type": "execute_result"
    }
   ],
   "source": [
    "df.head()"
   ]
  },
  {
   "cell_type": "code",
   "execution_count": 4,
   "metadata": {},
   "outputs": [],
   "source": [
    "features = df.drop('Class',axis=1)\n",
    "target = df['Class']"
   ]
  },
  {
   "cell_type": "code",
   "execution_count": 5,
   "metadata": {},
   "outputs": [],
   "source": [
    "scaler = StandardScaler()\n",
    "features[['Time','Amount']] = scaler.fit_transform(features[['Time','Amount']])"
   ]
  },
  {
   "cell_type": "code",
   "execution_count": 27,
   "metadata": {},
   "outputs": [],
   "source": [
    "X_train, X_test, y_train, y_test = train_test_split(features, target, test_size = 0.2, random_state=1234)"
   ]
  },
  {
   "cell_type": "code",
   "execution_count": 28,
   "metadata": {},
   "outputs": [],
   "source": [
    "smt = SMOTETomek(random_state=1234)\n",
    "features_res, target_res = smt.fit_resample(X_train,y_train)"
   ]
  },
  {
   "cell_type": "code",
   "execution_count": 8,
   "metadata": {},
   "outputs": [
    {
     "data": {
      "text/html": [
       "<div>\n",
       "<style scoped>\n",
       "    .dataframe tbody tr th:only-of-type {\n",
       "        vertical-align: middle;\n",
       "    }\n",
       "\n",
       "    .dataframe tbody tr th {\n",
       "        vertical-align: top;\n",
       "    }\n",
       "\n",
       "    .dataframe thead th {\n",
       "        text-align: right;\n",
       "    }\n",
       "</style>\n",
       "<table border=\"1\" class=\"dataframe\">\n",
       "  <thead>\n",
       "    <tr style=\"text-align: right;\">\n",
       "      <th></th>\n",
       "      <th>Time</th>\n",
       "      <th>V1</th>\n",
       "      <th>V2</th>\n",
       "      <th>V3</th>\n",
       "      <th>V4</th>\n",
       "      <th>V5</th>\n",
       "      <th>V6</th>\n",
       "      <th>V7</th>\n",
       "      <th>V8</th>\n",
       "      <th>V9</th>\n",
       "      <th>...</th>\n",
       "      <th>V20</th>\n",
       "      <th>V21</th>\n",
       "      <th>V22</th>\n",
       "      <th>V23</th>\n",
       "      <th>V24</th>\n",
       "      <th>V25</th>\n",
       "      <th>V26</th>\n",
       "      <th>V27</th>\n",
       "      <th>V28</th>\n",
       "      <th>Amount</th>\n",
       "    </tr>\n",
       "  </thead>\n",
       "  <tbody>\n",
       "    <tr>\n",
       "      <th>0</th>\n",
       "      <td>1.346138</td>\n",
       "      <td>-1.527320</td>\n",
       "      <td>0.779664</td>\n",
       "      <td>-0.445973</td>\n",
       "      <td>0.643763</td>\n",
       "      <td>1.895486</td>\n",
       "      <td>-0.796104</td>\n",
       "      <td>1.724027</td>\n",
       "      <td>-0.800979</td>\n",
       "      <td>-0.221175</td>\n",
       "      <td>...</td>\n",
       "      <td>-0.226268</td>\n",
       "      <td>-0.138018</td>\n",
       "      <td>0.926099</td>\n",
       "      <td>0.200032</td>\n",
       "      <td>-0.453845</td>\n",
       "      <td>0.250378</td>\n",
       "      <td>-0.391996</td>\n",
       "      <td>0.182858</td>\n",
       "      <td>-0.199368</td>\n",
       "      <td>-0.342983</td>\n",
       "    </tr>\n",
       "    <tr>\n",
       "      <th>1</th>\n",
       "      <td>0.623659</td>\n",
       "      <td>-1.519917</td>\n",
       "      <td>0.526017</td>\n",
       "      <td>-0.639762</td>\n",
       "      <td>-0.259347</td>\n",
       "      <td>1.349284</td>\n",
       "      <td>-0.731700</td>\n",
       "      <td>1.163112</td>\n",
       "      <td>0.086371</td>\n",
       "      <td>-0.281868</td>\n",
       "      <td>...</td>\n",
       "      <td>-0.180858</td>\n",
       "      <td>-0.126471</td>\n",
       "      <td>-0.007501</td>\n",
       "      <td>0.190798</td>\n",
       "      <td>-0.732528</td>\n",
       "      <td>0.486099</td>\n",
       "      <td>-0.291913</td>\n",
       "      <td>-0.176798</td>\n",
       "      <td>-0.220036</td>\n",
       "      <td>-0.007479</td>\n",
       "    </tr>\n",
       "    <tr>\n",
       "      <th>2</th>\n",
       "      <td>0.670857</td>\n",
       "      <td>-0.514506</td>\n",
       "      <td>1.286994</td>\n",
       "      <td>0.650569</td>\n",
       "      <td>0.540156</td>\n",
       "      <td>1.213316</td>\n",
       "      <td>-0.162808</td>\n",
       "      <td>1.404228</td>\n",
       "      <td>-0.100791</td>\n",
       "      <td>-1.222849</td>\n",
       "      <td>...</td>\n",
       "      <td>-0.053904</td>\n",
       "      <td>0.072625</td>\n",
       "      <td>0.318634</td>\n",
       "      <td>-0.697490</td>\n",
       "      <td>-0.453357</td>\n",
       "      <td>1.150725</td>\n",
       "      <td>-0.216960</td>\n",
       "      <td>0.033738</td>\n",
       "      <td>0.031053</td>\n",
       "      <td>-0.349333</td>\n",
       "    </tr>\n",
       "    <tr>\n",
       "      <th>3</th>\n",
       "      <td>0.457845</td>\n",
       "      <td>1.587175</td>\n",
       "      <td>-0.453310</td>\n",
       "      <td>-2.087155</td>\n",
       "      <td>1.451973</td>\n",
       "      <td>0.290527</td>\n",
       "      <td>-1.346326</td>\n",
       "      <td>1.095772</td>\n",
       "      <td>-0.540976</td>\n",
       "      <td>-0.086642</td>\n",
       "      <td>...</td>\n",
       "      <td>0.166244</td>\n",
       "      <td>0.268635</td>\n",
       "      <td>0.310333</td>\n",
       "      <td>-0.215560</td>\n",
       "      <td>-0.017962</td>\n",
       "      <td>0.347086</td>\n",
       "      <td>-0.505316</td>\n",
       "      <td>-0.079331</td>\n",
       "      <td>-0.022545</td>\n",
       "      <td>0.645080</td>\n",
       "    </tr>\n",
       "    <tr>\n",
       "      <th>4</th>\n",
       "      <td>1.240748</td>\n",
       "      <td>2.081615</td>\n",
       "      <td>-0.281525</td>\n",
       "      <td>-1.668173</td>\n",
       "      <td>0.141096</td>\n",
       "      <td>0.126756</td>\n",
       "      <td>-0.768274</td>\n",
       "      <td>0.051380</td>\n",
       "      <td>-0.163150</td>\n",
       "      <td>0.524772</td>\n",
       "      <td>...</td>\n",
       "      <td>-0.296539</td>\n",
       "      <td>0.334237</td>\n",
       "      <td>1.105051</td>\n",
       "      <td>-0.158765</td>\n",
       "      <td>-0.415416</td>\n",
       "      <td>0.324267</td>\n",
       "      <td>1.024460</td>\n",
       "      <td>-0.108892</td>\n",
       "      <td>-0.097889</td>\n",
       "      <td>-0.340667</td>\n",
       "    </tr>\n",
       "    <tr>\n",
       "      <th>...</th>\n",
       "      <td>...</td>\n",
       "      <td>...</td>\n",
       "      <td>...</td>\n",
       "      <td>...</td>\n",
       "      <td>...</td>\n",
       "      <td>...</td>\n",
       "      <td>...</td>\n",
       "      <td>...</td>\n",
       "      <td>...</td>\n",
       "      <td>...</td>\n",
       "      <td>...</td>\n",
       "      <td>...</td>\n",
       "      <td>...</td>\n",
       "      <td>...</td>\n",
       "      <td>...</td>\n",
       "      <td>...</td>\n",
       "      <td>...</td>\n",
       "      <td>...</td>\n",
       "      <td>...</td>\n",
       "      <td>...</td>\n",
       "      <td>...</td>\n",
       "    </tr>\n",
       "    <tr>\n",
       "      <th>453207</th>\n",
       "      <td>-0.438156</td>\n",
       "      <td>-4.199420</td>\n",
       "      <td>-2.831137</td>\n",
       "      <td>-1.304464</td>\n",
       "      <td>2.485428</td>\n",
       "      <td>7.360099</td>\n",
       "      <td>-4.568866</td>\n",
       "      <td>-7.644665</td>\n",
       "      <td>-0.201740</td>\n",
       "      <td>1.427417</td>\n",
       "      <td>...</td>\n",
       "      <td>-1.759106</td>\n",
       "      <td>0.358443</td>\n",
       "      <td>-0.980397</td>\n",
       "      <td>-11.293976</td>\n",
       "      <td>-0.335949</td>\n",
       "      <td>-2.533825</td>\n",
       "      <td>-0.121599</td>\n",
       "      <td>1.209723</td>\n",
       "      <td>-0.412260</td>\n",
       "      <td>-0.330397</td>\n",
       "    </tr>\n",
       "    <tr>\n",
       "      <th>453208</th>\n",
       "      <td>-1.024292</td>\n",
       "      <td>0.298027</td>\n",
       "      <td>0.527967</td>\n",
       "      <td>0.123679</td>\n",
       "      <td>1.214763</td>\n",
       "      <td>0.487041</td>\n",
       "      <td>0.057080</td>\n",
       "      <td>0.238639</td>\n",
       "      <td>0.153748</td>\n",
       "      <td>-0.058039</td>\n",
       "      <td>...</td>\n",
       "      <td>-0.011765</td>\n",
       "      <td>-0.142212</td>\n",
       "      <td>-0.441659</td>\n",
       "      <td>-0.150365</td>\n",
       "      <td>-0.705501</td>\n",
       "      <td>0.353199</td>\n",
       "      <td>-0.341512</td>\n",
       "      <td>-0.010068</td>\n",
       "      <td>0.038963</td>\n",
       "      <td>-0.129005</td>\n",
       "    </tr>\n",
       "    <tr>\n",
       "      <th>453209</th>\n",
       "      <td>-1.016059</td>\n",
       "      <td>-0.265991</td>\n",
       "      <td>0.491662</td>\n",
       "      <td>1.858242</td>\n",
       "      <td>-0.951262</td>\n",
       "      <td>-0.517717</td>\n",
       "      <td>-0.692899</td>\n",
       "      <td>0.186822</td>\n",
       "      <td>-0.037716</td>\n",
       "      <td>0.912994</td>\n",
       "      <td>...</td>\n",
       "      <td>-0.012950</td>\n",
       "      <td>0.205589</td>\n",
       "      <td>0.852813</td>\n",
       "      <td>-0.283051</td>\n",
       "      <td>0.450034</td>\n",
       "      <td>0.164694</td>\n",
       "      <td>-0.502587</td>\n",
       "      <td>0.076776</td>\n",
       "      <td>0.015339</td>\n",
       "      <td>-0.346904</td>\n",
       "    </tr>\n",
       "    <tr>\n",
       "      <th>453210</th>\n",
       "      <td>-1.129439</td>\n",
       "      <td>-7.474146</td>\n",
       "      <td>5.065303</td>\n",
       "      <td>-8.451348</td>\n",
       "      <td>8.122413</td>\n",
       "      <td>-7.392779</td>\n",
       "      <td>-2.381247</td>\n",
       "      <td>-11.618411</td>\n",
       "      <td>4.739073</td>\n",
       "      <td>-6.645816</td>\n",
       "      <td>...</td>\n",
       "      <td>0.704093</td>\n",
       "      <td>2.254205</td>\n",
       "      <td>0.255692</td>\n",
       "      <td>-0.002442</td>\n",
       "      <td>0.628437</td>\n",
       "      <td>0.049815</td>\n",
       "      <td>0.234262</td>\n",
       "      <td>1.334223</td>\n",
       "      <td>0.288385</td>\n",
       "      <td>-0.317665</td>\n",
       "    </tr>\n",
       "    <tr>\n",
       "      <th>453211</th>\n",
       "      <td>-0.820384</td>\n",
       "      <td>-1.781945</td>\n",
       "      <td>2.329063</td>\n",
       "      <td>-2.025162</td>\n",
       "      <td>1.354869</td>\n",
       "      <td>-1.658200</td>\n",
       "      <td>-0.954953</td>\n",
       "      <td>-1.382342</td>\n",
       "      <td>-0.322575</td>\n",
       "      <td>-0.938431</td>\n",
       "      <td>...</td>\n",
       "      <td>-0.062632</td>\n",
       "      <td>0.930209</td>\n",
       "      <td>-0.101602</td>\n",
       "      <td>0.093202</td>\n",
       "      <td>0.183058</td>\n",
       "      <td>-0.521389</td>\n",
       "      <td>-0.640125</td>\n",
       "      <td>-0.238997</td>\n",
       "      <td>-0.016074</td>\n",
       "      <td>0.095804</td>\n",
       "    </tr>\n",
       "  </tbody>\n",
       "</table>\n",
       "<p>453212 rows × 30 columns</p>\n",
       "</div>"
      ],
      "text/plain": [
       "            Time        V1        V2        V3        V4        V5        V6  \\\n",
       "0       1.346138 -1.527320  0.779664 -0.445973  0.643763  1.895486 -0.796104   \n",
       "1       0.623659 -1.519917  0.526017 -0.639762 -0.259347  1.349284 -0.731700   \n",
       "2       0.670857 -0.514506  1.286994  0.650569  0.540156  1.213316 -0.162808   \n",
       "3       0.457845  1.587175 -0.453310 -2.087155  1.451973  0.290527 -1.346326   \n",
       "4       1.240748  2.081615 -0.281525 -1.668173  0.141096  0.126756 -0.768274   \n",
       "...          ...       ...       ...       ...       ...       ...       ...   \n",
       "453207 -0.438156 -4.199420 -2.831137 -1.304464  2.485428  7.360099 -4.568866   \n",
       "453208 -1.024292  0.298027  0.527967  0.123679  1.214763  0.487041  0.057080   \n",
       "453209 -1.016059 -0.265991  0.491662  1.858242 -0.951262 -0.517717 -0.692899   \n",
       "453210 -1.129439 -7.474146  5.065303 -8.451348  8.122413 -7.392779 -2.381247   \n",
       "453211 -0.820384 -1.781945  2.329063 -2.025162  1.354869 -1.658200 -0.954953   \n",
       "\n",
       "               V7        V8        V9  ...       V20       V21       V22  \\\n",
       "0        1.724027 -0.800979 -0.221175  ... -0.226268 -0.138018  0.926099   \n",
       "1        1.163112  0.086371 -0.281868  ... -0.180858 -0.126471 -0.007501   \n",
       "2        1.404228 -0.100791 -1.222849  ... -0.053904  0.072625  0.318634   \n",
       "3        1.095772 -0.540976 -0.086642  ...  0.166244  0.268635  0.310333   \n",
       "4        0.051380 -0.163150  0.524772  ... -0.296539  0.334237  1.105051   \n",
       "...           ...       ...       ...  ...       ...       ...       ...   \n",
       "453207  -7.644665 -0.201740  1.427417  ... -1.759106  0.358443 -0.980397   \n",
       "453208   0.238639  0.153748 -0.058039  ... -0.011765 -0.142212 -0.441659   \n",
       "453209   0.186822 -0.037716  0.912994  ... -0.012950  0.205589  0.852813   \n",
       "453210 -11.618411  4.739073 -6.645816  ...  0.704093  2.254205  0.255692   \n",
       "453211  -1.382342 -0.322575 -0.938431  ... -0.062632  0.930209 -0.101602   \n",
       "\n",
       "              V23       V24       V25       V26       V27       V28    Amount  \n",
       "0        0.200032 -0.453845  0.250378 -0.391996  0.182858 -0.199368 -0.342983  \n",
       "1        0.190798 -0.732528  0.486099 -0.291913 -0.176798 -0.220036 -0.007479  \n",
       "2       -0.697490 -0.453357  1.150725 -0.216960  0.033738  0.031053 -0.349333  \n",
       "3       -0.215560 -0.017962  0.347086 -0.505316 -0.079331 -0.022545  0.645080  \n",
       "4       -0.158765 -0.415416  0.324267  1.024460 -0.108892 -0.097889 -0.340667  \n",
       "...           ...       ...       ...       ...       ...       ...       ...  \n",
       "453207 -11.293976 -0.335949 -2.533825 -0.121599  1.209723 -0.412260 -0.330397  \n",
       "453208  -0.150365 -0.705501  0.353199 -0.341512 -0.010068  0.038963 -0.129005  \n",
       "453209  -0.283051  0.450034  0.164694 -0.502587  0.076776  0.015339 -0.346904  \n",
       "453210  -0.002442  0.628437  0.049815  0.234262  1.334223  0.288385 -0.317665  \n",
       "453211   0.093202  0.183058 -0.521389 -0.640125 -0.238997 -0.016074  0.095804  \n",
       "\n",
       "[453212 rows x 30 columns]"
      ]
     },
     "execution_count": 8,
     "metadata": {},
     "output_type": "execute_result"
    }
   ],
   "source": [
    "features_res"
   ]
  },
  {
   "cell_type": "markdown",
   "metadata": {},
   "source": [
    "### Model Traning - 01"
   ]
  },
  {
   "cell_type": "markdown",
   "metadata": {},
   "source": [
    "#### Logistic Regression Model"
   ]
  },
  {
   "cell_type": "code",
   "execution_count": 9,
   "metadata": {},
   "outputs": [
    {
     "data": {
      "text/html": [
       "<style>#sk-container-id-1 {color: black;}#sk-container-id-1 pre{padding: 0;}#sk-container-id-1 div.sk-toggleable {background-color: white;}#sk-container-id-1 label.sk-toggleable__label {cursor: pointer;display: block;width: 100%;margin-bottom: 0;padding: 0.3em;box-sizing: border-box;text-align: center;}#sk-container-id-1 label.sk-toggleable__label-arrow:before {content: \"▸\";float: left;margin-right: 0.25em;color: #696969;}#sk-container-id-1 label.sk-toggleable__label-arrow:hover:before {color: black;}#sk-container-id-1 div.sk-estimator:hover label.sk-toggleable__label-arrow:before {color: black;}#sk-container-id-1 div.sk-toggleable__content {max-height: 0;max-width: 0;overflow: hidden;text-align: left;background-color: #f0f8ff;}#sk-container-id-1 div.sk-toggleable__content pre {margin: 0.2em;color: black;border-radius: 0.25em;background-color: #f0f8ff;}#sk-container-id-1 input.sk-toggleable__control:checked~div.sk-toggleable__content {max-height: 200px;max-width: 100%;overflow: auto;}#sk-container-id-1 input.sk-toggleable__control:checked~label.sk-toggleable__label-arrow:before {content: \"▾\";}#sk-container-id-1 div.sk-estimator input.sk-toggleable__control:checked~label.sk-toggleable__label {background-color: #d4ebff;}#sk-container-id-1 div.sk-label input.sk-toggleable__control:checked~label.sk-toggleable__label {background-color: #d4ebff;}#sk-container-id-1 input.sk-hidden--visually {border: 0;clip: rect(1px 1px 1px 1px);clip: rect(1px, 1px, 1px, 1px);height: 1px;margin: -1px;overflow: hidden;padding: 0;position: absolute;width: 1px;}#sk-container-id-1 div.sk-estimator {font-family: monospace;background-color: #f0f8ff;border: 1px dotted black;border-radius: 0.25em;box-sizing: border-box;margin-bottom: 0.5em;}#sk-container-id-1 div.sk-estimator:hover {background-color: #d4ebff;}#sk-container-id-1 div.sk-parallel-item::after {content: \"\";width: 100%;border-bottom: 1px solid gray;flex-grow: 1;}#sk-container-id-1 div.sk-label:hover label.sk-toggleable__label {background-color: #d4ebff;}#sk-container-id-1 div.sk-serial::before {content: \"\";position: absolute;border-left: 1px solid gray;box-sizing: border-box;top: 0;bottom: 0;left: 50%;z-index: 0;}#sk-container-id-1 div.sk-serial {display: flex;flex-direction: column;align-items: center;background-color: white;padding-right: 0.2em;padding-left: 0.2em;position: relative;}#sk-container-id-1 div.sk-item {position: relative;z-index: 1;}#sk-container-id-1 div.sk-parallel {display: flex;align-items: stretch;justify-content: center;background-color: white;position: relative;}#sk-container-id-1 div.sk-item::before, #sk-container-id-1 div.sk-parallel-item::before {content: \"\";position: absolute;border-left: 1px solid gray;box-sizing: border-box;top: 0;bottom: 0;left: 50%;z-index: -1;}#sk-container-id-1 div.sk-parallel-item {display: flex;flex-direction: column;z-index: 1;position: relative;background-color: white;}#sk-container-id-1 div.sk-parallel-item:first-child::after {align-self: flex-end;width: 50%;}#sk-container-id-1 div.sk-parallel-item:last-child::after {align-self: flex-start;width: 50%;}#sk-container-id-1 div.sk-parallel-item:only-child::after {width: 0;}#sk-container-id-1 div.sk-dashed-wrapped {border: 1px dashed gray;margin: 0 0.4em 0.5em 0.4em;box-sizing: border-box;padding-bottom: 0.4em;background-color: white;}#sk-container-id-1 div.sk-label label {font-family: monospace;font-weight: bold;display: inline-block;line-height: 1.2em;}#sk-container-id-1 div.sk-label-container {text-align: center;}#sk-container-id-1 div.sk-container {/* jupyter's `normalize.less` sets `[hidden] { display: none; }` but bootstrap.min.css set `[hidden] { display: none !important; }` so we also need the `!important` here to be able to override the default hidden behavior on the sphinx rendered scikit-learn.org. See: https://github.com/scikit-learn/scikit-learn/issues/21755 */display: inline-block !important;position: relative;}#sk-container-id-1 div.sk-text-repr-fallback {display: none;}</style><div id=\"sk-container-id-1\" class=\"sk-top-container\"><div class=\"sk-text-repr-fallback\"><pre>LogisticRegression()</pre><b>In a Jupyter environment, please rerun this cell to show the HTML representation or trust the notebook. <br />On GitHub, the HTML representation is unable to render, please try loading this page with nbviewer.org.</b></div><div class=\"sk-container\" hidden><div class=\"sk-item\"><div class=\"sk-estimator sk-toggleable\"><input class=\"sk-toggleable__control sk-hidden--visually\" id=\"sk-estimator-id-1\" type=\"checkbox\" checked><label for=\"sk-estimator-id-1\" class=\"sk-toggleable__label sk-toggleable__label-arrow\">LogisticRegression</label><div class=\"sk-toggleable__content\"><pre>LogisticRegression()</pre></div></div></div></div></div>"
      ],
      "text/plain": [
       "LogisticRegression()"
      ]
     },
     "execution_count": 9,
     "metadata": {},
     "output_type": "execute_result"
    }
   ],
   "source": [
    "lgt = LogisticRegression()\n",
    "lgt.fit(features_res, target_res)"
   ]
  },
  {
   "cell_type": "code",
   "execution_count": 10,
   "metadata": {},
   "outputs": [],
   "source": [
    "y_pred = lgt.predict(X_test)"
   ]
  },
  {
   "cell_type": "code",
   "execution_count": 11,
   "metadata": {},
   "outputs": [
    {
     "name": "stdout",
     "output_type": "stream",
     "text": [
      "Accuracy: 0.9737602650407077\n",
      "Precision: 0.05732484076433121\n",
      "Recall: 0.9090909090909091\n",
      "F1-score: 0.1078490113840623\n",
      "MCC: 0.2246592034150974\n"
     ]
    }
   ],
   "source": [
    "accuracy_lgt = accuracy_score(y_test, y_pred)\n",
    "precision_lgt = precision_score(y_test, y_pred)\n",
    "recall_lgt = recall_score(y_test, y_pred)\n",
    "f1_score_lgt = f1_score(y_test, y_pred)\n",
    "mcc_lgt = matthews_corrcoef(y_test, y_pred)\n",
    "\n",
    "print(\"Accuracy:\", accuracy_lgt)\n",
    "print(\"Precision:\", precision_lgt)\n",
    "print(\"Recall:\", recall_lgt)\n",
    "print(\"F1-score:\", f1_score_lgt)\n",
    "print(\"MCC:\", mcc_lgt)"
   ]
  },
  {
   "cell_type": "markdown",
   "metadata": {},
   "source": [
    "#### SVM Model"
   ]
  },
  {
   "cell_type": "code",
   "execution_count": 12,
   "metadata": {},
   "outputs": [
    {
     "data": {
      "text/html": [
       "<style>#sk-container-id-2 {color: black;}#sk-container-id-2 pre{padding: 0;}#sk-container-id-2 div.sk-toggleable {background-color: white;}#sk-container-id-2 label.sk-toggleable__label {cursor: pointer;display: block;width: 100%;margin-bottom: 0;padding: 0.3em;box-sizing: border-box;text-align: center;}#sk-container-id-2 label.sk-toggleable__label-arrow:before {content: \"▸\";float: left;margin-right: 0.25em;color: #696969;}#sk-container-id-2 label.sk-toggleable__label-arrow:hover:before {color: black;}#sk-container-id-2 div.sk-estimator:hover label.sk-toggleable__label-arrow:before {color: black;}#sk-container-id-2 div.sk-toggleable__content {max-height: 0;max-width: 0;overflow: hidden;text-align: left;background-color: #f0f8ff;}#sk-container-id-2 div.sk-toggleable__content pre {margin: 0.2em;color: black;border-radius: 0.25em;background-color: #f0f8ff;}#sk-container-id-2 input.sk-toggleable__control:checked~div.sk-toggleable__content {max-height: 200px;max-width: 100%;overflow: auto;}#sk-container-id-2 input.sk-toggleable__control:checked~label.sk-toggleable__label-arrow:before {content: \"▾\";}#sk-container-id-2 div.sk-estimator input.sk-toggleable__control:checked~label.sk-toggleable__label {background-color: #d4ebff;}#sk-container-id-2 div.sk-label input.sk-toggleable__control:checked~label.sk-toggleable__label {background-color: #d4ebff;}#sk-container-id-2 input.sk-hidden--visually {border: 0;clip: rect(1px 1px 1px 1px);clip: rect(1px, 1px, 1px, 1px);height: 1px;margin: -1px;overflow: hidden;padding: 0;position: absolute;width: 1px;}#sk-container-id-2 div.sk-estimator {font-family: monospace;background-color: #f0f8ff;border: 1px dotted black;border-radius: 0.25em;box-sizing: border-box;margin-bottom: 0.5em;}#sk-container-id-2 div.sk-estimator:hover {background-color: #d4ebff;}#sk-container-id-2 div.sk-parallel-item::after {content: \"\";width: 100%;border-bottom: 1px solid gray;flex-grow: 1;}#sk-container-id-2 div.sk-label:hover label.sk-toggleable__label {background-color: #d4ebff;}#sk-container-id-2 div.sk-serial::before {content: \"\";position: absolute;border-left: 1px solid gray;box-sizing: border-box;top: 0;bottom: 0;left: 50%;z-index: 0;}#sk-container-id-2 div.sk-serial {display: flex;flex-direction: column;align-items: center;background-color: white;padding-right: 0.2em;padding-left: 0.2em;position: relative;}#sk-container-id-2 div.sk-item {position: relative;z-index: 1;}#sk-container-id-2 div.sk-parallel {display: flex;align-items: stretch;justify-content: center;background-color: white;position: relative;}#sk-container-id-2 div.sk-item::before, #sk-container-id-2 div.sk-parallel-item::before {content: \"\";position: absolute;border-left: 1px solid gray;box-sizing: border-box;top: 0;bottom: 0;left: 50%;z-index: -1;}#sk-container-id-2 div.sk-parallel-item {display: flex;flex-direction: column;z-index: 1;position: relative;background-color: white;}#sk-container-id-2 div.sk-parallel-item:first-child::after {align-self: flex-end;width: 50%;}#sk-container-id-2 div.sk-parallel-item:last-child::after {align-self: flex-start;width: 50%;}#sk-container-id-2 div.sk-parallel-item:only-child::after {width: 0;}#sk-container-id-2 div.sk-dashed-wrapped {border: 1px dashed gray;margin: 0 0.4em 0.5em 0.4em;box-sizing: border-box;padding-bottom: 0.4em;background-color: white;}#sk-container-id-2 div.sk-label label {font-family: monospace;font-weight: bold;display: inline-block;line-height: 1.2em;}#sk-container-id-2 div.sk-label-container {text-align: center;}#sk-container-id-2 div.sk-container {/* jupyter's `normalize.less` sets `[hidden] { display: none; }` but bootstrap.min.css set `[hidden] { display: none !important; }` so we also need the `!important` here to be able to override the default hidden behavior on the sphinx rendered scikit-learn.org. See: https://github.com/scikit-learn/scikit-learn/issues/21755 */display: inline-block !important;position: relative;}#sk-container-id-2 div.sk-text-repr-fallback {display: none;}</style><div id=\"sk-container-id-2\" class=\"sk-top-container\"><div class=\"sk-text-repr-fallback\"><pre>SVC()</pre><b>In a Jupyter environment, please rerun this cell to show the HTML representation or trust the notebook. <br />On GitHub, the HTML representation is unable to render, please try loading this page with nbviewer.org.</b></div><div class=\"sk-container\" hidden><div class=\"sk-item\"><div class=\"sk-estimator sk-toggleable\"><input class=\"sk-toggleable__control sk-hidden--visually\" id=\"sk-estimator-id-2\" type=\"checkbox\" checked><label for=\"sk-estimator-id-2\" class=\"sk-toggleable__label sk-toggleable__label-arrow\">SVC</label><div class=\"sk-toggleable__content\"><pre>SVC()</pre></div></div></div></div></div>"
      ],
      "text/plain": [
       "SVC()"
      ]
     },
     "execution_count": 12,
     "metadata": {},
     "output_type": "execute_result"
    }
   ],
   "source": [
    "svm = SVC()\n",
    "\n",
    "svm.fit(features_res, target_res)"
   ]
  },
  {
   "cell_type": "code",
   "execution_count": 13,
   "metadata": {},
   "outputs": [],
   "source": [
    "y_pred_svm = svm.predict(X_test)"
   ]
  },
  {
   "cell_type": "code",
   "execution_count": 14,
   "metadata": {},
   "outputs": [
    {
     "name": "stdout",
     "output_type": "stream",
     "text": [
      "Accuracy: 0.9863426497021817\n",
      "Precision: 0.10047281323877069\n",
      "Recall: 0.8585858585858586\n",
      "F1-score: 0.1798941798941799\n",
      "MCC: 0.29103798974050626\n"
     ]
    }
   ],
   "source": [
    "accuracy_svm = accuracy_score(y_test, y_pred_svm)\n",
    "precision_svm = precision_score(y_test, y_pred_svm)\n",
    "recall_svm = recall_score(y_test, y_pred_svm)\n",
    "f1_score_svm = f1_score(y_test, y_pred_svm)\n",
    "mcc_svm = matthews_corrcoef(y_test, y_pred_svm)\n",
    "\n",
    "print(\"Accuracy:\", accuracy_svm)\n",
    "print(\"Precision:\", precision_svm)\n",
    "print(\"Recall:\", recall_svm)\n",
    "print(\"F1-score:\", f1_score_svm)\n",
    "print(\"MCC:\", mcc_svm)"
   ]
  },
  {
   "cell_type": "markdown",
   "metadata": {},
   "source": [
    "#### Decision Tree"
   ]
  },
  {
   "cell_type": "code",
   "execution_count": 15,
   "metadata": {},
   "outputs": [
    {
     "data": {
      "text/html": [
       "<style>#sk-container-id-3 {color: black;}#sk-container-id-3 pre{padding: 0;}#sk-container-id-3 div.sk-toggleable {background-color: white;}#sk-container-id-3 label.sk-toggleable__label {cursor: pointer;display: block;width: 100%;margin-bottom: 0;padding: 0.3em;box-sizing: border-box;text-align: center;}#sk-container-id-3 label.sk-toggleable__label-arrow:before {content: \"▸\";float: left;margin-right: 0.25em;color: #696969;}#sk-container-id-3 label.sk-toggleable__label-arrow:hover:before {color: black;}#sk-container-id-3 div.sk-estimator:hover label.sk-toggleable__label-arrow:before {color: black;}#sk-container-id-3 div.sk-toggleable__content {max-height: 0;max-width: 0;overflow: hidden;text-align: left;background-color: #f0f8ff;}#sk-container-id-3 div.sk-toggleable__content pre {margin: 0.2em;color: black;border-radius: 0.25em;background-color: #f0f8ff;}#sk-container-id-3 input.sk-toggleable__control:checked~div.sk-toggleable__content {max-height: 200px;max-width: 100%;overflow: auto;}#sk-container-id-3 input.sk-toggleable__control:checked~label.sk-toggleable__label-arrow:before {content: \"▾\";}#sk-container-id-3 div.sk-estimator input.sk-toggleable__control:checked~label.sk-toggleable__label {background-color: #d4ebff;}#sk-container-id-3 div.sk-label input.sk-toggleable__control:checked~label.sk-toggleable__label {background-color: #d4ebff;}#sk-container-id-3 input.sk-hidden--visually {border: 0;clip: rect(1px 1px 1px 1px);clip: rect(1px, 1px, 1px, 1px);height: 1px;margin: -1px;overflow: hidden;padding: 0;position: absolute;width: 1px;}#sk-container-id-3 div.sk-estimator {font-family: monospace;background-color: #f0f8ff;border: 1px dotted black;border-radius: 0.25em;box-sizing: border-box;margin-bottom: 0.5em;}#sk-container-id-3 div.sk-estimator:hover {background-color: #d4ebff;}#sk-container-id-3 div.sk-parallel-item::after {content: \"\";width: 100%;border-bottom: 1px solid gray;flex-grow: 1;}#sk-container-id-3 div.sk-label:hover label.sk-toggleable__label {background-color: #d4ebff;}#sk-container-id-3 div.sk-serial::before {content: \"\";position: absolute;border-left: 1px solid gray;box-sizing: border-box;top: 0;bottom: 0;left: 50%;z-index: 0;}#sk-container-id-3 div.sk-serial {display: flex;flex-direction: column;align-items: center;background-color: white;padding-right: 0.2em;padding-left: 0.2em;position: relative;}#sk-container-id-3 div.sk-item {position: relative;z-index: 1;}#sk-container-id-3 div.sk-parallel {display: flex;align-items: stretch;justify-content: center;background-color: white;position: relative;}#sk-container-id-3 div.sk-item::before, #sk-container-id-3 div.sk-parallel-item::before {content: \"\";position: absolute;border-left: 1px solid gray;box-sizing: border-box;top: 0;bottom: 0;left: 50%;z-index: -1;}#sk-container-id-3 div.sk-parallel-item {display: flex;flex-direction: column;z-index: 1;position: relative;background-color: white;}#sk-container-id-3 div.sk-parallel-item:first-child::after {align-self: flex-end;width: 50%;}#sk-container-id-3 div.sk-parallel-item:last-child::after {align-self: flex-start;width: 50%;}#sk-container-id-3 div.sk-parallel-item:only-child::after {width: 0;}#sk-container-id-3 div.sk-dashed-wrapped {border: 1px dashed gray;margin: 0 0.4em 0.5em 0.4em;box-sizing: border-box;padding-bottom: 0.4em;background-color: white;}#sk-container-id-3 div.sk-label label {font-family: monospace;font-weight: bold;display: inline-block;line-height: 1.2em;}#sk-container-id-3 div.sk-label-container {text-align: center;}#sk-container-id-3 div.sk-container {/* jupyter's `normalize.less` sets `[hidden] { display: none; }` but bootstrap.min.css set `[hidden] { display: none !important; }` so we also need the `!important` here to be able to override the default hidden behavior on the sphinx rendered scikit-learn.org. See: https://github.com/scikit-learn/scikit-learn/issues/21755 */display: inline-block !important;position: relative;}#sk-container-id-3 div.sk-text-repr-fallback {display: none;}</style><div id=\"sk-container-id-3\" class=\"sk-top-container\"><div class=\"sk-text-repr-fallback\"><pre>DecisionTreeClassifier()</pre><b>In a Jupyter environment, please rerun this cell to show the HTML representation or trust the notebook. <br />On GitHub, the HTML representation is unable to render, please try loading this page with nbviewer.org.</b></div><div class=\"sk-container\" hidden><div class=\"sk-item\"><div class=\"sk-estimator sk-toggleable\"><input class=\"sk-toggleable__control sk-hidden--visually\" id=\"sk-estimator-id-3\" type=\"checkbox\" checked><label for=\"sk-estimator-id-3\" class=\"sk-toggleable__label sk-toggleable__label-arrow\">DecisionTreeClassifier</label><div class=\"sk-toggleable__content\"><pre>DecisionTreeClassifier()</pre></div></div></div></div></div>"
      ],
      "text/plain": [
       "DecisionTreeClassifier()"
      ]
     },
     "execution_count": 15,
     "metadata": {},
     "output_type": "execute_result"
    }
   ],
   "source": [
    "dtree = DecisionTreeClassifier()\n",
    "\n",
    "dtree.fit(features_res, target_res)"
   ]
  },
  {
   "cell_type": "code",
   "execution_count": 16,
   "metadata": {},
   "outputs": [],
   "source": [
    "y_pred_dtree = dtree.predict(X_test)"
   ]
  },
  {
   "cell_type": "code",
   "execution_count": 17,
   "metadata": {},
   "outputs": [
    {
     "name": "stdout",
     "output_type": "stream",
     "text": [
      "Accuracy: 0.9973566418778416\n",
      "Precision: 0.37185929648241206\n",
      "Recall: 0.7474747474747475\n",
      "F1-score: 0.4966442953020135\n",
      "MCC: 0.5261229709247855\n"
     ]
    }
   ],
   "source": [
    "accuracy_dtree = accuracy_score(y_test, y_pred_dtree)\n",
    "precision_dtree = precision_score(y_test, y_pred_dtree)\n",
    "recall_dtree = recall_score(y_test, y_pred_dtree)\n",
    "f1_score_dtree = f1_score(y_test, y_pred_dtree)\n",
    "mcc_dtree = matthews_corrcoef(y_test, y_pred_dtree)\n",
    "\n",
    "print(\"Accuracy:\", accuracy_dtree)\n",
    "print(\"Precision:\", precision_dtree)\n",
    "print(\"Recall:\", recall_dtree)\n",
    "print(\"F1-score:\", f1_score_dtree)\n",
    "print(\"MCC:\", mcc_dtree)"
   ]
  },
  {
   "cell_type": "markdown",
   "metadata": {},
   "source": [
    "### CNN"
   ]
  },
  {
   "cell_type": "code",
   "execution_count": 29,
   "metadata": {},
   "outputs": [],
   "source": [
    "features_res1 = features_res.to_numpy()\n",
    "target_res1 = target_res.to_numpy()\n",
    "X_test1 = X_test.to_numpy()\n",
    "y_test1 = y_test.to_numpy()"
   ]
  },
  {
   "cell_type": "code",
   "execution_count": 38,
   "metadata": {},
   "outputs": [
    {
     "data": {
      "text/plain": [
       "((453212, 30, 1), (56746, 30, 1))"
      ]
     },
     "execution_count": 38,
     "metadata": {},
     "output_type": "execute_result"
    }
   ],
   "source": [
    "features_res1 = features_res1.reshape(features_res1.shape[0],features_res1.shape[1],1)\n",
    "X_test1 = X_test1.reshape(X_test1.shape[0],X_test1.shape[1],1)\n",
    "features_res1.shape, X_test1.shape"
   ]
  },
  {
   "cell_type": "code",
   "execution_count": 40,
   "metadata": {},
   "outputs": [],
   "source": [
    "from tensorflow.keras.models import Sequential\n",
    "from tensorflow.keras.layers import Dense,Flatten,Conv1D,BatchNormalization,Dropout"
   ]
  },
  {
   "cell_type": "code",
   "execution_count": 41,
   "metadata": {},
   "outputs": [],
   "source": [
    "#import model\n",
    "model=Sequential()"
   ]
  },
  {
   "cell_type": "code",
   "execution_count": 43,
   "metadata": {},
   "outputs": [],
   "source": [
    "# layers\n",
    "model.add(Conv1D(filters=32, kernel_size=2, activation='relu', input_shape=features_res1[0].shape))\n",
    "model.add(BatchNormalization())\n",
    "model.add(Dropout(0.2))\n",
    "\n",
    "model.add(Conv1D(filters=64, kernel_size=2, activation='relu'))\n",
    "model.add(BatchNormalization())\n",
    "model.add(Dropout(0.2))\n",
    "\n",
    "# build ANN\n",
    "model.add(Flatten())\n",
    "model.add(Dense(64, activation='relu'))\n",
    "model.add(Dropout(0.5))\n",
    "model.add(Dense(1, activation='relu'))"
   ]
  },
  {
   "cell_type": "code",
   "execution_count": 46,
   "metadata": {},
   "outputs": [],
   "source": [
    "# compile the model\n",
    "model.compile(optimizer='adam', loss='binary_crossentropy', metrics=['accuracy'])"
   ]
  },
  {
   "cell_type": "code",
   "execution_count": 47,
   "metadata": {},
   "outputs": [
    {
     "name": "stdout",
     "output_type": "stream",
     "text": [
      "Epoch 1/20\n",
      "14163/14163 [==============================] - 54s 4ms/step - loss: 0.9556 - accuracy: 0.9363 - val_loss: 0.1640 - val_accuracy: 0.9891\n",
      "Epoch 2/20\n",
      "14163/14163 [==============================] - 52s 4ms/step - loss: 0.9113 - accuracy: 0.9405 - val_loss: 0.3774 - val_accuracy: 0.9749\n",
      "Epoch 3/20\n",
      "14163/14163 [==============================] - 51s 4ms/step - loss: 0.8203 - accuracy: 0.9464 - val_loss: 0.1331 - val_accuracy: 0.9913\n",
      "Epoch 4/20\n",
      "14163/14163 [==============================] - 51s 4ms/step - loss: 0.7274 - accuracy: 0.9524 - val_loss: 0.2025 - val_accuracy: 0.9867\n",
      "Epoch 5/20\n",
      "14163/14163 [==============================] - 53s 4ms/step - loss: 0.6764 - accuracy: 0.9557 - val_loss: 0.4254 - val_accuracy: 0.9719\n",
      "Epoch 6/20\n",
      "14163/14163 [==============================] - 60s 4ms/step - loss: 0.6085 - accuracy: 0.9603 - val_loss: 0.1647 - val_accuracy: 0.9891\n",
      "Epoch 7/20\n",
      "14163/14163 [==============================] - 64s 5ms/step - loss: 0.5750 - accuracy: 0.9624 - val_loss: 0.2677 - val_accuracy: 0.9823\n",
      "Epoch 8/20\n",
      "14163/14163 [==============================] - 59s 4ms/step - loss: 0.5874 - accuracy: 0.9616 - val_loss: 0.2122 - val_accuracy: 0.9860\n",
      "Epoch 9/20\n",
      "14163/14163 [==============================] - 64s 5ms/step - loss: 0.5414 - accuracy: 0.9646 - val_loss: 0.3114 - val_accuracy: 0.9795\n",
      "Epoch 10/20\n",
      "14163/14163 [==============================] - 61s 4ms/step - loss: 0.5205 - accuracy: 0.9659 - val_loss: 0.3195 - val_accuracy: 0.9789\n",
      "Epoch 11/20\n",
      "14163/14163 [==============================] - 65s 5ms/step - loss: 0.5023 - accuracy: 0.9672 - val_loss: 0.2436 - val_accuracy: 0.9840\n",
      "Epoch 12/20\n",
      "14163/14163 [==============================] - 62s 4ms/step - loss: 0.4901 - accuracy: 0.9680 - val_loss: 0.1760 - val_accuracy: 0.9884\n",
      "Epoch 13/20\n",
      "14163/14163 [==============================] - 61s 4ms/step - loss: 0.4626 - accuracy: 0.9698 - val_loss: 0.1681 - val_accuracy: 0.9890\n",
      "Epoch 14/20\n",
      "14163/14163 [==============================] - 62s 4ms/step - loss: 0.4526 - accuracy: 0.9705 - val_loss: 0.2277 - val_accuracy: 0.9850\n",
      "Epoch 15/20\n",
      "14163/14163 [==============================] - 65s 5ms/step - loss: 0.4548 - accuracy: 0.9703 - val_loss: 0.1872 - val_accuracy: 0.9876\n",
      "Epoch 16/20\n",
      "14163/14163 [==============================] - 60s 4ms/step - loss: 0.4516 - accuracy: 0.9705 - val_loss: 0.2124 - val_accuracy: 0.9860\n",
      "Epoch 17/20\n",
      "14163/14163 [==============================] - 61s 4ms/step - loss: 0.4493 - accuracy: 0.9706 - val_loss: 0.3158 - val_accuracy: 0.9792\n",
      "Epoch 18/20\n",
      "14163/14163 [==============================] - 63s 4ms/step - loss: 0.4653 - accuracy: 0.9696 - val_loss: 0.1694 - val_accuracy: 0.9888\n",
      "Epoch 19/20\n",
      "14163/14163 [==============================] - 66s 5ms/step - loss: 0.4181 - accuracy: 0.9727 - val_loss: 0.1670 - val_accuracy: 0.9890\n",
      "Epoch 20/20\n",
      "14163/14163 [==============================] - 65s 5ms/step - loss: 0.4134 - accuracy: 0.9730 - val_loss: 0.2705 - val_accuracy: 0.9822\n"
     ]
    }
   ],
   "source": [
    "# fitting the model\n",
    "cnn_fit =model.fit(features_res1,target_res1,epochs=20,validation_data=(X_test1,y_test1))"
   ]
  },
  {
   "cell_type": "code",
   "execution_count": 57,
   "metadata": {},
   "outputs": [],
   "source": [
    "# plot\n",
    "def plot_learningcurve(cnn_fit,epochs):\n",
    "  epoch=range(1,epochs+1)\n",
    "  # accuracy\n",
    "  plt.plot(epoch, cnn_fit.history['accuracy'])\n",
    "  plt.plot(epoch, cnn_fit.history['val_accuracy'])\n",
    "  plt.title('Model accuracy')\n",
    "  plt.xlabel('epoch')\n",
    "  plt.ylabel('accuracy')\n",
    "  plt.legend(['train','val'], loc='upper left')\n",
    "  plt.show()\n",
    "\n",
    "  # loss\n",
    "  plt.plot(epoch, cnn_fit.history['loss'])\n",
    "  plt.plot(epoch, cnn_fit.history['val_loss'])\n",
    "  plt.title('Model loss')\n",
    "  plt.xlabel('epoch')\n",
    "  plt.ylabel('loss')\n",
    "  plt.legend(['train','val'], loc='upper left')\n",
    "  plt.show()"
   ]
  },
  {
   "cell_type": "code",
   "execution_count": 58,
   "metadata": {},
   "outputs": [
    {
     "data": {
      "image/png": "[encoded data removed]",
      "text/plain": [
       "<Figure size 640x480 with 1 Axes>"
      ]
     },
     "metadata": {},
     "output_type": "display_data"
    },
    {
     "data": {
      "image/png": "[encoded data removed]",
      "text/plain": [
       "<Figure size 640x480 with 1 Axes>"
      ]
     },
     "metadata": {},
     "output_type": "display_data"
    }
   ],
   "source": [
    "plot_learningcurve(cnn_fit,20)"
   ]
  },
  {
   "cell_type": "code",
   "execution_count": 59,
   "metadata": {},
   "outputs": [
    {
     "name": "stdout",
     "output_type": "stream",
     "text": [
      "1774/1774 [==============================] - 2s 1ms/step\n"
     ]
    }
   ],
   "source": [
    "y_pred_cnn = model.predict(X_test1)"
   ]
  },
  {
   "cell_type": "code",
   "execution_count": 63,
   "metadata": {},
   "outputs": [],
   "source": [
    "import numpy as np\n",
    "\n",
    "def predict_classes(probs, threshold=0.5):\n",
    "\n",
    "  classes = np.zeros_like(probs, dtype=int)\n",
    "  classes[probs >= threshold] = 1\n",
    "  return classes\n"
   ]
  },
  {
   "cell_type": "code",
   "execution_count": 66,
   "metadata": {},
   "outputs": [],
   "source": [
    "preds = predict_classes(y_pred_cnn)"
   ]
  },
  {
   "cell_type": "code",
   "execution_count": 68,
   "metadata": {},
   "outputs": [
    {
     "name": "stdout",
     "output_type": "stream",
     "text": [
      "Accuracy: 0.9822013886441335\n",
      "Precision: 0.08095676172953081\n",
      "F1-score: 0.148397976391231\n",
      "Recall: 0.8888888888888888\n",
      "MCC: 0.26525772908902734\n"
     ]
    }
   ],
   "source": [
    "accuracy_cnn = accuracy_score(y_test1, preds)\n",
    "precision_cnn = precision_score(y_test1, preds)\n",
    "recall_cnn = recall_score(y_test1, preds)\n",
    "f1_score_cnn = f1_score(y_test1, preds)\n",
    "mcc_cnn = matthews_corrcoef(y_test1, preds)\n",
    "\n",
    "print(\"Accuracy:\", accuracy_cnn)\n",
    "print(\"Precision:\", precision_cnn)\n",
    "print(\"F1-score:\", f1_score_cnn)\n",
    "print(\"Recall:\", recall_cnn)\n",
    "print(\"MCC:\", mcc_cnn)"
   ]
  }
 ],
 "metadata": {
  "kernelspec": {
   "display_name": "base",
   "language": "python",
   "name": "python3"
  },
  "language_info": {
   "codemirror_mode": {
    "name": "ipython",
    "version": 3
   },
   "file_extension": ".py",
   "mimetype": "text/x-python",
   "name": "python",
   "nbconvert_exporter": "python",
   "pygments_lexer": "ipython3",
   "version": "3.11.4"
  },
  "orig_nbformat": 4
 },
 "nbformat": 4,
 "nbformat_minor": 2
}
