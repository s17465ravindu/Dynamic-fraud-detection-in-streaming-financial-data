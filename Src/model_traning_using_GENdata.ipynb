{
 "cells": [
  {
   "cell_type": "code",
   "execution_count": 2,
   "metadata": {},
   "outputs": [],
   "source": [
    "import pandas as pd\n",
    "import numpy as np\n",
    "from sklearn.preprocessing import StandardScaler\n",
    "from imblearn.combine import SMOTETomek\n",
    "from sklearn.model_selection import train_test_split\n",
    "from sklearn.linear_model import LogisticRegression\n",
    "from sklearn.svm import SVC\n",
    "from sklearn.tree import DecisionTreeClassifier\n",
    "from sklearn.metrics import accuracy_score, precision_score, recall_score, f1_score, matthews_corrcoef\n",
    "from sklearn.model_selection import StratifiedKFold\n",
    "import tensorflow as tf\n",
    "import matplotlib.pyplot as plt\n",
    "import seaborn as sns\n",
    "from sklearn.metrics import confusion_matrix\n",
    "from sklearn.model_selection import GridSearchCV"
   ]
  },
  {
   "cell_type": "code",
   "execution_count": 4,
   "metadata": {},
   "outputs": [
    {
     "name": "stdout",
     "output_type": "stream",
     "text": [
      "Num GPus Available:  0\n"
     ]
    }
   ],
   "source": [
    "print(\"Num GPus Available: \", len(tf.config.experimental.list_physical_devices('GPU')))"
   ]
  },
  {
   "cell_type": "markdown",
   "metadata": {},
   "source": [
    "### Model Training Using Generated Data"
   ]
  },
  {
   "cell_type": "code",
   "execution_count": 5,
   "metadata": {},
   "outputs": [],
   "source": [
    "df = pd.read_csv(r'D:\\Uni Docs\\DSC4996\\Dynamic_fraud_detection_system\\Data\\generated_df.csv')"
   ]
  },
  {
   "cell_type": "code",
   "execution_count": 6,
   "metadata": {},
   "outputs": [
    {
     "data": {
      "text/html": [
       "<div>\n",
       "<style scoped>\n",
       "    .dataframe tbody tr th:only-of-type {\n",
       "        vertical-align: middle;\n",
       "    }\n",
       "\n",
       "    .dataframe tbody tr th {\n",
       "        vertical-align: top;\n",
       "    }\n",
       "\n",
       "    .dataframe thead th {\n",
       "        text-align: right;\n",
       "    }\n",
       "</style>\n",
       "<table border=\"1\" class=\"dataframe\">\n",
       "  <thead>\n",
       "    <tr style=\"text-align: right;\">\n",
       "      <th></th>\n",
       "      <th>Time</th>\n",
       "      <th>V1</th>\n",
       "      <th>V2</th>\n",
       "      <th>V3</th>\n",
       "      <th>V4</th>\n",
       "      <th>V5</th>\n",
       "      <th>V6</th>\n",
       "      <th>V7</th>\n",
       "      <th>V8</th>\n",
       "      <th>V9</th>\n",
       "      <th>...</th>\n",
       "      <th>V21</th>\n",
       "      <th>V22</th>\n",
       "      <th>V23</th>\n",
       "      <th>V24</th>\n",
       "      <th>V25</th>\n",
       "      <th>V26</th>\n",
       "      <th>V27</th>\n",
       "      <th>V28</th>\n",
       "      <th>Amount</th>\n",
       "      <th>Class</th>\n",
       "    </tr>\n",
       "  </thead>\n",
       "  <tbody>\n",
       "    <tr>\n",
       "      <th>0</th>\n",
       "      <td>-1.124115</td>\n",
       "      <td>-1.599393</td>\n",
       "      <td>-0.149914</td>\n",
       "      <td>2.109682</td>\n",
       "      <td>0.038543</td>\n",
       "      <td>0.595675</td>\n",
       "      <td>0.644721</td>\n",
       "      <td>0.317964</td>\n",
       "      <td>-0.369205</td>\n",
       "      <td>1.019132</td>\n",
       "      <td>...</td>\n",
       "      <td>-0.249379</td>\n",
       "      <td>0.298205</td>\n",
       "      <td>0.246104</td>\n",
       "      <td>-0.714229</td>\n",
       "      <td>-0.171008</td>\n",
       "      <td>0.274035</td>\n",
       "      <td>-0.646160</td>\n",
       "      <td>-0.378601</td>\n",
       "      <td>-0.306242</td>\n",
       "      <td>0</td>\n",
       "    </tr>\n",
       "    <tr>\n",
       "      <th>1</th>\n",
       "      <td>-0.140221</td>\n",
       "      <td>-0.077036</td>\n",
       "      <td>0.114725</td>\n",
       "      <td>-0.068618</td>\n",
       "      <td>0.045462</td>\n",
       "      <td>-0.106829</td>\n",
       "      <td>0.094702</td>\n",
       "      <td>-0.111777</td>\n",
       "      <td>-0.072793</td>\n",
       "      <td>-0.062311</td>\n",
       "      <td>...</td>\n",
       "      <td>-0.019231</td>\n",
       "      <td>-0.002653</td>\n",
       "      <td>0.107842</td>\n",
       "      <td>-0.052991</td>\n",
       "      <td>-0.230395</td>\n",
       "      <td>-0.069105</td>\n",
       "      <td>-0.124035</td>\n",
       "      <td>-0.172561</td>\n",
       "      <td>-0.072274</td>\n",
       "      <td>1</td>\n",
       "    </tr>\n",
       "    <tr>\n",
       "      <th>2</th>\n",
       "      <td>-0.947813</td>\n",
       "      <td>-3.226223</td>\n",
       "      <td>-3.263305</td>\n",
       "      <td>-1.845165</td>\n",
       "      <td>0.003520</td>\n",
       "      <td>-4.396491</td>\n",
       "      <td>1.738821</td>\n",
       "      <td>5.760154</td>\n",
       "      <td>-0.029454</td>\n",
       "      <td>-0.901879</td>\n",
       "      <td>...</td>\n",
       "      <td>0.983785</td>\n",
       "      <td>0.114422</td>\n",
       "      <td>3.552622</td>\n",
       "      <td>-0.124398</td>\n",
       "      <td>0.141898</td>\n",
       "      <td>0.793311</td>\n",
       "      <td>-0.359761</td>\n",
       "      <td>0.257221</td>\n",
       "      <td>5.835037</td>\n",
       "      <td>0</td>\n",
       "    </tr>\n",
       "    <tr>\n",
       "      <th>3</th>\n",
       "      <td>0.521871</td>\n",
       "      <td>1.874811</td>\n",
       "      <td>-0.451824</td>\n",
       "      <td>-1.223864</td>\n",
       "      <td>0.202895</td>\n",
       "      <td>0.597169</td>\n",
       "      <td>1.184379</td>\n",
       "      <td>-0.439232</td>\n",
       "      <td>0.323480</td>\n",
       "      <td>0.519073</td>\n",
       "      <td>...</td>\n",
       "      <td>0.433782</td>\n",
       "      <td>1.543418</td>\n",
       "      <td>-0.054433</td>\n",
       "      <td>-1.532265</td>\n",
       "      <td>-0.004131</td>\n",
       "      <td>0.728989</td>\n",
       "      <td>0.002979</td>\n",
       "      <td>-0.084599</td>\n",
       "      <td>-0.256801</td>\n",
       "      <td>0</td>\n",
       "    </tr>\n",
       "    <tr>\n",
       "      <th>4</th>\n",
       "      <td>-1.136310</td>\n",
       "      <td>-1.142740</td>\n",
       "      <td>1.468732</td>\n",
       "      <td>0.241103</td>\n",
       "      <td>0.625281</td>\n",
       "      <td>0.338581</td>\n",
       "      <td>0.776647</td>\n",
       "      <td>-0.039810</td>\n",
       "      <td>0.842324</td>\n",
       "      <td>-0.265041</td>\n",
       "      <td>...</td>\n",
       "      <td>0.089044</td>\n",
       "      <td>0.369480</td>\n",
       "      <td>-0.235014</td>\n",
       "      <td>-1.353952</td>\n",
       "      <td>0.013564</td>\n",
       "      <td>-0.087556</td>\n",
       "      <td>0.501524</td>\n",
       "      <td>0.251930</td>\n",
       "      <td>-0.319940</td>\n",
       "      <td>0</td>\n",
       "    </tr>\n",
       "    <tr>\n",
       "      <th>...</th>\n",
       "      <td>...</td>\n",
       "      <td>...</td>\n",
       "      <td>...</td>\n",
       "      <td>...</td>\n",
       "      <td>...</td>\n",
       "      <td>...</td>\n",
       "      <td>...</td>\n",
       "      <td>...</td>\n",
       "      <td>...</td>\n",
       "      <td>...</td>\n",
       "      <td>...</td>\n",
       "      <td>...</td>\n",
       "      <td>...</td>\n",
       "      <td>...</td>\n",
       "      <td>...</td>\n",
       "      <td>...</td>\n",
       "      <td>...</td>\n",
       "      <td>...</td>\n",
       "      <td>...</td>\n",
       "      <td>...</td>\n",
       "      <td>...</td>\n",
       "    </tr>\n",
       "    <tr>\n",
       "      <th>368721</th>\n",
       "      <td>1.360712</td>\n",
       "      <td>0.149260</td>\n",
       "      <td>0.988698</td>\n",
       "      <td>-0.605170</td>\n",
       "      <td>-0.788264</td>\n",
       "      <td>1.238822</td>\n",
       "      <td>-0.203064</td>\n",
       "      <td>0.861209</td>\n",
       "      <td>0.067349</td>\n",
       "      <td>-0.279204</td>\n",
       "      <td>...</td>\n",
       "      <td>-0.326673</td>\n",
       "      <td>-0.816542</td>\n",
       "      <td>0.008957</td>\n",
       "      <td>-0.010456</td>\n",
       "      <td>-0.377837</td>\n",
       "      <td>0.128193</td>\n",
       "      <td>0.219217</td>\n",
       "      <td>0.068558</td>\n",
       "      <td>-0.349773</td>\n",
       "      <td>0</td>\n",
       "    </tr>\n",
       "    <tr>\n",
       "      <th>368722</th>\n",
       "      <td>-0.144409</td>\n",
       "      <td>-0.056656</td>\n",
       "      <td>0.148645</td>\n",
       "      <td>-0.104169</td>\n",
       "      <td>0.046285</td>\n",
       "      <td>-0.127849</td>\n",
       "      <td>-0.003682</td>\n",
       "      <td>-0.101806</td>\n",
       "      <td>-0.062445</td>\n",
       "      <td>-0.060322</td>\n",
       "      <td>...</td>\n",
       "      <td>0.030523</td>\n",
       "      <td>-0.052311</td>\n",
       "      <td>0.109520</td>\n",
       "      <td>-0.045674</td>\n",
       "      <td>-0.214116</td>\n",
       "      <td>-0.088019</td>\n",
       "      <td>-0.053956</td>\n",
       "      <td>-0.185627</td>\n",
       "      <td>-0.087897</td>\n",
       "      <td>1</td>\n",
       "    </tr>\n",
       "    <tr>\n",
       "      <th>368723</th>\n",
       "      <td>-0.312295</td>\n",
       "      <td>1.259310</td>\n",
       "      <td>-0.049484</td>\n",
       "      <td>-0.721776</td>\n",
       "      <td>0.071903</td>\n",
       "      <td>1.864771</td>\n",
       "      <td>3.635628</td>\n",
       "      <td>-0.821682</td>\n",
       "      <td>0.929256</td>\n",
       "      <td>0.128685</td>\n",
       "      <td>...</td>\n",
       "      <td>0.070189</td>\n",
       "      <td>0.104264</td>\n",
       "      <td>-0.107993</td>\n",
       "      <td>1.004823</td>\n",
       "      <td>0.674600</td>\n",
       "      <td>-0.275199</td>\n",
       "      <td>0.045933</td>\n",
       "      <td>0.025074</td>\n",
       "      <td>-0.335356</td>\n",
       "      <td>0</td>\n",
       "    </tr>\n",
       "    <tr>\n",
       "      <th>368724</th>\n",
       "      <td>-0.132160</td>\n",
       "      <td>1.982903</td>\n",
       "      <td>-0.134427</td>\n",
       "      <td>-1.161183</td>\n",
       "      <td>0.472515</td>\n",
       "      <td>-0.043755</td>\n",
       "      <td>-1.080473</td>\n",
       "      <td>0.306983</td>\n",
       "      <td>-0.373167</td>\n",
       "      <td>0.454594</td>\n",
       "      <td>...</td>\n",
       "      <td>-0.212230</td>\n",
       "      <td>-0.472417</td>\n",
       "      <td>0.248672</td>\n",
       "      <td>0.025584</td>\n",
       "      <td>-0.195097</td>\n",
       "      <td>0.272711</td>\n",
       "      <td>-0.071660</td>\n",
       "      <td>-0.055715</td>\n",
       "      <td>-0.195658</td>\n",
       "      <td>0</td>\n",
       "    </tr>\n",
       "    <tr>\n",
       "      <th>368725</th>\n",
       "      <td>-0.384429</td>\n",
       "      <td>-0.465150</td>\n",
       "      <td>0.818433</td>\n",
       "      <td>1.326391</td>\n",
       "      <td>-1.345201</td>\n",
       "      <td>0.584115</td>\n",
       "      <td>-0.683284</td>\n",
       "      <td>0.856022</td>\n",
       "      <td>-0.178265</td>\n",
       "      <td>-0.537311</td>\n",
       "      <td>...</td>\n",
       "      <td>-0.235506</td>\n",
       "      <td>-0.719605</td>\n",
       "      <td>-0.290143</td>\n",
       "      <td>-0.387924</td>\n",
       "      <td>0.413861</td>\n",
       "      <td>0.813386</td>\n",
       "      <td>-0.130873</td>\n",
       "      <td>-0.047641</td>\n",
       "      <td>-0.353327</td>\n",
       "      <td>0</td>\n",
       "    </tr>\n",
       "  </tbody>\n",
       "</table>\n",
       "<p>368726 rows × 31 columns</p>\n",
       "</div>"
      ],
      "text/plain": [
       "            Time        V1        V2        V3        V4        V5        V6  \\\n",
       "0      -1.124115 -1.599393 -0.149914  2.109682  0.038543  0.595675  0.644721   \n",
       "1      -0.140221 -0.077036  0.114725 -0.068618  0.045462 -0.106829  0.094702   \n",
       "2      -0.947813 -3.226223 -3.263305 -1.845165  0.003520 -4.396491  1.738821   \n",
       "3       0.521871  1.874811 -0.451824 -1.223864  0.202895  0.597169  1.184379   \n",
       "4      -1.136310 -1.142740  1.468732  0.241103  0.625281  0.338581  0.776647   \n",
       "...          ...       ...       ...       ...       ...       ...       ...   \n",
       "368721  1.360712  0.149260  0.988698 -0.605170 -0.788264  1.238822 -0.203064   \n",
       "368722 -0.144409 -0.056656  0.148645 -0.104169  0.046285 -0.127849 -0.003682   \n",
       "368723 -0.312295  1.259310 -0.049484 -0.721776  0.071903  1.864771  3.635628   \n",
       "368724 -0.132160  1.982903 -0.134427 -1.161183  0.472515 -0.043755 -1.080473   \n",
       "368725 -0.384429 -0.465150  0.818433  1.326391 -1.345201  0.584115 -0.683284   \n",
       "\n",
       "              V7        V8        V9  ...       V21       V22       V23  \\\n",
       "0       0.317964 -0.369205  1.019132  ... -0.249379  0.298205  0.246104   \n",
       "1      -0.111777 -0.072793 -0.062311  ... -0.019231 -0.002653  0.107842   \n",
       "2       5.760154 -0.029454 -0.901879  ...  0.983785  0.114422  3.552622   \n",
       "3      -0.439232  0.323480  0.519073  ...  0.433782  1.543418 -0.054433   \n",
       "4      -0.039810  0.842324 -0.265041  ...  0.089044  0.369480 -0.235014   \n",
       "...          ...       ...       ...  ...       ...       ...       ...   \n",
       "368721  0.861209  0.067349 -0.279204  ... -0.326673 -0.816542  0.008957   \n",
       "368722 -0.101806 -0.062445 -0.060322  ...  0.030523 -0.052311  0.109520   \n",
       "368723 -0.821682  0.929256  0.128685  ...  0.070189  0.104264 -0.107993   \n",
       "368724  0.306983 -0.373167  0.454594  ... -0.212230 -0.472417  0.248672   \n",
       "368725  0.856022 -0.178265 -0.537311  ... -0.235506 -0.719605 -0.290143   \n",
       "\n",
       "             V24       V25       V26       V27       V28    Amount  Class  \n",
       "0      -0.714229 -0.171008  0.274035 -0.646160 -0.378601 -0.306242      0  \n",
       "1      -0.052991 -0.230395 -0.069105 -0.124035 -0.172561 -0.072274      1  \n",
       "2      -0.124398  0.141898  0.793311 -0.359761  0.257221  5.835037      0  \n",
       "3      -1.532265 -0.004131  0.728989  0.002979 -0.084599 -0.256801      0  \n",
       "4      -1.353952  0.013564 -0.087556  0.501524  0.251930 -0.319940      0  \n",
       "...          ...       ...       ...       ...       ...       ...    ...  \n",
       "368721 -0.010456 -0.377837  0.128193  0.219217  0.068558 -0.349773      0  \n",
       "368722 -0.045674 -0.214116 -0.088019 -0.053956 -0.185627 -0.087897      1  \n",
       "368723  1.004823  0.674600 -0.275199  0.045933  0.025074 -0.335356      0  \n",
       "368724  0.025584 -0.195097  0.272711 -0.071660 -0.055715 -0.195658      0  \n",
       "368725 -0.387924  0.413861  0.813386 -0.130873 -0.047641 -0.353327      0  \n",
       "\n",
       "[368726 rows x 31 columns]"
      ]
     },
     "execution_count": 6,
     "metadata": {},
     "output_type": "execute_result"
    }
   ],
   "source": [
    "df"
   ]
  },
  {
   "cell_type": "code",
   "execution_count": 7,
   "metadata": {},
   "outputs": [
    {
     "data": {
      "text/plain": [
       "Class\n",
       "0    283253\n",
       "1     85473\n",
       "Name: count, dtype: int64"
      ]
     },
     "execution_count": 7,
     "metadata": {},
     "output_type": "execute_result"
    }
   ],
   "source": [
    "df['Class'].value_counts()"
   ]
  },
  {
   "cell_type": "code",
   "execution_count": 8,
   "metadata": {},
   "outputs": [],
   "source": [
    "fraud = df[df['Class']==1]\n",
    "genuine = df[df['Class']==0]"
   ]
  },
  {
   "cell_type": "code",
   "execution_count": 10,
   "metadata": {},
   "outputs": [],
   "source": [
    "legit = genuine.sample(199437)"
   ]
  },
  {
   "cell_type": "code",
   "execution_count": 12,
   "metadata": {},
   "outputs": [],
   "source": [
    "df_balanced = pd.concat([fraud,legit])\n",
    "df_balanced = df_balanced.sample(frac=1, random_state=42)"
   ]
  },
  {
   "cell_type": "code",
   "execution_count": 13,
   "metadata": {},
   "outputs": [
    {
     "data": {
      "text/plain": [
       "Class\n",
       "0    199437\n",
       "1     85473\n",
       "Name: count, dtype: int64"
      ]
     },
     "execution_count": 13,
     "metadata": {},
     "output_type": "execute_result"
    }
   ],
   "source": [
    "df_balanced['Class'].value_counts()"
   ]
  },
  {
   "cell_type": "code",
   "execution_count": 14,
   "metadata": {},
   "outputs": [],
   "source": [
    "df_balanced.to_csv(r'D:\\Uni Docs\\DSC4996\\Dynamic_fraud_detection_system\\Data\\Dataset03.csv') "
   ]
  },
  {
   "cell_type": "code",
   "execution_count": 15,
   "metadata": {},
   "outputs": [],
   "source": [
    "df_balanced = pd.read_csv(r'D:\\Uni Docs\\DSC4996\\Dynamic_fraud_detection_system\\Data\\Dataset03.csv')"
   ]
  },
  {
   "cell_type": "code",
   "execution_count": 16,
   "metadata": {},
   "outputs": [],
   "source": [
    "df_balanced = df_balanced.drop('Unnamed: 0',axis=1)"
   ]
  },
  {
   "cell_type": "code",
   "execution_count": 17,
   "metadata": {},
   "outputs": [],
   "source": [
    "features = df_balanced.drop('Class',axis=1)\n",
    "target = df_balanced['Class']"
   ]
  },
  {
   "cell_type": "code",
   "execution_count": 18,
   "metadata": {},
   "outputs": [],
   "source": [
    "X_train, X_test, y_train, y_test = train_test_split(features, target, test_size = 0.3, random_state=42)"
   ]
  },
  {
   "cell_type": "code",
   "execution_count": 19,
   "metadata": {},
   "outputs": [
    {
     "data": {
      "text/plain": [
       "((199437, 30), (85473, 30))"
      ]
     },
     "execution_count": 19,
     "metadata": {},
     "output_type": "execute_result"
    }
   ],
   "source": [
    "X_train.shape,X_test.shape"
   ]
  },
  {
   "cell_type": "markdown",
   "metadata": {},
   "source": [
    "#### Logistic Regression Model"
   ]
  },
  {
   "cell_type": "code",
   "execution_count": 20,
   "metadata": {},
   "outputs": [],
   "source": [
    "#the hyperparameters to tune\n",
    "param_grid = {\n",
    "    'C': [0.001, 0.01, 0.1, 1, 10],\n",
    "    'solver': ['liblinear', 'lbfgs'],\n",
    "    'max_iter':[1000,2000,5000]\n",
    "}"
   ]
  },
  {
   "cell_type": "code",
   "execution_count": 21,
   "metadata": {},
   "outputs": [],
   "source": [
    "# Create a GridSearchCV object\n",
    "gscv = GridSearchCV(LogisticRegression(), param_grid, cv=5)"
   ]
  },
  {
   "cell_type": "code",
   "execution_count": 22,
   "metadata": {},
   "outputs": [
    {
     "data": {
      "text/html": [
       "<style>#sk-container-id-1 {color: black;}#sk-container-id-1 pre{padding: 0;}#sk-container-id-1 div.sk-toggleable {background-color: white;}#sk-container-id-1 label.sk-toggleable__label {cursor: pointer;display: block;width: 100%;margin-bottom: 0;padding: 0.3em;box-sizing: border-box;text-align: center;}#sk-container-id-1 label.sk-toggleable__label-arrow:before {content: \"▸\";float: left;margin-right: 0.25em;color: #696969;}#sk-container-id-1 label.sk-toggleable__label-arrow:hover:before {color: black;}#sk-container-id-1 div.sk-estimator:hover label.sk-toggleable__label-arrow:before {color: black;}#sk-container-id-1 div.sk-toggleable__content {max-height: 0;max-width: 0;overflow: hidden;text-align: left;background-color: #f0f8ff;}#sk-container-id-1 div.sk-toggleable__content pre {margin: 0.2em;color: black;border-radius: 0.25em;background-color: #f0f8ff;}#sk-container-id-1 input.sk-toggleable__control:checked~div.sk-toggleable__content {max-height: 200px;max-width: 100%;overflow: auto;}#sk-container-id-1 input.sk-toggleable__control:checked~label.sk-toggleable__label-arrow:before {content: \"▾\";}#sk-container-id-1 div.sk-estimator input.sk-toggleable__control:checked~label.sk-toggleable__label {background-color: #d4ebff;}#sk-container-id-1 div.sk-label input.sk-toggleable__control:checked~label.sk-toggleable__label {background-color: #d4ebff;}#sk-container-id-1 input.sk-hidden--visually {border: 0;clip: rect(1px 1px 1px 1px);clip: rect(1px, 1px, 1px, 1px);height: 1px;margin: -1px;overflow: hidden;padding: 0;position: absolute;width: 1px;}#sk-container-id-1 div.sk-estimator {font-family: monospace;background-color: #f0f8ff;border: 1px dotted black;border-radius: 0.25em;box-sizing: border-box;margin-bottom: 0.5em;}#sk-container-id-1 div.sk-estimator:hover {background-color: #d4ebff;}#sk-container-id-1 div.sk-parallel-item::after {content: \"\";width: 100%;border-bottom: 1px solid gray;flex-grow: 1;}#sk-container-id-1 div.sk-label:hover label.sk-toggleable__label {background-color: #d4ebff;}#sk-container-id-1 div.sk-serial::before {content: \"\";position: absolute;border-left: 1px solid gray;box-sizing: border-box;top: 0;bottom: 0;left: 50%;z-index: 0;}#sk-container-id-1 div.sk-serial {display: flex;flex-direction: column;align-items: center;background-color: white;padding-right: 0.2em;padding-left: 0.2em;position: relative;}#sk-container-id-1 div.sk-item {position: relative;z-index: 1;}#sk-container-id-1 div.sk-parallel {display: flex;align-items: stretch;justify-content: center;background-color: white;position: relative;}#sk-container-id-1 div.sk-item::before, #sk-container-id-1 div.sk-parallel-item::before {content: \"\";position: absolute;border-left: 1px solid gray;box-sizing: border-box;top: 0;bottom: 0;left: 50%;z-index: -1;}#sk-container-id-1 div.sk-parallel-item {display: flex;flex-direction: column;z-index: 1;position: relative;background-color: white;}#sk-container-id-1 div.sk-parallel-item:first-child::after {align-self: flex-end;width: 50%;}#sk-container-id-1 div.sk-parallel-item:last-child::after {align-self: flex-start;width: 50%;}#sk-container-id-1 div.sk-parallel-item:only-child::after {width: 0;}#sk-container-id-1 div.sk-dashed-wrapped {border: 1px dashed gray;margin: 0 0.4em 0.5em 0.4em;box-sizing: border-box;padding-bottom: 0.4em;background-color: white;}#sk-container-id-1 div.sk-label label {font-family: monospace;font-weight: bold;display: inline-block;line-height: 1.2em;}#sk-container-id-1 div.sk-label-container {text-align: center;}#sk-container-id-1 div.sk-container {/* jupyter's `normalize.less` sets `[hidden] { display: none; }` but bootstrap.min.css set `[hidden] { display: none !important; }` so we also need the `!important` here to be able to override the default hidden behavior on the sphinx rendered scikit-learn.org. See: https://github.com/scikit-learn/scikit-learn/issues/21755 */display: inline-block !important;position: relative;}#sk-container-id-1 div.sk-text-repr-fallback {display: none;}</style><div id=\"sk-container-id-1\" class=\"sk-top-container\"><div class=\"sk-text-repr-fallback\"><pre>GridSearchCV(cv=5, estimator=LogisticRegression(),\n",
       "             param_grid={&#x27;C&#x27;: [0.001, 0.01, 0.1, 1, 10],\n",
       "                         &#x27;max_iter&#x27;: [1000, 2000, 5000],\n",
       "                         &#x27;solver&#x27;: [&#x27;liblinear&#x27;, &#x27;lbfgs&#x27;]})</pre><b>In a Jupyter environment, please rerun this cell to show the HTML representation or trust the notebook. <br />On GitHub, the HTML representation is unable to render, please try loading this page with nbviewer.org.</b></div><div class=\"sk-container\" hidden><div class=\"sk-item sk-dashed-wrapped\"><div class=\"sk-label-container\"><div class=\"sk-label sk-toggleable\"><input class=\"sk-toggleable__control sk-hidden--visually\" id=\"sk-estimator-id-1\" type=\"checkbox\" ><label for=\"sk-estimator-id-1\" class=\"sk-toggleable__label sk-toggleable__label-arrow\">GridSearchCV</label><div class=\"sk-toggleable__content\"><pre>GridSearchCV(cv=5, estimator=LogisticRegression(),\n",
       "             param_grid={&#x27;C&#x27;: [0.001, 0.01, 0.1, 1, 10],\n",
       "                         &#x27;max_iter&#x27;: [1000, 2000, 5000],\n",
       "                         &#x27;solver&#x27;: [&#x27;liblinear&#x27;, &#x27;lbfgs&#x27;]})</pre></div></div></div><div class=\"sk-parallel\"><div class=\"sk-parallel-item\"><div class=\"sk-item\"><div class=\"sk-label-container\"><div class=\"sk-label sk-toggleable\"><input class=\"sk-toggleable__control sk-hidden--visually\" id=\"sk-estimator-id-2\" type=\"checkbox\" ><label for=\"sk-estimator-id-2\" class=\"sk-toggleable__label sk-toggleable__label-arrow\">estimator: LogisticRegression</label><div class=\"sk-toggleable__content\"><pre>LogisticRegression()</pre></div></div></div><div class=\"sk-serial\"><div class=\"sk-item\"><div class=\"sk-estimator sk-toggleable\"><input class=\"sk-toggleable__control sk-hidden--visually\" id=\"sk-estimator-id-3\" type=\"checkbox\" ><label for=\"sk-estimator-id-3\" class=\"sk-toggleable__label sk-toggleable__label-arrow\">LogisticRegression</label><div class=\"sk-toggleable__content\"><pre>LogisticRegression()</pre></div></div></div></div></div></div></div></div></div></div>"
      ],
      "text/plain": [
       "GridSearchCV(cv=5, estimator=LogisticRegression(),\n",
       "             param_grid={'C': [0.001, 0.01, 0.1, 1, 10],\n",
       "                         'max_iter': [1000, 2000, 5000],\n",
       "                         'solver': ['liblinear', 'lbfgs']})"
      ]
     },
     "execution_count": 22,
     "metadata": {},
     "output_type": "execute_result"
    }
   ],
   "source": [
    "# Fit the GridSearchCV object to the training data\n",
    "gscv.fit(X_train, y_train)"
   ]
  },
  {
   "cell_type": "code",
   "execution_count": 23,
   "metadata": {},
   "outputs": [],
   "source": [
    "best_params = gscv.best_params_"
   ]
  },
  {
   "cell_type": "code",
   "execution_count": 24,
   "metadata": {},
   "outputs": [
    {
     "data": {
      "text/html": [
       "<style>#sk-container-id-2 {color: black;}#sk-container-id-2 pre{padding: 0;}#sk-container-id-2 div.sk-toggleable {background-color: white;}#sk-container-id-2 label.sk-toggleable__label {cursor: pointer;display: block;width: 100%;margin-bottom: 0;padding: 0.3em;box-sizing: border-box;text-align: center;}#sk-container-id-2 label.sk-toggleable__label-arrow:before {content: \"▸\";float: left;margin-right: 0.25em;color: #696969;}#sk-container-id-2 label.sk-toggleable__label-arrow:hover:before {color: black;}#sk-container-id-2 div.sk-estimator:hover label.sk-toggleable__label-arrow:before {color: black;}#sk-container-id-2 div.sk-toggleable__content {max-height: 0;max-width: 0;overflow: hidden;text-align: left;background-color: #f0f8ff;}#sk-container-id-2 div.sk-toggleable__content pre {margin: 0.2em;color: black;border-radius: 0.25em;background-color: #f0f8ff;}#sk-container-id-2 input.sk-toggleable__control:checked~div.sk-toggleable__content {max-height: 200px;max-width: 100%;overflow: auto;}#sk-container-id-2 input.sk-toggleable__control:checked~label.sk-toggleable__label-arrow:before {content: \"▾\";}#sk-container-id-2 div.sk-estimator input.sk-toggleable__control:checked~label.sk-toggleable__label {background-color: #d4ebff;}#sk-container-id-2 div.sk-label input.sk-toggleable__control:checked~label.sk-toggleable__label {background-color: #d4ebff;}#sk-container-id-2 input.sk-hidden--visually {border: 0;clip: rect(1px 1px 1px 1px);clip: rect(1px, 1px, 1px, 1px);height: 1px;margin: -1px;overflow: hidden;padding: 0;position: absolute;width: 1px;}#sk-container-id-2 div.sk-estimator {font-family: monospace;background-color: #f0f8ff;border: 1px dotted black;border-radius: 0.25em;box-sizing: border-box;margin-bottom: 0.5em;}#sk-container-id-2 div.sk-estimator:hover {background-color: #d4ebff;}#sk-container-id-2 div.sk-parallel-item::after {content: \"\";width: 100%;border-bottom: 1px solid gray;flex-grow: 1;}#sk-container-id-2 div.sk-label:hover label.sk-toggleable__label {background-color: #d4ebff;}#sk-container-id-2 div.sk-serial::before {content: \"\";position: absolute;border-left: 1px solid gray;box-sizing: border-box;top: 0;bottom: 0;left: 50%;z-index: 0;}#sk-container-id-2 div.sk-serial {display: flex;flex-direction: column;align-items: center;background-color: white;padding-right: 0.2em;padding-left: 0.2em;position: relative;}#sk-container-id-2 div.sk-item {position: relative;z-index: 1;}#sk-container-id-2 div.sk-parallel {display: flex;align-items: stretch;justify-content: center;background-color: white;position: relative;}#sk-container-id-2 div.sk-item::before, #sk-container-id-2 div.sk-parallel-item::before {content: \"\";position: absolute;border-left: 1px solid gray;box-sizing: border-box;top: 0;bottom: 0;left: 50%;z-index: -1;}#sk-container-id-2 div.sk-parallel-item {display: flex;flex-direction: column;z-index: 1;position: relative;background-color: white;}#sk-container-id-2 div.sk-parallel-item:first-child::after {align-self: flex-end;width: 50%;}#sk-container-id-2 div.sk-parallel-item:last-child::after {align-self: flex-start;width: 50%;}#sk-container-id-2 div.sk-parallel-item:only-child::after {width: 0;}#sk-container-id-2 div.sk-dashed-wrapped {border: 1px dashed gray;margin: 0 0.4em 0.5em 0.4em;box-sizing: border-box;padding-bottom: 0.4em;background-color: white;}#sk-container-id-2 div.sk-label label {font-family: monospace;font-weight: bold;display: inline-block;line-height: 1.2em;}#sk-container-id-2 div.sk-label-container {text-align: center;}#sk-container-id-2 div.sk-container {/* jupyter's `normalize.less` sets `[hidden] { display: none; }` but bootstrap.min.css set `[hidden] { display: none !important; }` so we also need the `!important` here to be able to override the default hidden behavior on the sphinx rendered scikit-learn.org. See: https://github.com/scikit-learn/scikit-learn/issues/21755 */display: inline-block !important;position: relative;}#sk-container-id-2 div.sk-text-repr-fallback {display: none;}</style><div id=\"sk-container-id-2\" class=\"sk-top-container\"><div class=\"sk-text-repr-fallback\"><pre>LogisticRegression(C=0.1, max_iter=1000, solver=&#x27;liblinear&#x27;)</pre><b>In a Jupyter environment, please rerun this cell to show the HTML representation or trust the notebook. <br />On GitHub, the HTML representation is unable to render, please try loading this page with nbviewer.org.</b></div><div class=\"sk-container\" hidden><div class=\"sk-item\"><div class=\"sk-estimator sk-toggleable\"><input class=\"sk-toggleable__control sk-hidden--visually\" id=\"sk-estimator-id-4\" type=\"checkbox\" checked><label for=\"sk-estimator-id-4\" class=\"sk-toggleable__label sk-toggleable__label-arrow\">LogisticRegression</label><div class=\"sk-toggleable__content\"><pre>LogisticRegression(C=0.1, max_iter=1000, solver=&#x27;liblinear&#x27;)</pre></div></div></div></div></div>"
      ],
      "text/plain": [
       "LogisticRegression(C=0.1, max_iter=1000, solver='liblinear')"
      ]
     },
     "execution_count": 24,
     "metadata": {},
     "output_type": "execute_result"
    }
   ],
   "source": [
    "lgt = LogisticRegression(**best_params)\n",
    "lgt.fit(X_train, y_train)"
   ]
  },
  {
   "cell_type": "code",
   "execution_count": 25,
   "metadata": {},
   "outputs": [],
   "source": [
    "y_pred = lgt.predict(X_test)"
   ]
  },
  {
   "cell_type": "code",
   "execution_count": 26,
   "metadata": {},
   "outputs": [
    {
     "name": "stdout",
     "output_type": "stream",
     "text": [
      "Accuracy: 0.934341838943292\n",
      "Precision: 0.8692003225097119\n",
      "Recall: 0.9206909937888199\n",
      "F1-score: 0.8942050295969537\n",
      "MCC: 0.8473993785182331\n"
     ]
    }
   ],
   "source": [
    "accuracy_lgt = accuracy_score(y_test, y_pred)\n",
    "precision_lgt = precision_score(y_test, y_pred)\n",
    "recall_lgt = recall_score(y_test, y_pred)\n",
    "f1_score_lgt = f1_score(y_test, y_pred)\n",
    "mcc_lgt = matthews_corrcoef(y_test, y_pred)\n",
    "\n",
    "print(\"Accuracy:\", accuracy_lgt)\n",
    "print(\"Precision:\", precision_lgt)\n",
    "print(\"Recall:\", recall_lgt)\n",
    "print(\"F1-score:\", f1_score_lgt)\n",
    "print(\"MCC:\", mcc_lgt)"
   ]
  },
  {
   "cell_type": "code",
   "execution_count": 27,
   "metadata": {},
   "outputs": [
    {
     "name": "stdout",
     "output_type": "stream",
     "text": [
      "[[56144  3569]\n",
      " [ 2043 23717]]\n"
     ]
    }
   ],
   "source": [
    "cm_logit = confusion_matrix(y_test, y_pred)\n",
    "print(cm_logit)"
   ]
  },
  {
   "cell_type": "code",
   "execution_count": 29,
   "metadata": {},
   "outputs": [
    {
     "data": {
      "image/png": "[encoded data removed]",
      "text/plain": [
       "<Figure size 640x480 with 1 Axes>"
      ]
     },
     "metadata": {},
     "output_type": "display_data"
    }
   ],
   "source": [
    "sns.heatmap(cm_logit, annot=True, fmt=\"d\", cmap=\"Blues\", cbar=False,\n",
    "            xticklabels=[\"Predicted Legit\", \"Predicted Fraud\"],\n",
    "            yticklabels=[\"Actual Legit\", \"Actual Fraud\"])\n",
    "plt.title('Confusion Matrix - Logistic Regression')\n",
    "plt.xlabel('Predicted')\n",
    "plt.ylabel('Actual')\n",
    "plt.show()"
   ]
  },
  {
   "cell_type": "markdown",
   "metadata": {},
   "source": [
    "#### SVM Model"
   ]
  },
  {
   "cell_type": "code",
   "execution_count": 52,
   "metadata": {},
   "outputs": [],
   "source": [
    "param_grid_svm = {'C': [1, 10,100],  \n",
    "              'gamma': [1, 0.1, 0.01], \n",
    "              } "
   ]
  },
  {
   "cell_type": "code",
   "execution_count": 53,
   "metadata": {},
   "outputs": [],
   "source": [
    "# Create a GridSearchCV object\n",
    "gscv_svm = GridSearchCV(SVC(), param_grid_svm, cv=5)"
   ]
  },
  {
   "cell_type": "code",
   "execution_count": 54,
   "metadata": {},
   "outputs": [
    {
     "ename": "",
     "evalue": "",
     "output_type": "error",
     "traceback": [
      "\u001b[1;31mCannot execute code, session has been disposed. Please try restarting the Kernel."
     ]
    }
   ],
   "source": [
    "gscv_svm.fit(X_train, y_train) "
   ]
  },
  {
   "cell_type": "code",
   "execution_count": null,
   "metadata": {},
   "outputs": [],
   "source": [
    "best_params_svm = gscv_svm.best_params_"
   ]
  },
  {
   "cell_type": "code",
   "execution_count": 28,
   "metadata": {},
   "outputs": [
    {
     "data": {
      "text/html": [
       "<style>#sk-container-id-3 {color: black;}#sk-container-id-3 pre{padding: 0;}#sk-container-id-3 div.sk-toggleable {background-color: white;}#sk-container-id-3 label.sk-toggleable__label {cursor: pointer;display: block;width: 100%;margin-bottom: 0;padding: 0.3em;box-sizing: border-box;text-align: center;}#sk-container-id-3 label.sk-toggleable__label-arrow:before {content: \"▸\";float: left;margin-right: 0.25em;color: #696969;}#sk-container-id-3 label.sk-toggleable__label-arrow:hover:before {color: black;}#sk-container-id-3 div.sk-estimator:hover label.sk-toggleable__label-arrow:before {color: black;}#sk-container-id-3 div.sk-toggleable__content {max-height: 0;max-width: 0;overflow: hidden;text-align: left;background-color: #f0f8ff;}#sk-container-id-3 div.sk-toggleable__content pre {margin: 0.2em;color: black;border-radius: 0.25em;background-color: #f0f8ff;}#sk-container-id-3 input.sk-toggleable__control:checked~div.sk-toggleable__content {max-height: 200px;max-width: 100%;overflow: auto;}#sk-container-id-3 input.sk-toggleable__control:checked~label.sk-toggleable__label-arrow:before {content: \"▾\";}#sk-container-id-3 div.sk-estimator input.sk-toggleable__control:checked~label.sk-toggleable__label {background-color: #d4ebff;}#sk-container-id-3 div.sk-label input.sk-toggleable__control:checked~label.sk-toggleable__label {background-color: #d4ebff;}#sk-container-id-3 input.sk-hidden--visually {border: 0;clip: rect(1px 1px 1px 1px);clip: rect(1px, 1px, 1px, 1px);height: 1px;margin: -1px;overflow: hidden;padding: 0;position: absolute;width: 1px;}#sk-container-id-3 div.sk-estimator {font-family: monospace;background-color: #f0f8ff;border: 1px dotted black;border-radius: 0.25em;box-sizing: border-box;margin-bottom: 0.5em;}#sk-container-id-3 div.sk-estimator:hover {background-color: #d4ebff;}#sk-container-id-3 div.sk-parallel-item::after {content: \"\";width: 100%;border-bottom: 1px solid gray;flex-grow: 1;}#sk-container-id-3 div.sk-label:hover label.sk-toggleable__label {background-color: #d4ebff;}#sk-container-id-3 div.sk-serial::before {content: \"\";position: absolute;border-left: 1px solid gray;box-sizing: border-box;top: 0;bottom: 0;left: 50%;z-index: 0;}#sk-container-id-3 div.sk-serial {display: flex;flex-direction: column;align-items: center;background-color: white;padding-right: 0.2em;padding-left: 0.2em;position: relative;}#sk-container-id-3 div.sk-item {position: relative;z-index: 1;}#sk-container-id-3 div.sk-parallel {display: flex;align-items: stretch;justify-content: center;background-color: white;position: relative;}#sk-container-id-3 div.sk-item::before, #sk-container-id-3 div.sk-parallel-item::before {content: \"\";position: absolute;border-left: 1px solid gray;box-sizing: border-box;top: 0;bottom: 0;left: 50%;z-index: -1;}#sk-container-id-3 div.sk-parallel-item {display: flex;flex-direction: column;z-index: 1;position: relative;background-color: white;}#sk-container-id-3 div.sk-parallel-item:first-child::after {align-self: flex-end;width: 50%;}#sk-container-id-3 div.sk-parallel-item:last-child::after {align-self: flex-start;width: 50%;}#sk-container-id-3 div.sk-parallel-item:only-child::after {width: 0;}#sk-container-id-3 div.sk-dashed-wrapped {border: 1px dashed gray;margin: 0 0.4em 0.5em 0.4em;box-sizing: border-box;padding-bottom: 0.4em;background-color: white;}#sk-container-id-3 div.sk-label label {font-family: monospace;font-weight: bold;display: inline-block;line-height: 1.2em;}#sk-container-id-3 div.sk-label-container {text-align: center;}#sk-container-id-3 div.sk-container {/* jupyter's `normalize.less` sets `[hidden] { display: none; }` but bootstrap.min.css set `[hidden] { display: none !important; }` so we also need the `!important` here to be able to override the default hidden behavior on the sphinx rendered scikit-learn.org. See: https://github.com/scikit-learn/scikit-learn/issues/21755 */display: inline-block !important;position: relative;}#sk-container-id-3 div.sk-text-repr-fallback {display: none;}</style><div id=\"sk-container-id-3\" class=\"sk-top-container\"><div class=\"sk-text-repr-fallback\"><pre>SVC(C=100, gamma=0.001)</pre><b>In a Jupyter environment, please rerun this cell to show the HTML representation or trust the notebook. <br />On GitHub, the HTML representation is unable to render, please try loading this page with nbviewer.org.</b></div><div class=\"sk-container\" hidden><div class=\"sk-item\"><div class=\"sk-estimator sk-toggleable\"><input class=\"sk-toggleable__control sk-hidden--visually\" id=\"sk-estimator-id-5\" type=\"checkbox\" checked><label for=\"sk-estimator-id-5\" class=\"sk-toggleable__label sk-toggleable__label-arrow\">SVC</label><div class=\"sk-toggleable__content\"><pre>SVC(C=100, gamma=0.001)</pre></div></div></div></div></div>"
      ],
      "text/plain": [
       "SVC(C=100, gamma=0.001)"
      ]
     },
     "execution_count": 28,
     "metadata": {},
     "output_type": "execute_result"
    }
   ],
   "source": [
    "svm = SVC(C=100, gamma=0.001)\n",
    "\n",
    "svm.fit(X_train, y_train)"
   ]
  },
  {
   "cell_type": "code",
   "execution_count": 30,
   "metadata": {},
   "outputs": [],
   "source": [
    "y_pred_svm = svm.predict(X_test)"
   ]
  },
  {
   "cell_type": "code",
   "execution_count": 32,
   "metadata": {},
   "outputs": [
    {
     "name": "stdout",
     "output_type": "stream",
     "text": [
      "Accuracy: 0.9994618183519942\n",
      "Precision: 0.9996114090308541\n",
      "Recall: 0.9986024844720497\n",
      "F1-score: 0.9991066920417913\n",
      "MCC: 0.9987218609853105\n"
     ]
    }
   ],
   "source": [
    "accuracy_svm = accuracy_score(y_test, y_pred_svm)\n",
    "precision_svm = precision_score(y_test, y_pred_svm)\n",
    "recall_svm = recall_score(y_test, y_pred_svm)\n",
    "f1_score_svm = f1_score(y_test, y_pred_svm)\n",
    "mcc_svm = matthews_corrcoef(y_test, y_pred_svm)\n",
    "\n",
    "print(\"Accuracy:\", accuracy_svm)\n",
    "print(\"Precision:\", precision_svm)\n",
    "print(\"Recall:\", recall_svm)\n",
    "print(\"F1-score:\", f1_score_svm)\n",
    "print(\"MCC:\", mcc_svm)"
   ]
  },
  {
   "cell_type": "code",
   "execution_count": 33,
   "metadata": {},
   "outputs": [
    {
     "name": "stdout",
     "output_type": "stream",
     "text": [
      "[[59703    10]\n",
      " [   36 25724]]\n"
     ]
    }
   ],
   "source": [
    "cm_svm = confusion_matrix(y_test, y_pred_svm)\n",
    "print(cm_svm)"
   ]
  },
  {
   "cell_type": "code",
   "execution_count": 34,
   "metadata": {},
   "outputs": [
    {
     "data": {
      "image/png": "[encoded data removed]",
      "text/plain": [
       "<Figure size 640x480 with 1 Axes>"
      ]
     },
     "metadata": {},
     "output_type": "display_data"
    }
   ],
   "source": [
    "sns.heatmap(cm_svm, annot=True, fmt=\"d\", cmap=\"Blues\", cbar=False,\n",
    "            xticklabels=[\"Predicted Legit\", \"Predicted Fraud\"],\n",
    "            yticklabels=[\"Actual Legit\", \"Actual Fraud\"])\n",
    "plt.title('Confusion Matrix - SVM')\n",
    "plt.xlabel('Predicted')\n",
    "plt.ylabel('Actual')\n",
    "plt.show()"
   ]
  },
  {
   "cell_type": "markdown",
   "metadata": {},
   "source": [
    "#### Decision Tree"
   ]
  },
  {
   "cell_type": "code",
   "execution_count": 35,
   "metadata": {},
   "outputs": [
    {
     "data": {
      "text/html": [
       "<style>#sk-container-id-4 {color: black;}#sk-container-id-4 pre{padding: 0;}#sk-container-id-4 div.sk-toggleable {background-color: white;}#sk-container-id-4 label.sk-toggleable__label {cursor: pointer;display: block;width: 100%;margin-bottom: 0;padding: 0.3em;box-sizing: border-box;text-align: center;}#sk-container-id-4 label.sk-toggleable__label-arrow:before {content: \"▸\";float: left;margin-right: 0.25em;color: #696969;}#sk-container-id-4 label.sk-toggleable__label-arrow:hover:before {color: black;}#sk-container-id-4 div.sk-estimator:hover label.sk-toggleable__label-arrow:before {color: black;}#sk-container-id-4 div.sk-toggleable__content {max-height: 0;max-width: 0;overflow: hidden;text-align: left;background-color: #f0f8ff;}#sk-container-id-4 div.sk-toggleable__content pre {margin: 0.2em;color: black;border-radius: 0.25em;background-color: #f0f8ff;}#sk-container-id-4 input.sk-toggleable__control:checked~div.sk-toggleable__content {max-height: 200px;max-width: 100%;overflow: auto;}#sk-container-id-4 input.sk-toggleable__control:checked~label.sk-toggleable__label-arrow:before {content: \"▾\";}#sk-container-id-4 div.sk-estimator input.sk-toggleable__control:checked~label.sk-toggleable__label {background-color: #d4ebff;}#sk-container-id-4 div.sk-label input.sk-toggleable__control:checked~label.sk-toggleable__label {background-color: #d4ebff;}#sk-container-id-4 input.sk-hidden--visually {border: 0;clip: rect(1px 1px 1px 1px);clip: rect(1px, 1px, 1px, 1px);height: 1px;margin: -1px;overflow: hidden;padding: 0;position: absolute;width: 1px;}#sk-container-id-4 div.sk-estimator {font-family: monospace;background-color: #f0f8ff;border: 1px dotted black;border-radius: 0.25em;box-sizing: border-box;margin-bottom: 0.5em;}#sk-container-id-4 div.sk-estimator:hover {background-color: #d4ebff;}#sk-container-id-4 div.sk-parallel-item::after {content: \"\";width: 100%;border-bottom: 1px solid gray;flex-grow: 1;}#sk-container-id-4 div.sk-label:hover label.sk-toggleable__label {background-color: #d4ebff;}#sk-container-id-4 div.sk-serial::before {content: \"\";position: absolute;border-left: 1px solid gray;box-sizing: border-box;top: 0;bottom: 0;left: 50%;z-index: 0;}#sk-container-id-4 div.sk-serial {display: flex;flex-direction: column;align-items: center;background-color: white;padding-right: 0.2em;padding-left: 0.2em;position: relative;}#sk-container-id-4 div.sk-item {position: relative;z-index: 1;}#sk-container-id-4 div.sk-parallel {display: flex;align-items: stretch;justify-content: center;background-color: white;position: relative;}#sk-container-id-4 div.sk-item::before, #sk-container-id-4 div.sk-parallel-item::before {content: \"\";position: absolute;border-left: 1px solid gray;box-sizing: border-box;top: 0;bottom: 0;left: 50%;z-index: -1;}#sk-container-id-4 div.sk-parallel-item {display: flex;flex-direction: column;z-index: 1;position: relative;background-color: white;}#sk-container-id-4 div.sk-parallel-item:first-child::after {align-self: flex-end;width: 50%;}#sk-container-id-4 div.sk-parallel-item:last-child::after {align-self: flex-start;width: 50%;}#sk-container-id-4 div.sk-parallel-item:only-child::after {width: 0;}#sk-container-id-4 div.sk-dashed-wrapped {border: 1px dashed gray;margin: 0 0.4em 0.5em 0.4em;box-sizing: border-box;padding-bottom: 0.4em;background-color: white;}#sk-container-id-4 div.sk-label label {font-family: monospace;font-weight: bold;display: inline-block;line-height: 1.2em;}#sk-container-id-4 div.sk-label-container {text-align: center;}#sk-container-id-4 div.sk-container {/* jupyter's `normalize.less` sets `[hidden] { display: none; }` but bootstrap.min.css set `[hidden] { display: none !important; }` so we also need the `!important` here to be able to override the default hidden behavior on the sphinx rendered scikit-learn.org. See: https://github.com/scikit-learn/scikit-learn/issues/21755 */display: inline-block !important;position: relative;}#sk-container-id-4 div.sk-text-repr-fallback {display: none;}</style><div id=\"sk-container-id-4\" class=\"sk-top-container\"><div class=\"sk-text-repr-fallback\"><pre>DecisionTreeClassifier(max_depth=3, min_samples_leaf=2, min_samples_split=10)</pre><b>In a Jupyter environment, please rerun this cell to show the HTML representation or trust the notebook. <br />On GitHub, the HTML representation is unable to render, please try loading this page with nbviewer.org.</b></div><div class=\"sk-container\" hidden><div class=\"sk-item\"><div class=\"sk-estimator sk-toggleable\"><input class=\"sk-toggleable__control sk-hidden--visually\" id=\"sk-estimator-id-6\" type=\"checkbox\" checked><label for=\"sk-estimator-id-6\" class=\"sk-toggleable__label sk-toggleable__label-arrow\">DecisionTreeClassifier</label><div class=\"sk-toggleable__content\"><pre>DecisionTreeClassifier(max_depth=3, min_samples_leaf=2, min_samples_split=10)</pre></div></div></div></div></div>"
      ],
      "text/plain": [
       "DecisionTreeClassifier(max_depth=3, min_samples_leaf=2, min_samples_split=10)"
      ]
     },
     "execution_count": 35,
     "metadata": {},
     "output_type": "execute_result"
    }
   ],
   "source": [
    "dtree = DecisionTreeClassifier(max_depth=3, min_samples_leaf=2, min_samples_split=10)\n",
    "\n",
    "dtree.fit(X_train, y_train)"
   ]
  },
  {
   "cell_type": "code",
   "execution_count": 36,
   "metadata": {},
   "outputs": [],
   "source": [
    "y_pred_dtree = dtree.predict(X_test)"
   ]
  },
  {
   "cell_type": "code",
   "execution_count": 37,
   "metadata": {},
   "outputs": [
    {
     "name": "stdout",
     "output_type": "stream",
     "text": [
      "Accuracy: 0.9951680647689913\n",
      "Precision: 0.9970584774679374\n",
      "Recall: 0.9868788819875777\n",
      "F1-score: 0.9919425639424858\n",
      "MCC: 0.9885186281373735\n"
     ]
    }
   ],
   "source": [
    "accuracy_dtree = accuracy_score(y_test, y_pred_dtree)\n",
    "precision_dtree = precision_score(y_test, y_pred_dtree)\n",
    "recall_dtree = recall_score(y_test, y_pred_dtree)\n",
    "f1_score_dtree = f1_score(y_test, y_pred_dtree)\n",
    "mcc_dtree = matthews_corrcoef(y_test, y_pred_dtree)\n",
    "\n",
    "print(\"Accuracy:\", accuracy_dtree)\n",
    "print(\"Precision:\", precision_dtree)\n",
    "print(\"Recall:\", recall_dtree)\n",
    "print(\"F1-score:\", f1_score_dtree)\n",
    "print(\"MCC:\", mcc_dtree)"
   ]
  },
  {
   "cell_type": "code",
   "execution_count": 38,
   "metadata": {},
   "outputs": [
    {
     "name": "stdout",
     "output_type": "stream",
     "text": [
      "[[59638    75]\n",
      " [  338 25422]]\n"
     ]
    }
   ],
   "source": [
    "cm_dt = confusion_matrix(y_test, y_pred_dtree)\n",
    "print(cm_dt)"
   ]
  },
  {
   "cell_type": "code",
   "execution_count": 71,
   "metadata": {},
   "outputs": [
    {
     "data": {
      "image/png": "[encoded data removed]",
      "text/plain": [
       "<Figure size 640x480 with 1 Axes>"
      ]
     },
     "metadata": {},
     "output_type": "display_data"
    }
   ],
   "source": [
    "sns.heatmap(cm_dt, annot=True, fmt=\"d\", cmap=\"Blues\", cbar=False,\n",
    "            xticklabels=[\"Predicted Legit\", \"Predicted Fraud\"],\n",
    "            yticklabels=[\"Actual Legit\", \"Actual Fraud\"])\n",
    "plt.title('Confusion Matrix - Decision Tree')\n",
    "plt.xlabel('Predicted')\n",
    "plt.ylabel('Actual')\n",
    "plt.show()"
   ]
  },
  {
   "cell_type": "markdown",
   "metadata": {},
   "source": [
    "### CNN"
   ]
  },
  {
   "cell_type": "code",
   "execution_count": 42,
   "metadata": {},
   "outputs": [],
   "source": [
    "X_test1 = X_test\n",
    "y_test1 = y_test\n",
    "X_train1 =X_train\n",
    "y_train1 = y_train"
   ]
  },
  {
   "cell_type": "code",
   "execution_count": 43,
   "metadata": {},
   "outputs": [],
   "source": [
    "X_val2, X_test2, y_val2, y_test2 = train_test_split(X_test1, y_test1, test_size=0.5, random_state=42)"
   ]
  },
  {
   "cell_type": "code",
   "execution_count": 44,
   "metadata": {},
   "outputs": [],
   "source": [
    "X_train3 = X_train1.to_numpy()\n",
    "y_train3 = y_train1.to_numpy()\n",
    "X_val3 = X_val2.to_numpy()\n",
    "y_val3 = y_val2.to_numpy()\n",
    "X_test3 = X_test2.to_numpy()\n",
    "y_test3 = y_test2.to_numpy()"
   ]
  },
  {
   "cell_type": "code",
   "execution_count": 46,
   "metadata": {},
   "outputs": [
    {
     "data": {
      "text/plain": [
       "((199437, 30, 1), (42737, 30, 1), (42736, 30))"
      ]
     },
     "execution_count": 46,
     "metadata": {},
     "output_type": "execute_result"
    }
   ],
   "source": [
    "X_train3= X_train3.reshape(X_train3.shape[0],X_train3.shape[1],1)\n",
    "X_test3 = X_test3.reshape(X_test3.shape[0],X_test3.shape[1],1)\n",
    "X_train3.shape, X_test3.shape,X_val3.shape"
   ]
  },
  {
   "cell_type": "code",
   "execution_count": 47,
   "metadata": {},
   "outputs": [],
   "source": [
    "from keras.models import Sequential\n",
    "from keras.layers import Dense,Flatten,Conv1D,BatchNormalization,Dropout\n",
    "from keras.callbacks import EarlyStopping, ModelCheckpoint\n",
    "#from keras.wrappers.scikit_learn import KerasClassifier\n",
    "import keras_tuner\n",
    "from tensorflow import keras\n",
    "from kerastuner import RandomSearch\n",
    "from kerastuner.engine.hyperparameters import HyperParameters\n"
   ]
  },
  {
   "cell_type": "code",
   "execution_count": 48,
   "metadata": {},
   "outputs": [],
   "source": [
    "#import model\n",
    "model=Sequential()"
   ]
  },
  {
   "cell_type": "code",
   "execution_count": 49,
   "metadata": {},
   "outputs": [],
   "source": [
    "def build_model(hp):\n",
    "  model = keras.Sequential([\n",
    "    keras.layers.Conv1D(\n",
    "        filters=hp.Int('conv_1_filter', min_value=32, max_value=128, step=16),\n",
    "        kernel_size=hp.Choice('conv_1_kernel', values = [1,3,5]),\n",
    "        activation='relu',\n",
    "        input_shape= (X_train1.shape[1],1)),\n",
    "    keras.layers.BatchNormalization(),\n",
    "    keras.layers.Dropout(0.2),\n",
    "\n",
    "    keras.layers.Conv1D(\n",
    "        filters=hp.Int('conv_2_filter', min_value=32, max_value=64, step=16),\n",
    "        kernel_size=hp.Choice('conv_2_kernel', values = [1,3,5]),\n",
    "        activation='relu'),\n",
    "    keras.layers.BatchNormalization(),\n",
    "    keras.layers.Dropout(0.2),\n",
    "\n",
    "    keras.layers.Flatten(),\n",
    "    keras.layers.Dense(\n",
    "        units=hp.Int('dense_1_units', min_value=32, max_value=128, step=16),\n",
    "        activation='relu'),\n",
    "    keras.layers.Dropout(0.5),\n",
    "    keras.layers.Dense(1, activation='sigmoid')\n",
    "  ])\n",
    "\n",
    "  model.build()\n",
    "\n",
    "  model.compile(optimizer=tf.keras.optimizers.Adam(hp.Choice('learning_rate', values=[1e-2, 1e-3])),\n",
    "                loss='binary_crossentropy',\n",
    "                metrics=['accuracy'])\n",
    "\n",
    "  return model\n"
   ]
  },
  {
   "cell_type": "code",
   "execution_count": 50,
   "metadata": {},
   "outputs": [
    {
     "name": "stdout",
     "output_type": "stream",
     "text": [
      "Reloading Tuner from D:/Uni Docs/DSC4996/Dynamic_fraud_detection_system/CNN_output\\Hyperparameter Tuning of CNN\\tuner0.json\n"
     ]
    },
    {
     "data": {
      "text/plain": [
       "\"tuner = keras_tuner.RandomSearch(\\n    build_model, \\n    objective='val_loss',\\n    max_trials=5)\""
      ]
     },
     "execution_count": 50,
     "metadata": {},
     "output_type": "execute_result"
    }
   ],
   "source": [
    "tuner = keras_tuner.RandomSearch(\n",
    "    build_model,\n",
    "    objective='val_accuracy',\n",
    "    max_trials=5,\n",
    "    directory='D:/Uni Docs/DSC4996/Dynamic_fraud_detection_system/CNN_output',project_name=\"Hyperparameter Tuning of CNN\")\n",
    "\n",
    "'''tuner = keras_tuner.RandomSearch(\n",
    "    build_model, \n",
    "    objective='val_loss',\n",
    "    max_trials=5)'''"
   ]
  },
  {
   "cell_type": "code",
   "execution_count": 51,
   "metadata": {},
   "outputs": [],
   "source": [
    "tuner.search(X_train3, y_train3, epochs=20, validation_data= (X_val3, y_val3),input_shape = (X_train1.shape[1],1))\n",
    "#tuner.search(X_train1, y_train1, epochs=20, validation_split = 0.1)"
   ]
  },
  {
   "cell_type": "code",
   "execution_count": 52,
   "metadata": {},
   "outputs": [],
   "source": [
    "best_hps = tuner.get_best_hyperparameters(num_trials = 1)[0]"
   ]
  },
  {
   "cell_type": "code",
   "execution_count": 53,
   "metadata": {},
   "outputs": [],
   "source": [
    "cnn_best = tuner.hypermodel.build(best_hps)"
   ]
  },
  {
   "cell_type": "code",
   "execution_count": 54,
   "metadata": {},
   "outputs": [
    {
     "name": "stdout",
     "output_type": "stream",
     "text": [
      "Epoch 1/100\n",
      "6233/6233 [==============================] - 35s 5ms/step - loss: 0.0278 - accuracy: 0.9981 - val_loss: 0.0087 - val_accuracy: 0.9987\n",
      "Epoch 2/100\n",
      "6233/6233 [==============================] - 34s 5ms/step - loss: 0.0164 - accuracy: 0.9984 - val_loss: 0.0088 - val_accuracy: 0.9988\n",
      "Epoch 3/100\n",
      "6233/6233 [==============================] - 34s 6ms/step - loss: 0.0158 - accuracy: 0.9983 - val_loss: 0.0306 - val_accuracy: 0.9982\n",
      "Epoch 4/100\n",
      "6233/6233 [==============================] - 34s 6ms/step - loss: 0.0145 - accuracy: 0.9983 - val_loss: 0.0136 - val_accuracy: 0.9986\n",
      "Epoch 5/100\n",
      "6233/6233 [==============================] - 34s 5ms/step - loss: 0.0227 - accuracy: 0.9985 - val_loss: 0.0801 - val_accuracy: 0.9993\n",
      "Epoch 6/100\n",
      "6233/6233 [==============================] - 33s 5ms/step - loss: 0.0184 - accuracy: 0.9981 - val_loss: 0.0131 - val_accuracy: 0.9986\n",
      "Epoch 7/100\n",
      "6233/6233 [==============================] - 34s 5ms/step - loss: 0.0153 - accuracy: 0.9982 - val_loss: 0.0199 - val_accuracy: 0.9986\n",
      "Epoch 8/100\n",
      "6233/6233 [==============================] - 33s 5ms/step - loss: 0.0187 - accuracy: 0.9982 - val_loss: 0.0115 - val_accuracy: 0.9986\n",
      "Epoch 9/100\n",
      "6233/6233 [==============================] - 33s 5ms/step - loss: 0.0208 - accuracy: 0.9983 - val_loss: 0.0993 - val_accuracy: 0.9986\n",
      "Epoch 10/100\n",
      "6233/6233 [==============================] - 34s 5ms/step - loss: 0.0153 - accuracy: 0.9983 - val_loss: 0.0187 - val_accuracy: 0.9986\n",
      "Epoch 11/100\n",
      "6233/6233 [==============================] - 34s 5ms/step - loss: 0.0178 - accuracy: 0.9982 - val_loss: 0.1058 - val_accuracy: 0.9986\n",
      "Epoch 12/100\n",
      "6233/6233 [==============================] - 34s 5ms/step - loss: 0.0231 - accuracy: 0.9983 - val_loss: 0.0479 - val_accuracy: 0.9986\n",
      "Epoch 13/100\n",
      "6233/6233 [==============================] - 34s 5ms/step - loss: 0.0170 - accuracy: 0.9982 - val_loss: 0.0221 - val_accuracy: 0.9986\n",
      "Epoch 14/100\n",
      "6233/6233 [==============================] - 35s 6ms/step - loss: 0.0193 - accuracy: 0.9981 - val_loss: 0.0235 - val_accuracy: 0.9988\n",
      "Epoch 15/100\n",
      "6233/6233 [==============================] - 34s 5ms/step - loss: 0.0166 - accuracy: 0.9982 - val_loss: 0.0215 - val_accuracy: 0.9985\n",
      "Epoch 16/100\n",
      "6233/6233 [==============================] - 35s 6ms/step - loss: 0.0215 - accuracy: 0.9983 - val_loss: 0.0354 - val_accuracy: 0.9987\n",
      "Epoch 17/100\n",
      "6233/6233 [==============================] - 35s 6ms/step - loss: 0.0164 - accuracy: 0.9984 - val_loss: 0.0258 - val_accuracy: 0.9985\n",
      "Epoch 18/100\n",
      "6233/6233 [==============================] - 34s 6ms/step - loss: 0.0189 - accuracy: 0.9981 - val_loss: 0.0365 - val_accuracy: 0.9985\n",
      "Epoch 19/100\n",
      "6233/6233 [==============================] - 34s 6ms/step - loss: 0.0185 - accuracy: 0.9983 - val_loss: 0.0264 - val_accuracy: 0.9986\n",
      "Epoch 20/100\n",
      "6233/6233 [==============================] - 35s 6ms/step - loss: 0.0207 - accuracy: 0.9982 - val_loss: 0.0181 - val_accuracy: 0.9986\n",
      "Epoch 21/100\n",
      "6233/6233 [==============================] - 35s 6ms/step - loss: 0.0181 - accuracy: 0.9983 - val_loss: 0.0580 - val_accuracy: 0.9989\n",
      "Epoch 22/100\n",
      "6233/6233 [==============================] - 35s 6ms/step - loss: 0.0192 - accuracy: 0.9982 - val_loss: 0.0295 - val_accuracy: 0.9986\n",
      "Epoch 23/100\n",
      "6233/6233 [==============================] - 35s 6ms/step - loss: 0.0268 - accuracy: 0.9983 - val_loss: 0.0731 - val_accuracy: 0.9984\n",
      "Epoch 24/100\n",
      "6233/6233 [==============================] - 35s 6ms/step - loss: 0.0246 - accuracy: 0.9982 - val_loss: 0.0231 - val_accuracy: 0.9985\n",
      "Epoch 25/100\n",
      "6233/6233 [==============================] - 35s 6ms/step - loss: 0.0190 - accuracy: 0.9982 - val_loss: 0.0426 - val_accuracy: 0.9987\n",
      "Epoch 26/100\n",
      "6233/6233 [==============================] - 35s 6ms/step - loss: 0.0310 - accuracy: 0.9982 - val_loss: 0.0428 - val_accuracy: 0.9988\n",
      "Epoch 27/100\n",
      "6233/6233 [==============================] - 35s 6ms/step - loss: 0.0228 - accuracy: 0.9982 - val_loss: 0.0389 - val_accuracy: 0.9989\n",
      "Epoch 28/100\n",
      "6233/6233 [==============================] - 34s 5ms/step - loss: 0.0198 - accuracy: 0.9982 - val_loss: 0.0425 - val_accuracy: 0.9985\n",
      "Epoch 29/100\n",
      "6233/6233 [==============================] - 34s 6ms/step - loss: 0.0242 - accuracy: 0.9983 - val_loss: 0.0757 - val_accuracy: 0.9995\n",
      "Epoch 30/100\n",
      "6233/6233 [==============================] - 35s 6ms/step - loss: 0.0202 - accuracy: 0.9983 - val_loss: 0.0184 - val_accuracy: 0.9983\n",
      "Epoch 31/100\n",
      "6233/6233 [==============================] - 35s 6ms/step - loss: 0.0234 - accuracy: 0.9982 - val_loss: 0.0451 - val_accuracy: 0.9985\n",
      "Epoch 32/100\n",
      "6233/6233 [==============================] - 34s 5ms/step - loss: 0.0298 - accuracy: 0.9982 - val_loss: 0.0361 - val_accuracy: 0.9988\n",
      "Epoch 33/100\n",
      "6233/6233 [==============================] - 34s 5ms/step - loss: 0.0257 - accuracy: 0.9981 - val_loss: 0.1180 - val_accuracy: 0.9990\n",
      "Epoch 34/100\n",
      "6233/6233 [==============================] - 34s 5ms/step - loss: 0.0236 - accuracy: 0.9983 - val_loss: 0.0424 - val_accuracy: 0.9987\n",
      "Epoch 35/100\n",
      "6233/6233 [==============================] - 34s 5ms/step - loss: 0.0222 - accuracy: 0.9983 - val_loss: 0.0360 - val_accuracy: 0.9985\n",
      "Epoch 36/100\n",
      "6233/6233 [==============================] - 34s 5ms/step - loss: 0.0197 - accuracy: 0.9982 - val_loss: 0.0407 - val_accuracy: 0.9985\n",
      "Epoch 37/100\n",
      "6233/6233 [==============================] - 34s 5ms/step - loss: 0.0400 - accuracy: 0.9982 - val_loss: 0.0829 - val_accuracy: 0.9987\n",
      "Epoch 38/100\n",
      "6233/6233 [==============================] - 34s 5ms/step - loss: 0.0235 - accuracy: 0.9983 - val_loss: 0.0703 - val_accuracy: 0.9988\n",
      "Epoch 39/100\n",
      "6233/6233 [==============================] - 35s 6ms/step - loss: 0.0225 - accuracy: 0.9982 - val_loss: 0.0983 - val_accuracy: 0.9983\n",
      "Epoch 40/100\n",
      "6233/6233 [==============================] - 35s 6ms/step - loss: 0.0236 - accuracy: 0.9982 - val_loss: 0.0587 - val_accuracy: 0.9983\n",
      "Epoch 41/100\n",
      "6233/6233 [==============================] - 34s 6ms/step - loss: 0.0322 - accuracy: 0.9981 - val_loss: 0.0705 - val_accuracy: 0.9985\n",
      "Epoch 42/100\n",
      "6233/6233 [==============================] - 35s 6ms/step - loss: 0.0231 - accuracy: 0.9982 - val_loss: 0.0965 - val_accuracy: 0.9986\n",
      "Epoch 43/100\n",
      "6233/6233 [==============================] - 35s 6ms/step - loss: 0.0254 - accuracy: 0.9982 - val_loss: 0.0716 - val_accuracy: 0.9986\n",
      "Epoch 44/100\n",
      "6233/6233 [==============================] - 34s 6ms/step - loss: 0.0255 - accuracy: 0.9982 - val_loss: 0.0600 - val_accuracy: 0.9986\n",
      "Epoch 45/100\n",
      "6233/6233 [==============================] - 35s 6ms/step - loss: 0.0334 - accuracy: 0.9982 - val_loss: 0.0378 - val_accuracy: 0.9984\n",
      "Epoch 46/100\n",
      "6233/6233 [==============================] - 34s 6ms/step - loss: 0.0204 - accuracy: 0.9982 - val_loss: 0.1005 - val_accuracy: 0.9988\n",
      "Epoch 47/100\n",
      "6233/6233 [==============================] - 34s 5ms/step - loss: 0.0265 - accuracy: 0.9983 - val_loss: 0.0453 - val_accuracy: 0.9986\n",
      "Epoch 48/100\n",
      "6233/6233 [==============================] - 34s 5ms/step - loss: 0.0304 - accuracy: 0.9981 - val_loss: 0.0909 - val_accuracy: 0.9986\n",
      "Epoch 49/100\n",
      "6233/6233 [==============================] - 35s 6ms/step - loss: 0.0256 - accuracy: 0.9982 - val_loss: 0.1253 - val_accuracy: 0.9986\n",
      "Epoch 50/100\n",
      "6233/6233 [==============================] - 34s 5ms/step - loss: 0.0275 - accuracy: 0.9982 - val_loss: 0.0796 - val_accuracy: 0.9985\n",
      "Epoch 51/100\n",
      "6233/6233 [==============================] - 34s 5ms/step - loss: 0.0288 - accuracy: 0.9982 - val_loss: 0.0895 - val_accuracy: 0.9986\n",
      "Epoch 52/100\n",
      "6233/6233 [==============================] - 34s 5ms/step - loss: 0.0259 - accuracy: 0.9982 - val_loss: 0.0840 - val_accuracy: 0.9984\n",
      "Epoch 53/100\n",
      "6233/6233 [==============================] - 34s 5ms/step - loss: 0.0189 - accuracy: 0.9982 - val_loss: 0.0856 - val_accuracy: 0.9983\n",
      "Epoch 54/100\n",
      "6233/6233 [==============================] - 34s 6ms/step - loss: 0.0389 - accuracy: 0.9980 - val_loss: 0.1707 - val_accuracy: 0.9983\n",
      "Epoch 55/100\n",
      "6233/6233 [==============================] - 34s 5ms/step - loss: 0.0252 - accuracy: 0.9982 - val_loss: 0.0611 - val_accuracy: 0.9983\n",
      "Epoch 56/100\n",
      "6233/6233 [==============================] - 35s 6ms/step - loss: 0.0229 - accuracy: 0.9982 - val_loss: 0.0523 - val_accuracy: 0.9985\n",
      "Epoch 57/100\n",
      "6233/6233 [==============================] - 34s 6ms/step - loss: 0.0325 - accuracy: 0.9981 - val_loss: 0.1029 - val_accuracy: 0.9988\n",
      "Epoch 58/100\n",
      "6233/6233 [==============================] - 35s 6ms/step - loss: 0.0267 - accuracy: 0.9982 - val_loss: 0.0656 - val_accuracy: 0.9987\n",
      "Epoch 59/100\n",
      "6233/6233 [==============================] - 35s 6ms/step - loss: 0.0319 - accuracy: 0.9982 - val_loss: 0.0981 - val_accuracy: 0.9986\n",
      "Epoch 60/100\n",
      "6233/6233 [==============================] - 35s 6ms/step - loss: 0.0192 - accuracy: 0.9982 - val_loss: 0.1037 - val_accuracy: 0.9983\n",
      "Epoch 61/100\n",
      "6233/6233 [==============================] - 34s 6ms/step - loss: 0.0306 - accuracy: 0.9982 - val_loss: 0.0843 - val_accuracy: 0.9983\n",
      "Epoch 62/100\n",
      "6233/6233 [==============================] - 34s 6ms/step - loss: 0.0342 - accuracy: 0.9982 - val_loss: 0.1024 - val_accuracy: 0.9983\n",
      "Epoch 63/100\n",
      "6233/6233 [==============================] - 35s 6ms/step - loss: 0.0297 - accuracy: 0.9982 - val_loss: 0.0866 - val_accuracy: 0.9983\n",
      "Epoch 64/100\n",
      "6233/6233 [==============================] - 35s 6ms/step - loss: 0.0341 - accuracy: 0.9982 - val_loss: 0.1088 - val_accuracy: 0.9984\n",
      "Epoch 65/100\n",
      "6233/6233 [==============================] - 35s 6ms/step - loss: 0.0219 - accuracy: 0.9982 - val_loss: 0.1750 - val_accuracy: 0.9987\n",
      "Epoch 66/100\n",
      "6233/6233 [==============================] - 34s 5ms/step - loss: 0.0400 - accuracy: 0.9983 - val_loss: 0.0979 - val_accuracy: 0.9987\n",
      "Epoch 67/100\n",
      "6233/6233 [==============================] - 34s 5ms/step - loss: 0.0207 - accuracy: 0.9982 - val_loss: 0.0479 - val_accuracy: 0.9985\n",
      "Epoch 68/100\n",
      "6233/6233 [==============================] - 34s 5ms/step - loss: 0.0283 - accuracy: 0.9982 - val_loss: 0.1142 - val_accuracy: 0.9987\n",
      "Epoch 69/100\n",
      "6233/6233 [==============================] - 35s 6ms/step - loss: 0.0301 - accuracy: 0.9983 - val_loss: 0.1380 - val_accuracy: 0.9988\n",
      "Epoch 70/100\n",
      "6233/6233 [==============================] - 34s 5ms/step - loss: 0.0274 - accuracy: 0.9983 - val_loss: 0.1930 - val_accuracy: 0.9989\n",
      "Epoch 71/100\n",
      "6233/6233 [==============================] - 34s 5ms/step - loss: 0.0318 - accuracy: 0.9983 - val_loss: 0.1002 - val_accuracy: 0.9985\n",
      "Epoch 72/100\n",
      "6233/6233 [==============================] - 34s 6ms/step - loss: 0.0374 - accuracy: 0.9982 - val_loss: 0.1316 - val_accuracy: 0.9988\n",
      "Epoch 73/100\n",
      "6233/6233 [==============================] - 35s 6ms/step - loss: 0.0251 - accuracy: 0.9982 - val_loss: 0.0462 - val_accuracy: 0.9985\n",
      "Epoch 74/100\n",
      "6233/6233 [==============================] - 34s 6ms/step - loss: 0.0280 - accuracy: 0.9983 - val_loss: 0.0536 - val_accuracy: 0.9983\n",
      "Epoch 75/100\n",
      "6233/6233 [==============================] - 35s 6ms/step - loss: 0.0453 - accuracy: 0.9983 - val_loss: 0.1929 - val_accuracy: 0.9985\n",
      "Epoch 76/100\n",
      "6233/6233 [==============================] - 34s 6ms/step - loss: 0.0346 - accuracy: 0.9983 - val_loss: 0.8220 - val_accuracy: 0.9985\n",
      "Epoch 77/100\n",
      "6233/6233 [==============================] - 34s 5ms/step - loss: 0.0311 - accuracy: 0.9982 - val_loss: 0.0542 - val_accuracy: 0.9983\n",
      "Epoch 78/100\n",
      "6233/6233 [==============================] - 34s 5ms/step - loss: 0.0254 - accuracy: 0.9982 - val_loss: 0.6108 - val_accuracy: 0.9983\n",
      "Epoch 79/100\n",
      "6233/6233 [==============================] - 35s 6ms/step - loss: 0.0289 - accuracy: 0.9983 - val_loss: 0.8124 - val_accuracy: 0.9986\n",
      "Epoch 80/100\n",
      "6233/6233 [==============================] - 34s 6ms/step - loss: 0.0356 - accuracy: 0.9982 - val_loss: 0.0526 - val_accuracy: 0.9983\n",
      "Epoch 81/100\n",
      "6233/6233 [==============================] - 34s 5ms/step - loss: 0.0323 - accuracy: 0.9982 - val_loss: 0.0684 - val_accuracy: 0.9983\n",
      "Epoch 82/100\n",
      "6233/6233 [==============================] - 34s 5ms/step - loss: 0.0330 - accuracy: 0.9982 - val_loss: 0.2053 - val_accuracy: 0.9986\n",
      "Epoch 83/100\n",
      "6233/6233 [==============================] - 34s 5ms/step - loss: 0.0315 - accuracy: 0.9983 - val_loss: 0.9739 - val_accuracy: 0.9987\n",
      "Epoch 84/100\n",
      "6233/6233 [==============================] - 33s 5ms/step - loss: 0.0296 - accuracy: 0.9982 - val_loss: 1.1482 - val_accuracy: 0.9985\n",
      "Epoch 85/100\n",
      "6233/6233 [==============================] - 34s 5ms/step - loss: 0.0273 - accuracy: 0.9982 - val_loss: 0.5170 - val_accuracy: 0.9985\n",
      "Epoch 86/100\n",
      "6233/6233 [==============================] - 33s 5ms/step - loss: 0.0428 - accuracy: 0.9982 - val_loss: 0.2910 - val_accuracy: 0.9987\n",
      "Epoch 87/100\n",
      "6233/6233 [==============================] - 34s 5ms/step - loss: 0.0290 - accuracy: 0.9982 - val_loss: 0.2883 - val_accuracy: 0.9986\n",
      "Epoch 88/100\n",
      "6233/6233 [==============================] - 34s 6ms/step - loss: 0.0337 - accuracy: 0.9982 - val_loss: 0.3714 - val_accuracy: 0.9987\n",
      "Epoch 89/100\n",
      "6233/6233 [==============================] - 35s 6ms/step - loss: 0.0309 - accuracy: 0.9982 - val_loss: 0.0504 - val_accuracy: 0.9986\n",
      "Epoch 90/100\n",
      "6233/6233 [==============================] - 35s 6ms/step - loss: 0.0292 - accuracy: 0.9982 - val_loss: 0.7668 - val_accuracy: 0.9986\n",
      "Epoch 91/100\n",
      "6233/6233 [==============================] - 34s 6ms/step - loss: 0.0294 - accuracy: 0.9983 - val_loss: 0.2664 - val_accuracy: 0.9988\n",
      "Epoch 92/100\n",
      "6233/6233 [==============================] - 35s 6ms/step - loss: 0.0332 - accuracy: 0.9982 - val_loss: 0.0801 - val_accuracy: 0.9986\n",
      "Epoch 93/100\n",
      "6233/6233 [==============================] - 35s 6ms/step - loss: 0.0456 - accuracy: 0.9983 - val_loss: 0.1349 - val_accuracy: 0.9987\n",
      "Epoch 94/100\n",
      "6233/6233 [==============================] - 34s 5ms/step - loss: 0.0245 - accuracy: 0.9982 - val_loss: 0.1347 - val_accuracy: 0.9986\n",
      "Epoch 95/100\n",
      "6233/6233 [==============================] - 34s 5ms/step - loss: 0.0399 - accuracy: 0.9982 - val_loss: 0.2343 - val_accuracy: 0.9986\n",
      "Epoch 96/100\n",
      "6233/6233 [==============================] - 35s 6ms/step - loss: 0.0289 - accuracy: 0.9982 - val_loss: 0.1049 - val_accuracy: 0.9986\n",
      "Epoch 97/100\n",
      "6233/6233 [==============================] - 33s 5ms/step - loss: 0.0319 - accuracy: 0.9982 - val_loss: 0.2743 - val_accuracy: 0.9986\n",
      "Epoch 98/100\n",
      "6233/6233 [==============================] - 36s 6ms/step - loss: 0.0346 - accuracy: 0.9982 - val_loss: 0.1343 - val_accuracy: 0.9983\n",
      "Epoch 99/100\n",
      "6233/6233 [==============================] - 35s 6ms/step - loss: 0.0303 - accuracy: 0.9982 - val_loss: 0.2346 - val_accuracy: 0.9985\n",
      "Epoch 100/100\n",
      "6233/6233 [==============================] - 35s 6ms/step - loss: 0.0263 - accuracy: 0.9983 - val_loss: 0.9500 - val_accuracy: 0.9967\n"
     ]
    }
   ],
   "source": [
    "cnn1 = cnn_best.fit(X_train3, y_train3, epochs = 100, validation_data = (X_val3, y_val3))"
   ]
  },
  {
   "cell_type": "code",
   "execution_count": null,
   "metadata": {},
   "outputs": [],
   "source": [
    "#best_model=tuner.get_best_models(num_models=1)[0]\n",
    "#best_model(X_train1)"
   ]
  },
  {
   "cell_type": "code",
   "execution_count": 55,
   "metadata": {},
   "outputs": [
    {
     "name": "stdout",
     "output_type": "stream",
     "text": [
      "Model: \"sequential_1\"\n",
      "_________________________________________________________________\n",
      " Layer (type)                Output Shape              Param #   \n",
      "=================================================================\n",
      " conv1d (Conv1D)             (None, 26, 112)           672       \n",
      "                                                                 \n",
      " batch_normalization (BatchN  (None, 26, 112)          448       \n",
      " ormalization)                                                   \n",
      "                                                                 \n",
      " dropout (Dropout)           (None, 26, 112)           0         \n",
      "                                                                 \n",
      " conv1d_1 (Conv1D)           (None, 22, 48)            26928     \n",
      "                                                                 \n",
      " batch_normalization_1 (Batc  (None, 22, 48)           192       \n",
      " hNormalization)                                                 \n",
      "                                                                 \n",
      " dropout_1 (Dropout)         (None, 22, 48)            0         \n",
      "                                                                 \n",
      " flatten (Flatten)           (None, 1056)              0         \n",
      "                                                                 \n",
      " dense (Dense)               (None, 96)                101472    \n",
      "                                                                 \n",
      " dropout_2 (Dropout)         (None, 96)                0         \n",
      "                                                                 \n",
      " dense_1 (Dense)             (None, 1)                 97        \n",
      "                                                                 \n",
      "=================================================================\n",
      "Total params: 129,809\n",
      "Trainable params: 129,489\n",
      "Non-trainable params: 320\n",
      "_________________________________________________________________\n"
     ]
    }
   ],
   "source": [
    "cnn_best.summary()"
   ]
  },
  {
   "cell_type": "code",
   "execution_count": 56,
   "metadata": {},
   "outputs": [],
   "source": [
    "from matplotlib import pyplot"
   ]
  },
  {
   "cell_type": "code",
   "execution_count": 57,
   "metadata": {},
   "outputs": [
    {
     "data": {
      "image/png": "[encoded data removed]",
      "text/plain": [
       "<Figure size 640x480 with 2 Axes>"
      ]
     },
     "metadata": {},
     "output_type": "display_data"
    }
   ],
   "source": [
    "# plot loss during training\n",
    "pyplot.subplot(211)\n",
    "pyplot.title('Loss')\n",
    "pyplot.plot(cnn1.history['loss'], label='train')\n",
    "pyplot.plot(cnn1.history['val_loss'], label='test')\n",
    "pyplot.legend()\n",
    "# plot accuracy during training\n",
    "pyplot.subplots_adjust(hspace=0.5)\n",
    "pyplot.subplot(212)\n",
    "pyplot.title('Accuracy')\n",
    "pyplot.plot(cnn1.history['accuracy'], label='train')\n",
    "pyplot.plot(cnn1.history['val_accuracy'], label='test')\n",
    "pyplot.legend()\n",
    "pyplot.show()"
   ]
  },
  {
   "cell_type": "markdown",
   "metadata": {},
   "source": [
    "#### CNN with early stopping"
   ]
  },
  {
   "cell_type": "code",
   "execution_count": 58,
   "metadata": {},
   "outputs": [],
   "source": [
    "early_stopping_cnn = EarlyStopping(monitor='val_loss', patience=10)\n"
   ]
  },
  {
   "cell_type": "code",
   "execution_count": 59,
   "metadata": {},
   "outputs": [
    {
     "name": "stdout",
     "output_type": "stream",
     "text": [
      "Epoch 1/100\n",
      "6233/6233 [==============================] - 34s 6ms/step - loss: 0.0256 - accuracy: 0.9982 - val_loss: 0.0978 - val_accuracy: 0.9987\n",
      "Epoch 2/100\n",
      "6233/6233 [==============================] - 35s 6ms/step - loss: 0.0341 - accuracy: 0.9983 - val_loss: 0.8083 - val_accuracy: 0.9986\n",
      "Epoch 3/100\n",
      "6233/6233 [==============================] - 35s 6ms/step - loss: 0.0228 - accuracy: 0.9982 - val_loss: 0.5268 - val_accuracy: 0.9986\n",
      "Epoch 4/100\n",
      "6233/6233 [==============================] - 36s 6ms/step - loss: 0.0387 - accuracy: 0.9983 - val_loss: 1.0243 - val_accuracy: 0.9985\n",
      "Epoch 5/100\n",
      "6233/6233 [==============================] - 35s 6ms/step - loss: 0.0233 - accuracy: 0.9983 - val_loss: 0.0951 - val_accuracy: 0.9985\n",
      "Epoch 6/100\n",
      "6233/6233 [==============================] - 35s 6ms/step - loss: 0.0405 - accuracy: 0.9983 - val_loss: 0.5827 - val_accuracy: 0.9988\n",
      "Epoch 7/100\n",
      "6233/6233 [==============================] - 34s 5ms/step - loss: 0.0240 - accuracy: 0.9983 - val_loss: 0.8940 - val_accuracy: 0.9989\n",
      "Epoch 8/100\n",
      "6233/6233 [==============================] - 34s 6ms/step - loss: 0.0400 - accuracy: 0.9983 - val_loss: 0.6765 - val_accuracy: 0.9989\n",
      "Epoch 9/100\n",
      "6233/6233 [==============================] - 35s 6ms/step - loss: 0.0318 - accuracy: 0.9982 - val_loss: 0.1844 - val_accuracy: 0.9987\n",
      "Epoch 10/100\n",
      "6233/6233 [==============================] - 35s 6ms/step - loss: 0.0405 - accuracy: 0.9984 - val_loss: 1.3532 - val_accuracy: 0.9992\n",
      "Epoch 11/100\n",
      "6233/6233 [==============================] - 35s 6ms/step - loss: 0.0289 - accuracy: 0.9983 - val_loss: 1.2488 - val_accuracy: 0.9988\n",
      "Epoch 12/100\n",
      "6233/6233 [==============================] - 36s 6ms/step - loss: 0.0292 - accuracy: 0.9983 - val_loss: 1.0969 - val_accuracy: 0.9987\n",
      "Epoch 13/100\n",
      "6233/6233 [==============================] - 35s 6ms/step - loss: 0.0419 - accuracy: 0.9983 - val_loss: 0.2680 - val_accuracy: 0.9987\n",
      "Epoch 14/100\n",
      "6233/6233 [==============================] - 36s 6ms/step - loss: 0.0485 - accuracy: 0.9983 - val_loss: 0.2139 - val_accuracy: 0.9989\n",
      "Epoch 15/100\n",
      "6233/6233 [==============================] - 35s 6ms/step - loss: 0.0341 - accuracy: 0.9982 - val_loss: 0.1641 - val_accuracy: 0.9988\n"
     ]
    }
   ],
   "source": [
    "cnn2 = cnn_best.fit(X_train3, y_train3, epochs=100, validation_data=(X_val3,y_val3), callbacks=[early_stopping_cnn])"
   ]
  },
  {
   "cell_type": "code",
   "execution_count": 60,
   "metadata": {},
   "outputs": [
    {
     "data": {
      "image/png": "[encoded data removed]",
      "text/plain": [
       "<Figure size 640x480 with 2 Axes>"
      ]
     },
     "metadata": {},
     "output_type": "display_data"
    }
   ],
   "source": [
    "# plot loss during training\n",
    "pyplot.subplot(211)\n",
    "pyplot.title('Loss')\n",
    "pyplot.plot(cnn2.history['loss'], label='train')\n",
    "pyplot.plot(cnn2.history['val_loss'], label='test')\n",
    "pyplot.legend()\n",
    "# plot accuracy during training\n",
    "pyplot.subplots_adjust(hspace=0.5)\n",
    "pyplot.subplot(212)\n",
    "pyplot.title('Accuracy')\n",
    "pyplot.plot(cnn2.history['accuracy'], label='train')\n",
    "pyplot.plot(cnn2.history['val_accuracy'], label='test')\n",
    "pyplot.legend()\n",
    "pyplot.show()"
   ]
  },
  {
   "cell_type": "code",
   "execution_count": 61,
   "metadata": {},
   "outputs": [
    {
     "name": "stdout",
     "output_type": "stream",
     "text": [
      "Saved model to disk\n"
     ]
    }
   ],
   "source": [
    "cnn_best.save(r'D:\\Uni Docs\\DSC4996\\Dynamic_fraud_detection_system\\CNN_output\\cnn_best_gan_with_es.h5')\n",
    "print(\"Saved model to disk\")"
   ]
  },
  {
   "cell_type": "code",
   "execution_count": 68,
   "metadata": {},
   "outputs": [
    {
     "data": {
      "text/plain": [
       "(42737, 30, 1)"
      ]
     },
     "execution_count": 68,
     "metadata": {},
     "output_type": "execute_result"
    }
   ],
   "source": [
    "X_test3.shape"
   ]
  },
  {
   "cell_type": "code",
   "execution_count": 62,
   "metadata": {},
   "outputs": [
    {
     "name": "stdout",
     "output_type": "stream",
     "text": [
      "1336/1336 [==============================] - 2s 2ms/step\n"
     ]
    }
   ],
   "source": [
    "y_pred_cnn = cnn_best.predict(X_test3)"
   ]
  },
  {
   "cell_type": "code",
   "execution_count": 63,
   "metadata": {},
   "outputs": [],
   "source": [
    "import numpy as np\n",
    "\n",
    "def predict_classes(probs, threshold=0.5):\n",
    "\n",
    "  classes = np.zeros_like(probs, dtype=int)\n",
    "  classes[probs >= threshold] = 1\n",
    "  return classes\n"
   ]
  },
  {
   "cell_type": "code",
   "execution_count": 64,
   "metadata": {},
   "outputs": [],
   "source": [
    "preds = predict_classes(y_pred_cnn)"
   ]
  },
  {
   "cell_type": "code",
   "execution_count": 65,
   "metadata": {},
   "outputs": [
    {
     "name": "stdout",
     "output_type": "stream",
     "text": [
      "Accuracy: 0.9987598567985586\n",
      "Precision: 0.9996911196911197\n",
      "F1-score: 0.99795721719021\n",
      "Recall: 0.9962293189688342\n",
      "MCC: 0.9970699905599041\n"
     ]
    }
   ],
   "source": [
    "accuracy_cnn = accuracy_score(y_test3, preds)\n",
    "precision_cnn = precision_score(y_test3, preds)\n",
    "recall_cnn = recall_score(y_test3, preds)\n",
    "f1_score_cnn = f1_score(y_test3, preds)\n",
    "mcc_cnn = matthews_corrcoef(y_test3, preds)\n",
    "\n",
    "print(\"Accuracy:\", accuracy_cnn)\n",
    "print(\"Precision:\", precision_cnn)\n",
    "print(\"F1-score:\", f1_score_cnn)\n",
    "print(\"Recall:\", recall_cnn)\n",
    "print(\"MCC:\", mcc_cnn)"
   ]
  },
  {
   "cell_type": "code",
   "execution_count": 69,
   "metadata": {},
   "outputs": [
    {
     "name": "stdout",
     "output_type": "stream",
     "text": [
      "[[29738     4]\n",
      " [   49 12946]]\n"
     ]
    }
   ],
   "source": [
    "cm_cnn = confusion_matrix(y_test3, preds)\n",
    "print(cm_cnn)"
   ]
  },
  {
   "cell_type": "code",
   "execution_count": 70,
   "metadata": {},
   "outputs": [
    {
     "data": {
      "image/png": "[encoded data removed]",
      "text/plain": [
       "<Figure size 640x480 with 1 Axes>"
      ]
     },
     "metadata": {},
     "output_type": "display_data"
    }
   ],
   "source": [
    "sns.heatmap(cm_cnn, annot=True, fmt=\"d\", cmap=\"Blues\", cbar=False,\n",
    "            xticklabels=[\"Predicted Legit\", \"Predicted Fraud\"],\n",
    "            yticklabels=[\"Actual Legit\", \"Actual Fraud\"])\n",
    "plt.title('Confusion Matrix - CNN')\n",
    "plt.xlabel('Predicted')\n",
    "plt.ylabel('Actual')\n",
    "plt.show()"
   ]
  },
  {
   "cell_type": "markdown",
   "metadata": {},
   "source": [
    "## LSTM"
   ]
  },
  {
   "cell_type": "code",
   "execution_count": 72,
   "metadata": {},
   "outputs": [],
   "source": [
    "import pandas as pd\n",
    "import sklearn.metrics as metrique\n",
    "from pandas import Series\n",
    "from sklearn.preprocessing import StandardScaler, MinMaxScaler\n",
    "from matplotlib import pyplot\n",
    "from sklearn.model_selection import train_test_split\n",
    "import numpy as np\n",
    "from keras.callbacks import EarlyStopping\n",
    "from keras.callbacks import ModelCheckpoint\n",
    "from sklearn.metrics import accuracy_score\n",
    "from sklearn.metrics import classification_report, confusion_matrix\n",
    "from keras.models import Sequential\n",
    "from keras.layers import LSTM, Dense, Embedding, Dropout,Input, Attention, Layer, Concatenate, Permute, Dot, Multiply, Flatten\n",
    "from keras.layers import RepeatVector, Dense, Activation, Lambda\n",
    "from keras.models import Sequential\n",
    "from keras import backend as K, regularizers, Model, metrics"
   ]
  },
  {
   "cell_type": "code",
   "execution_count": 73,
   "metadata": {},
   "outputs": [],
   "source": [
    "df_lstm = pd.read_csv(r'D:\\Uni Docs\\DSC4996\\Dynamic_fraud_detection_system\\Data\\Dataset03.csv')"
   ]
  },
  {
   "cell_type": "code",
   "execution_count": 74,
   "metadata": {},
   "outputs": [],
   "source": [
    "df_lstm = df_lstm.drop('Unnamed: 0', axis=1)"
   ]
  },
  {
   "cell_type": "code",
   "execution_count": 75,
   "metadata": {},
   "outputs": [
    {
     "data": {
      "text/plain": [
       "(284910, 31)"
      ]
     },
     "execution_count": 75,
     "metadata": {},
     "output_type": "execute_result"
    }
   ],
   "source": [
    "df_lstm.shape"
   ]
  },
  {
   "cell_type": "code",
   "execution_count": 76,
   "metadata": {},
   "outputs": [],
   "source": [
    "X = df_lstm.drop(['Class'], axis = 'columns')\n",
    "Label_Data = df_lstm['Class']"
   ]
  },
  {
   "cell_type": "code",
   "execution_count": 77,
   "metadata": {},
   "outputs": [],
   "source": [
    "X_r2 = StandardScaler().fit_transform(X)"
   ]
  },
  {
   "cell_type": "code",
   "execution_count": 78,
   "metadata": {},
   "outputs": [],
   "source": [
    "X_train,X_test,y_train,y_test = train_test_split(X_r2, Label_Data, test_size=0.3)"
   ]
  },
  {
   "cell_type": "code",
   "execution_count": 79,
   "metadata": {},
   "outputs": [
    {
     "data": {
      "text/plain": [
       "(199437, 30)"
      ]
     },
     "execution_count": 79,
     "metadata": {},
     "output_type": "execute_result"
    }
   ],
   "source": [
    "X_train.shape"
   ]
  },
  {
   "cell_type": "code",
   "execution_count": 80,
   "metadata": {},
   "outputs": [],
   "source": [
    "X_val, X_test1, y_val, y_test1 = train_test_split(X_test, y_test, test_size=0.5, random_state=42)"
   ]
  },
  {
   "cell_type": "code",
   "execution_count": 81,
   "metadata": {},
   "outputs": [],
   "source": [
    "# design network\n",
    "np.random.seed(7)\n",
    "\n",
    "train_LSTM_X=X_train\n",
    "val_LSTM_X=X_val\n",
    "\n",
    "## Reshape input to be 3D [samples, timesteps, features] (format requis par LSTM)\n",
    "train_LSTM_X = train_LSTM_X.reshape((train_LSTM_X.shape[0], 1, train_LSTM_X.shape[1]))\n",
    "val_LSTM_X = val_LSTM_X.reshape((val_LSTM_X.shape[0], 1, val_LSTM_X.shape[1]))\n",
    "\n",
    "train_LSTM_y=y_train\n",
    "val_LSTM_y=y_val\n",
    "\n",
    "test_LSTM_X = X_test1.reshape((X_test1.shape[0], 1, X_test1.shape[1]))"
   ]
  },
  {
   "cell_type": "code",
   "execution_count": 82,
   "metadata": {},
   "outputs": [],
   "source": [
    "inputs = Input((1,30))\n",
    "x1 = LSTM(50, dropout=0.3, recurrent_dropout=0.2, return_sequences=True)(inputs)\n",
    "x2 = LSTM(50, dropout=0.3, recurrent_dropout=0.2)(x1)\n",
    "outputs = Dense(1, activation='sigmoid')(x2)\n",
    "model = Model(inputs, outputs)"
   ]
  },
  {
   "cell_type": "code",
   "execution_count": 83,
   "metadata": {},
   "outputs": [],
   "source": [
    "model.compile(loss='binary_crossentropy', optimizer='adam', metrics=['accuracy'])"
   ]
  },
  {
   "cell_type": "code",
   "execution_count": 84,
   "metadata": {},
   "outputs": [
    {
     "name": "stdout",
     "output_type": "stream",
     "text": [
      "Epoch 1/100\n",
      "6233/6233 [==============================] - 17s 2ms/step - loss: 0.0309 - accuracy: 0.9898 - val_loss: 0.0031 - val_accuracy: 0.9995\n",
      "Epoch 2/100\n",
      "6233/6233 [==============================] - 13s 2ms/step - loss: 0.0057 - accuracy: 0.9989 - val_loss: 0.0031 - val_accuracy: 0.9994\n",
      "Epoch 3/100\n",
      "6233/6233 [==============================] - 14s 2ms/step - loss: 0.0043 - accuracy: 0.9992 - val_loss: 0.0028 - val_accuracy: 0.9995\n",
      "Epoch 4/100\n",
      "6233/6233 [==============================] - 14s 2ms/step - loss: 0.0039 - accuracy: 0.9992 - val_loss: 0.0026 - val_accuracy: 0.9995\n",
      "Epoch 5/100\n",
      "6233/6233 [==============================] - 14s 2ms/step - loss: 0.0034 - accuracy: 0.9993 - val_loss: 0.0028 - val_accuracy: 0.9995\n",
      "Epoch 6/100\n",
      "6233/6233 [==============================] - 14s 2ms/step - loss: 0.0031 - accuracy: 0.9994 - val_loss: 0.0025 - val_accuracy: 0.9996\n",
      "Epoch 7/100\n",
      "6233/6233 [==============================] - 14s 2ms/step - loss: 0.0032 - accuracy: 0.9994 - val_loss: 0.0027 - val_accuracy: 0.9995\n",
      "Epoch 8/100\n",
      "6233/6233 [==============================] - 13s 2ms/step - loss: 0.0029 - accuracy: 0.9994 - val_loss: 0.0025 - val_accuracy: 0.9995\n",
      "Epoch 9/100\n",
      "6233/6233 [==============================] - 14s 2ms/step - loss: 0.0028 - accuracy: 0.9994 - val_loss: 0.0028 - val_accuracy: 0.9995\n",
      "Epoch 10/100\n",
      "6233/6233 [==============================] - 14s 2ms/step - loss: 0.0030 - accuracy: 0.9994 - val_loss: 0.0026 - val_accuracy: 0.9996\n",
      "Epoch 11/100\n",
      "6233/6233 [==============================] - 14s 2ms/step - loss: 0.0028 - accuracy: 0.9994 - val_loss: 0.0027 - val_accuracy: 0.9995\n",
      "Epoch 12/100\n",
      "6233/6233 [==============================] - 14s 2ms/step - loss: 0.0029 - accuracy: 0.9994 - val_loss: 0.0025 - val_accuracy: 0.9995\n",
      "Epoch 13/100\n",
      "6233/6233 [==============================] - 14s 2ms/step - loss: 0.0027 - accuracy: 0.9994 - val_loss: 0.0024 - val_accuracy: 0.9995\n",
      "Epoch 14/100\n",
      "6233/6233 [==============================] - 14s 2ms/step - loss: 0.0027 - accuracy: 0.9994 - val_loss: 0.0025 - val_accuracy: 0.9996\n",
      "Epoch 15/100\n",
      "6233/6233 [==============================] - 14s 2ms/step - loss: 0.0027 - accuracy: 0.9994 - val_loss: 0.0026 - val_accuracy: 0.9995\n",
      "Epoch 16/100\n",
      "6233/6233 [==============================] - 14s 2ms/step - loss: 0.0027 - accuracy: 0.9994 - val_loss: 0.0027 - val_accuracy: 0.9995\n",
      "Epoch 17/100\n",
      "6233/6233 [==============================] - 14s 2ms/step - loss: 0.0027 - accuracy: 0.9994 - val_loss: 0.0026 - val_accuracy: 0.9995\n",
      "Epoch 18/100\n",
      "6233/6233 [==============================] - 14s 2ms/step - loss: 0.0026 - accuracy: 0.9994 - val_loss: 0.0027 - val_accuracy: 0.9995\n",
      "Epoch 19/100\n",
      "6233/6233 [==============================] - 14s 2ms/step - loss: 0.0025 - accuracy: 0.9994 - val_loss: 0.0030 - val_accuracy: 0.9995\n",
      "Epoch 20/100\n",
      "6233/6233 [==============================] - 14s 2ms/step - loss: 0.0026 - accuracy: 0.9994 - val_loss: 0.0029 - val_accuracy: 0.9995\n",
      "Epoch 21/100\n",
      "6233/6233 [==============================] - 14s 2ms/step - loss: 0.0026 - accuracy: 0.9994 - val_loss: 0.0030 - val_accuracy: 0.9995\n",
      "Epoch 22/100\n",
      "6233/6233 [==============================] - 14s 2ms/step - loss: 0.0027 - accuracy: 0.9994 - val_loss: 0.0028 - val_accuracy: 0.9995\n",
      "Epoch 23/100\n",
      "6233/6233 [==============================] - 14s 2ms/step - loss: 0.0026 - accuracy: 0.9994 - val_loss: 0.0028 - val_accuracy: 0.9995\n",
      "Epoch 24/100\n",
      "6233/6233 [==============================] - 14s 2ms/step - loss: 0.0025 - accuracy: 0.9994 - val_loss: 0.0028 - val_accuracy: 0.9995\n",
      "Epoch 25/100\n",
      "6233/6233 [==============================] - 14s 2ms/step - loss: 0.0027 - accuracy: 0.9994 - val_loss: 0.0028 - val_accuracy: 0.9995\n",
      "Epoch 26/100\n",
      "6233/6233 [==============================] - 14s 2ms/step - loss: 0.0026 - accuracy: 0.9994 - val_loss: 0.0029 - val_accuracy: 0.9995\n",
      "Epoch 27/100\n",
      "6233/6233 [==============================] - 14s 2ms/step - loss: 0.0026 - accuracy: 0.9995 - val_loss: 0.0029 - val_accuracy: 0.9995\n",
      "Epoch 28/100\n",
      "6233/6233 [==============================] - 14s 2ms/step - loss: 0.0028 - accuracy: 0.9994 - val_loss: 0.0030 - val_accuracy: 0.9995\n",
      "Epoch 29/100\n",
      "6233/6233 [==============================] - 14s 2ms/step - loss: 0.0027 - accuracy: 0.9994 - val_loss: 0.0030 - val_accuracy: 0.9995\n",
      "Epoch 30/100\n",
      "6233/6233 [==============================] - 14s 2ms/step - loss: 0.0026 - accuracy: 0.9994 - val_loss: 0.0031 - val_accuracy: 0.9995\n",
      "Epoch 31/100\n",
      "6233/6233 [==============================] - 13s 2ms/step - loss: 0.0027 - accuracy: 0.9994 - val_loss: 0.0032 - val_accuracy: 0.9995\n",
      "Epoch 32/100\n",
      "6233/6233 [==============================] - 14s 2ms/step - loss: 0.0026 - accuracy: 0.9994 - val_loss: 0.0029 - val_accuracy: 0.9996\n",
      "Epoch 33/100\n",
      "6233/6233 [==============================] - 14s 2ms/step - loss: 0.0026 - accuracy: 0.9994 - val_loss: 0.0030 - val_accuracy: 0.9995\n",
      "Epoch 34/100\n",
      "6233/6233 [==============================] - 14s 2ms/step - loss: 0.0026 - accuracy: 0.9995 - val_loss: 0.0030 - val_accuracy: 0.9995\n",
      "Epoch 35/100\n",
      "6233/6233 [==============================] - 14s 2ms/step - loss: 0.0025 - accuracy: 0.9994 - val_loss: 0.0028 - val_accuracy: 0.9995\n",
      "Epoch 36/100\n",
      "6233/6233 [==============================] - 14s 2ms/step - loss: 0.0025 - accuracy: 0.9994 - val_loss: 0.0029 - val_accuracy: 0.9995\n",
      "Epoch 37/100\n",
      "6233/6233 [==============================] - 14s 2ms/step - loss: 0.0025 - accuracy: 0.9995 - val_loss: 0.0028 - val_accuracy: 0.9995\n",
      "Epoch 38/100\n",
      "6233/6233 [==============================] - 14s 2ms/step - loss: 0.0025 - accuracy: 0.9995 - val_loss: 0.0030 - val_accuracy: 0.9995\n",
      "Epoch 39/100\n",
      "6233/6233 [==============================] - 14s 2ms/step - loss: 0.0026 - accuracy: 0.9994 - val_loss: 0.0030 - val_accuracy: 0.9995\n",
      "Epoch 40/100\n",
      "6233/6233 [==============================] - 14s 2ms/step - loss: 0.0026 - accuracy: 0.9994 - val_loss: 0.0030 - val_accuracy: 0.9995\n",
      "Epoch 41/100\n",
      "6233/6233 [==============================] - 14s 2ms/step - loss: 0.0025 - accuracy: 0.9994 - val_loss: 0.0029 - val_accuracy: 0.9995\n",
      "Epoch 42/100\n",
      "6233/6233 [==============================] - 14s 2ms/step - loss: 0.0025 - accuracy: 0.9994 - val_loss: 0.0028 - val_accuracy: 0.9995\n",
      "Epoch 43/100\n",
      "6233/6233 [==============================] - 14s 2ms/step - loss: 0.0026 - accuracy: 0.9995 - val_loss: 0.0027 - val_accuracy: 0.9995\n",
      "Epoch 44/100\n",
      "6233/6233 [==============================] - 14s 2ms/step - loss: 0.0024 - accuracy: 0.9994 - val_loss: 0.0028 - val_accuracy: 0.9995\n",
      "Epoch 45/100\n",
      "6233/6233 [==============================] - 14s 2ms/step - loss: 0.0025 - accuracy: 0.9995 - val_loss: 0.0030 - val_accuracy: 0.9995\n",
      "Epoch 46/100\n",
      "6233/6233 [==============================] - 14s 2ms/step - loss: 0.0025 - accuracy: 0.9994 - val_loss: 0.0028 - val_accuracy: 0.9996\n",
      "Epoch 47/100\n",
      "6233/6233 [==============================] - 14s 2ms/step - loss: 0.0025 - accuracy: 0.9994 - val_loss: 0.0029 - val_accuracy: 0.9995\n",
      "Epoch 48/100\n",
      "6233/6233 [==============================] - 14s 2ms/step - loss: 0.0024 - accuracy: 0.9995 - val_loss: 0.0030 - val_accuracy: 0.9995\n",
      "Epoch 49/100\n",
      "6233/6233 [==============================] - 14s 2ms/step - loss: 0.0025 - accuracy: 0.9995 - val_loss: 0.0028 - val_accuracy: 0.9996\n",
      "Epoch 50/100\n",
      "6233/6233 [==============================] - 14s 2ms/step - loss: 0.0026 - accuracy: 0.9994 - val_loss: 0.0030 - val_accuracy: 0.9995\n",
      "Epoch 51/100\n",
      "6233/6233 [==============================] - 14s 2ms/step - loss: 0.0024 - accuracy: 0.9995 - val_loss: 0.0030 - val_accuracy: 0.9995\n",
      "Epoch 52/100\n",
      "6233/6233 [==============================] - 14s 2ms/step - loss: 0.0024 - accuracy: 0.9995 - val_loss: 0.0029 - val_accuracy: 0.9995\n",
      "Epoch 53/100\n",
      "6233/6233 [==============================] - 14s 2ms/step - loss: 0.0025 - accuracy: 0.9994 - val_loss: 0.0030 - val_accuracy: 0.9995\n",
      "Epoch 54/100\n",
      "6233/6233 [==============================] - 14s 2ms/step - loss: 0.0025 - accuracy: 0.9994 - val_loss: 0.0029 - val_accuracy: 0.9995\n",
      "Epoch 55/100\n",
      "6233/6233 [==============================] - 14s 2ms/step - loss: 0.0026 - accuracy: 0.9995 - val_loss: 0.0030 - val_accuracy: 0.9995\n",
      "Epoch 56/100\n",
      "6233/6233 [==============================] - 14s 2ms/step - loss: 0.0027 - accuracy: 0.9994 - val_loss: 0.0031 - val_accuracy: 0.9995\n",
      "Epoch 57/100\n",
      "6233/6233 [==============================] - 14s 2ms/step - loss: 0.0026 - accuracy: 0.9995 - val_loss: 0.0029 - val_accuracy: 0.9995\n",
      "Epoch 58/100\n",
      "6233/6233 [==============================] - 14s 2ms/step - loss: 0.0024 - accuracy: 0.9994 - val_loss: 0.0028 - val_accuracy: 0.9995\n",
      "Epoch 59/100\n",
      "6233/6233 [==============================] - 14s 2ms/step - loss: 0.0025 - accuracy: 0.9995 - val_loss: 0.0029 - val_accuracy: 0.9995\n",
      "Epoch 60/100\n",
      "6233/6233 [==============================] - 14s 2ms/step - loss: 0.0025 - accuracy: 0.9994 - val_loss: 0.0029 - val_accuracy: 0.9995\n",
      "Epoch 61/100\n",
      "6233/6233 [==============================] - 14s 2ms/step - loss: 0.0026 - accuracy: 0.9995 - val_loss: 0.0029 - val_accuracy: 0.9995\n",
      "Epoch 62/100\n",
      "6233/6233 [==============================] - 14s 2ms/step - loss: 0.0025 - accuracy: 0.9994 - val_loss: 0.0028 - val_accuracy: 0.9995\n",
      "Epoch 63/100\n",
      "6233/6233 [==============================] - 14s 2ms/step - loss: 0.0026 - accuracy: 0.9994 - val_loss: 0.0027 - val_accuracy: 0.9995\n",
      "Epoch 64/100\n",
      "6233/6233 [==============================] - 14s 2ms/step - loss: 0.0025 - accuracy: 0.9995 - val_loss: 0.0029 - val_accuracy: 0.9995\n",
      "Epoch 65/100\n",
      "6233/6233 [==============================] - 13s 2ms/step - loss: 0.0026 - accuracy: 0.9994 - val_loss: 0.0027 - val_accuracy: 0.9995\n",
      "Epoch 66/100\n",
      "6233/6233 [==============================] - 13s 2ms/step - loss: 0.0023 - accuracy: 0.9995 - val_loss: 0.0028 - val_accuracy: 0.9995\n",
      "Epoch 67/100\n",
      "6233/6233 [==============================] - 13s 2ms/step - loss: 0.0024 - accuracy: 0.9994 - val_loss: 0.0031 - val_accuracy: 0.9995\n",
      "Epoch 68/100\n",
      "6233/6233 [==============================] - 13s 2ms/step - loss: 0.0024 - accuracy: 0.9994 - val_loss: 0.0028 - val_accuracy: 0.9995\n",
      "Epoch 69/100\n",
      "6233/6233 [==============================] - 13s 2ms/step - loss: 0.0025 - accuracy: 0.9994 - val_loss: 0.0031 - val_accuracy: 0.9995\n",
      "Epoch 70/100\n",
      "6233/6233 [==============================] - 13s 2ms/step - loss: 0.0023 - accuracy: 0.9995 - val_loss: 0.0028 - val_accuracy: 0.9995\n",
      "Epoch 71/100\n",
      "6233/6233 [==============================] - 13s 2ms/step - loss: 0.0024 - accuracy: 0.9994 - val_loss: 0.0028 - val_accuracy: 0.9995\n",
      "Epoch 72/100\n",
      "6233/6233 [==============================] - 13s 2ms/step - loss: 0.0024 - accuracy: 0.9995 - val_loss: 0.0031 - val_accuracy: 0.9995\n",
      "Epoch 73/100\n",
      "6233/6233 [==============================] - 13s 2ms/step - loss: 0.0026 - accuracy: 0.9995 - val_loss: 0.0028 - val_accuracy: 0.9995\n",
      "Epoch 74/100\n",
      "6233/6233 [==============================] - 13s 2ms/step - loss: 0.0024 - accuracy: 0.9995 - val_loss: 0.0028 - val_accuracy: 0.9995\n",
      "Epoch 75/100\n",
      "6233/6233 [==============================] - 13s 2ms/step - loss: 0.0025 - accuracy: 0.9995 - val_loss: 0.0029 - val_accuracy: 0.9995\n",
      "Epoch 76/100\n",
      "6233/6233 [==============================] - 13s 2ms/step - loss: 0.0026 - accuracy: 0.9994 - val_loss: 0.0028 - val_accuracy: 0.9995\n",
      "Epoch 77/100\n",
      "6233/6233 [==============================] - 13s 2ms/step - loss: 0.0024 - accuracy: 0.9994 - val_loss: 0.0029 - val_accuracy: 0.9995\n",
      "Epoch 78/100\n",
      "6233/6233 [==============================] - 13s 2ms/step - loss: 0.0026 - accuracy: 0.9995 - val_loss: 0.0027 - val_accuracy: 0.9995\n",
      "Epoch 79/100\n",
      "6233/6233 [==============================] - 13s 2ms/step - loss: 0.0024 - accuracy: 0.9995 - val_loss: 0.0028 - val_accuracy: 0.9995\n",
      "Epoch 80/100\n",
      "6233/6233 [==============================] - 13s 2ms/step - loss: 0.0024 - accuracy: 0.9994 - val_loss: 0.0028 - val_accuracy: 0.9995\n",
      "Epoch 81/100\n",
      "6233/6233 [==============================] - 13s 2ms/step - loss: 0.0024 - accuracy: 0.9994 - val_loss: 0.0027 - val_accuracy: 0.9995\n",
      "Epoch 82/100\n",
      "6233/6233 [==============================] - 13s 2ms/step - loss: 0.0023 - accuracy: 0.9994 - val_loss: 0.0028 - val_accuracy: 0.9995\n",
      "Epoch 83/100\n",
      "6233/6233 [==============================] - 13s 2ms/step - loss: 0.0026 - accuracy: 0.9994 - val_loss: 0.0026 - val_accuracy: 0.9995\n",
      "Epoch 84/100\n",
      "6233/6233 [==============================] - 13s 2ms/step - loss: 0.0026 - accuracy: 0.9994 - val_loss: 0.0026 - val_accuracy: 0.9995\n",
      "Epoch 85/100\n",
      "6233/6233 [==============================] - 13s 2ms/step - loss: 0.0025 - accuracy: 0.9995 - val_loss: 0.0026 - val_accuracy: 0.9995\n",
      "Epoch 86/100\n",
      "6233/6233 [==============================] - 13s 2ms/step - loss: 0.0026 - accuracy: 0.9994 - val_loss: 0.0026 - val_accuracy: 0.9995\n",
      "Epoch 87/100\n",
      "6233/6233 [==============================] - 13s 2ms/step - loss: 0.0025 - accuracy: 0.9994 - val_loss: 0.0026 - val_accuracy: 0.9995\n",
      "Epoch 88/100\n",
      "6233/6233 [==============================] - 13s 2ms/step - loss: 0.0025 - accuracy: 0.9994 - val_loss: 0.0027 - val_accuracy: 0.9995\n",
      "Epoch 89/100\n",
      "6233/6233 [==============================] - 14s 2ms/step - loss: 0.0025 - accuracy: 0.9995 - val_loss: 0.0029 - val_accuracy: 0.9995\n",
      "Epoch 90/100\n",
      "6233/6233 [==============================] - 13s 2ms/step - loss: 0.0025 - accuracy: 0.9995 - val_loss: 0.0028 - val_accuracy: 0.9995\n",
      "Epoch 91/100\n",
      "6233/6233 [==============================] - 13s 2ms/step - loss: 0.0024 - accuracy: 0.9995 - val_loss: 0.0028 - val_accuracy: 0.9995\n",
      "Epoch 92/100\n",
      "6233/6233 [==============================] - 13s 2ms/step - loss: 0.0025 - accuracy: 0.9995 - val_loss: 0.0027 - val_accuracy: 0.9995\n",
      "Epoch 93/100\n",
      "6233/6233 [==============================] - 13s 2ms/step - loss: 0.0025 - accuracy: 0.9994 - val_loss: 0.0029 - val_accuracy: 0.9995\n",
      "Epoch 94/100\n",
      "6233/6233 [==============================] - 13s 2ms/step - loss: 0.0023 - accuracy: 0.9995 - val_loss: 0.0027 - val_accuracy: 0.9995\n",
      "Epoch 95/100\n",
      "6233/6233 [==============================] - 13s 2ms/step - loss: 0.0024 - accuracy: 0.9995 - val_loss: 0.0026 - val_accuracy: 0.9995\n",
      "Epoch 96/100\n",
      "6233/6233 [==============================] - 13s 2ms/step - loss: 0.0026 - accuracy: 0.9995 - val_loss: 0.0028 - val_accuracy: 0.9995\n",
      "Epoch 97/100\n",
      "6233/6233 [==============================] - 13s 2ms/step - loss: 0.0026 - accuracy: 0.9994 - val_loss: 0.0027 - val_accuracy: 0.9995\n",
      "Epoch 98/100\n",
      "6233/6233 [==============================] - 13s 2ms/step - loss: 0.0027 - accuracy: 0.9994 - val_loss: 0.0028 - val_accuracy: 0.9995\n",
      "Epoch 99/100\n",
      "6233/6233 [==============================] - 13s 2ms/step - loss: 0.0025 - accuracy: 0.9994 - val_loss: 0.0026 - val_accuracy: 0.9995\n",
      "Epoch 100/100\n",
      "6233/6233 [==============================] - 13s 2ms/step - loss: 0.0026 - accuracy: 0.9994 - val_loss: 0.0026 - val_accuracy: 0.9995\n"
     ]
    }
   ],
   "source": [
    "lstm1 =model.fit(train_LSTM_X, train_LSTM_y,epochs=100, validation_data=(val_LSTM_X, val_LSTM_y))"
   ]
  },
  {
   "cell_type": "code",
   "execution_count": 85,
   "metadata": {},
   "outputs": [
    {
     "name": "stdout",
     "output_type": "stream",
     "text": [
      "Saved model to disk\n"
     ]
    }
   ],
   "source": [
    "# save model and architecture to single file\n",
    "model.save(r'D:\\Uni Docs\\DSC4996\\Dynamic_fraud_detection_system\\LSTM\\lstm_Model_gan_without_es.h5')\n",
    "print(\"Saved model to disk\")"
   ]
  },
  {
   "cell_type": "markdown",
   "metadata": {},
   "source": [
    "#### training with Early stopping"
   ]
  },
  {
   "cell_type": "code",
   "execution_count": 86,
   "metadata": {},
   "outputs": [],
   "source": [
    "inputs = Input((1,30))\n",
    "x1 = LSTM(50, dropout=0.3, recurrent_dropout=0.2, return_sequences=True)(inputs)\n",
    "x2 = LSTM(50, dropout=0.3, recurrent_dropout=0.2)(x1)\n",
    "outputs = Dense(1, activation='sigmoid')(x2)\n",
    "model2 = Model(inputs, outputs)"
   ]
  },
  {
   "cell_type": "code",
   "execution_count": 87,
   "metadata": {},
   "outputs": [],
   "source": [
    "model2.compile(loss='binary_crossentropy', optimizer='adam', metrics=['accuracy'])"
   ]
  },
  {
   "cell_type": "code",
   "execution_count": 88,
   "metadata": {},
   "outputs": [],
   "source": [
    "early_stopping_lstm = EarlyStopping(monitor='val_loss', patience=10)"
   ]
  },
  {
   "cell_type": "code",
   "execution_count": 89,
   "metadata": {},
   "outputs": [
    {
     "name": "stdout",
     "output_type": "stream",
     "text": [
      "Epoch 1/100\n",
      "6233/6233 [==============================] - 18s 2ms/step - loss: 0.0299 - accuracy: 0.9897 - val_loss: 0.0032 - val_accuracy: 0.9995\n",
      "Epoch 2/100\n",
      "6233/6233 [==============================] - 13s 2ms/step - loss: 0.0055 - accuracy: 0.9989 - val_loss: 0.0030 - val_accuracy: 0.9996\n",
      "Epoch 3/100\n",
      "6233/6233 [==============================] - 13s 2ms/step - loss: 0.0042 - accuracy: 0.9992 - val_loss: 0.0029 - val_accuracy: 0.9995\n",
      "Epoch 4/100\n",
      "6233/6233 [==============================] - 13s 2ms/step - loss: 0.0037 - accuracy: 0.9993 - val_loss: 0.0029 - val_accuracy: 0.9995\n",
      "Epoch 5/100\n",
      "6233/6233 [==============================] - 14s 2ms/step - loss: 0.0033 - accuracy: 0.9993 - val_loss: 0.0027 - val_accuracy: 0.9995\n",
      "Epoch 6/100\n",
      "6233/6233 [==============================] - 14s 2ms/step - loss: 0.0032 - accuracy: 0.9994 - val_loss: 0.0028 - val_accuracy: 0.9995\n",
      "Epoch 7/100\n",
      "6233/6233 [==============================] - 14s 2ms/step - loss: 0.0031 - accuracy: 0.9994 - val_loss: 0.0028 - val_accuracy: 0.9995\n",
      "Epoch 8/100\n",
      "6233/6233 [==============================] - 14s 2ms/step - loss: 0.0030 - accuracy: 0.9994 - val_loss: 0.0027 - val_accuracy: 0.9995\n",
      "Epoch 9/100\n",
      "6233/6233 [==============================] - 14s 2ms/step - loss: 0.0031 - accuracy: 0.9994 - val_loss: 0.0027 - val_accuracy: 0.9995\n",
      "Epoch 10/100\n",
      "6233/6233 [==============================] - 14s 2ms/step - loss: 0.0030 - accuracy: 0.9994 - val_loss: 0.0028 - val_accuracy: 0.9995\n",
      "Epoch 11/100\n",
      "6233/6233 [==============================] - 14s 2ms/step - loss: 0.0029 - accuracy: 0.9994 - val_loss: 0.0028 - val_accuracy: 0.9995\n",
      "Epoch 12/100\n",
      "6233/6233 [==============================] - 13s 2ms/step - loss: 0.0028 - accuracy: 0.9994 - val_loss: 0.0030 - val_accuracy: 0.9995\n",
      "Epoch 13/100\n",
      "6233/6233 [==============================] - 13s 2ms/step - loss: 0.0029 - accuracy: 0.9994 - val_loss: 0.0029 - val_accuracy: 0.9995\n",
      "Epoch 14/100\n",
      "6233/6233 [==============================] - 13s 2ms/step - loss: 0.0029 - accuracy: 0.9994 - val_loss: 0.0027 - val_accuracy: 0.9995\n",
      "Epoch 15/100\n",
      "6233/6233 [==============================] - 14s 2ms/step - loss: 0.0027 - accuracy: 0.9994 - val_loss: 0.0028 - val_accuracy: 0.9995\n",
      "Epoch 16/100\n",
      "6233/6233 [==============================] - 13s 2ms/step - loss: 0.0028 - accuracy: 0.9994 - val_loss: 0.0027 - val_accuracy: 0.9995\n",
      "Epoch 17/100\n",
      "6233/6233 [==============================] - 13s 2ms/step - loss: 0.0026 - accuracy: 0.9995 - val_loss: 0.0029 - val_accuracy: 0.9995\n",
      "Epoch 18/100\n",
      "6233/6233 [==============================] - 13s 2ms/step - loss: 0.0027 - accuracy: 0.9994 - val_loss: 0.0028 - val_accuracy: 0.9995\n",
      "Epoch 19/100\n",
      "6233/6233 [==============================] - 13s 2ms/step - loss: 0.0027 - accuracy: 0.9994 - val_loss: 0.0030 - val_accuracy: 0.9995\n"
     ]
    }
   ],
   "source": [
    "lstm2 = model2.fit(train_LSTM_X, train_LSTM_y, epochs=100, validation_data=(val_LSTM_X, val_LSTM_y), callbacks=[early_stopping_lstm])"
   ]
  },
  {
   "cell_type": "code",
   "execution_count": 90,
   "metadata": {},
   "outputs": [
    {
     "name": "stdout",
     "output_type": "stream",
     "text": [
      "Saved model to disk\n"
     ]
    }
   ],
   "source": [
    "# save model and architecture to single file\n",
    "model2.save(r'D:\\Uni Docs\\DSC4996\\Dynamic_fraud_detection_system\\LSTM\\lstm_Model_gan_with_es.h5')\n",
    "print(\"Saved model to disk\")"
   ]
  },
  {
   "cell_type": "code",
   "execution_count": 91,
   "metadata": {},
   "outputs": [
    {
     "name": "stdout",
     "output_type": "stream",
     "text": [
      "Model: \"model\"\n",
      "_________________________________________________________________\n",
      " Layer (type)                Output Shape              Param #   \n",
      "=================================================================\n",
      " input_1 (InputLayer)        [(None, 1, 30)]           0         \n",
      "                                                                 \n",
      " lstm (LSTM)                 (None, 1, 50)             16200     \n",
      "                                                                 \n",
      " lstm_1 (LSTM)               (None, 50)                20200     \n",
      "                                                                 \n",
      " dense_2 (Dense)             (None, 1)                 51        \n",
      "                                                                 \n",
      "=================================================================\n",
      "Total params: 36,451\n",
      "Trainable params: 36,451\n",
      "Non-trainable params: 0\n",
      "_________________________________________________________________\n"
     ]
    }
   ],
   "source": [
    "# load and evaluate a saved model\n",
    "from numpy import loadtxt\n",
    "from keras.models import load_model\n",
    " \n",
    "# load model\n",
    "model = load_model(r'D:\\Uni Docs\\DSC4996\\Dynamic_fraud_detection_system\\LSTM\\lstm_Model_gan_without_es.h5')\n",
    "model2 = load_model(r'D:\\Uni Docs\\DSC4996\\Dynamic_fraud_detection_system\\LSTM\\lstm_Model_gan_with_es.h5')\n",
    "# summarize model.\n",
    "model.summary()"
   ]
  },
  {
   "cell_type": "code",
   "execution_count": 92,
   "metadata": {},
   "outputs": [
    {
     "name": "stdout",
     "output_type": "stream",
     "text": [
      "Train: 0.999, Test: 1.000\n"
     ]
    }
   ],
   "source": [
    "# evaluate the model\n",
    "_, train_acc = model2.evaluate(train_LSTM_X, train_LSTM_y, verbose=0)\n",
    "_, test_acc = model2.evaluate(val_LSTM_X, val_LSTM_y, verbose=0)\n",
    "print('Train: %.3f, Test: %.3f' % (train_acc, test_acc))"
   ]
  },
  {
   "cell_type": "code",
   "execution_count": 93,
   "metadata": {},
   "outputs": [
    {
     "data": {
      "image/png": "[encoded data removed]",
      "text/plain": [
       "<Figure size 640x480 with 2 Axes>"
      ]
     },
     "metadata": {},
     "output_type": "display_data"
    }
   ],
   "source": [
    "# plot loss during training\n",
    "pyplot.subplot(211)\n",
    "pyplot.title('Loss')\n",
    "pyplot.plot(lstm1.history['loss'], label='train')\n",
    "pyplot.plot(lstm1.history['val_loss'], label='test')\n",
    "pyplot.legend()\n",
    "# plot accuracy during training\n",
    "pyplot.subplots_adjust(hspace=0.5)\n",
    "pyplot.subplot(212)\n",
    "pyplot.title('Accuracy')\n",
    "pyplot.plot(lstm1.history['accuracy'], label='train')\n",
    "pyplot.plot(lstm1.history['val_accuracy'], label='test')\n",
    "pyplot.legend()\n",
    "pyplot.show()"
   ]
  },
  {
   "cell_type": "code",
   "execution_count": 94,
   "metadata": {},
   "outputs": [
    {
     "data": {
      "image/png": "[encoded data removed]",
      "text/plain": [
       "<Figure size 640x480 with 2 Axes>"
      ]
     },
     "metadata": {},
     "output_type": "display_data"
    }
   ],
   "source": [
    "# plot loss during training\n",
    "pyplot.subplot(211)\n",
    "pyplot.title('Loss')\n",
    "pyplot.plot(lstm2.history['loss'], label='train')\n",
    "pyplot.plot(lstm2.history['val_loss'], label='test')\n",
    "pyplot.legend()\n",
    "\n",
    "pyplot.subplots_adjust(hspace=0.5)\n",
    "# plot accuracy during training\n",
    "pyplot.subplot(212)\n",
    "pyplot.title('Accuracy')\n",
    "pyplot.plot(lstm2.history['accuracy'], label='train')\n",
    "pyplot.plot(lstm2.history['val_accuracy'], label='test')\n",
    "pyplot.legend()\n",
    "pyplot.show()\n"
   ]
  },
  {
   "cell_type": "code",
   "execution_count": 95,
   "metadata": {},
   "outputs": [],
   "source": [
    "# predict probabilities for test set\n",
    "yhat_probs = model2.predict(test_LSTM_X, verbose=0)\n",
    "# reduce to 1d array\n",
    "yhat_probs = yhat_probs[:, 0]"
   ]
  },
  {
   "cell_type": "code",
   "execution_count": 96,
   "metadata": {},
   "outputs": [],
   "source": [
    "yhat_classes = (yhat_probs > 0.5).astype(int)"
   ]
  },
  {
   "cell_type": "code",
   "execution_count": 97,
   "metadata": {},
   "outputs": [
    {
     "name": "stdout",
     "output_type": "stream",
     "text": [
      "Accuracy: 0.999509\n",
      "Precision: 0.999766\n",
      "Recall: 0.998595\n",
      "F1-Score: 0.999180\n",
      "MCC: 0.998829\n"
     ]
    }
   ],
   "source": [
    "accuracy_lstm = accuracy_score(y_test1, yhat_classes)\n",
    "print('Accuracy: %f' % accuracy_lstm)\n",
    "precision_lstm = precision_score(y_test1, yhat_classes)\n",
    "print('Precision: %f' % precision_lstm)\n",
    "recall_lstm = recall_score(y_test1, yhat_classes)\n",
    "print('Recall: %f' % recall_lstm)\n",
    "f1_score_lstm = f1_score(y_test1, yhat_classes)\n",
    "print('F1-Score: %f' % f1_score_lstm)\n",
    "mcc_lstm = matthews_corrcoef(y_test1, yhat_classes)\n",
    "print('MCC: %f' % mcc_lstm)\n"
   ]
  },
  {
   "cell_type": "code",
   "execution_count": 98,
   "metadata": {},
   "outputs": [],
   "source": [
    "cm_lstm = confusion_matrix(y_test1, yhat_classes)"
   ]
  },
  {
   "cell_type": "code",
   "execution_count": 99,
   "metadata": {},
   "outputs": [
    {
     "data": {
      "text/plain": [
       "array([[29925,     3],\n",
       "       [   18, 12791]], dtype=int64)"
      ]
     },
     "execution_count": 99,
     "metadata": {},
     "output_type": "execute_result"
    }
   ],
   "source": [
    "cm_lstm"
   ]
  },
  {
   "cell_type": "code",
   "execution_count": 100,
   "metadata": {},
   "outputs": [
    {
     "data": {
      "image/png": "[encoded data removed]",
      "text/plain": [
       "<Figure size 640x480 with 1 Axes>"
      ]
     },
     "metadata": {},
     "output_type": "display_data"
    }
   ],
   "source": [
    "sns.heatmap(cm_lstm, annot=True, fmt=\"d\", cmap=\"Blues\", cbar=False,\n",
    "            xticklabels=[\"Predicted Legit\", \"Predicted Fraud\"],\n",
    "            yticklabels=[\"Actual Legit\", \"Actual Fraud\"])\n",
    "plt.title('Confusion Matrix - LSTM')\n",
    "plt.xlabel('Predicted')\n",
    "plt.ylabel('Actual')\n",
    "plt.show()"
   ]
  }
 ],
 "metadata": {
  "kernelspec": {
   "display_name": "base",
   "language": "python",
   "name": "python3"
  },
  "language_info": {
   "codemirror_mode": {
    "name": "ipython",
    "version": 3
   },
   "file_extension": ".py",
   "mimetype": "text/x-python",
   "name": "python",
   "nbconvert_exporter": "python",
   "pygments_lexer": "ipython3",
   "version": "3.11.5"
  },
  "orig_nbformat": 4
 },
 "nbformat": 4,
 "nbformat_minor": 2
}
