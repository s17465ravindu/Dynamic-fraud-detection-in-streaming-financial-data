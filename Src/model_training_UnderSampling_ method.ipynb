{
 "cells": [
  {
   "cell_type": "markdown",
   "metadata": {},
   "source": [
    "### Under Sampling Method"
   ]
  },
  {
   "cell_type": "code",
   "execution_count": 1,
   "metadata": {},
   "outputs": [],
   "source": [
    "import pandas as pd\n",
    "import numpy as np\n",
    "from sklearn.preprocessing import StandardScaler\n",
    "from sklearn.model_selection import train_test_split\n",
    "from sklearn.linear_model import LogisticRegression\n",
    "from sklearn.svm import SVC\n",
    "from sklearn.tree import DecisionTreeClassifier\n",
    "from sklearn.metrics import accuracy_score, precision_score, recall_score, f1_score, matthews_corrcoef\n",
    "from sklearn.model_selection import StratifiedKFold\n",
    "import tensorflow as tf\n",
    "import matplotlib.pyplot as plt\n",
    "import seaborn as sns\n",
    "from sklearn.metrics import confusion_matrix\n",
    "from sklearn.model_selection import GridSearchCV"
   ]
  },
  {
   "cell_type": "code",
   "execution_count": 2,
   "metadata": {},
   "outputs": [],
   "source": [
    "df = pd.read_csv(r'D:\\Uni Docs\\DSC4996\\Dynamic_fraud_detection_system\\Data\\pre_processed_df.csv')"
   ]
  },
  {
   "cell_type": "code",
   "execution_count": 3,
   "metadata": {},
   "outputs": [
    {
     "data": {
      "text/html": [
       "<div>\n",
       "<style scoped>\n",
       "    .dataframe tbody tr th:only-of-type {\n",
       "        vertical-align: middle;\n",
       "    }\n",
       "\n",
       "    .dataframe tbody tr th {\n",
       "        vertical-align: top;\n",
       "    }\n",
       "\n",
       "    .dataframe thead th {\n",
       "        text-align: right;\n",
       "    }\n",
       "</style>\n",
       "<table border=\"1\" class=\"dataframe\">\n",
       "  <thead>\n",
       "    <tr style=\"text-align: right;\">\n",
       "      <th></th>\n",
       "      <th>Time</th>\n",
       "      <th>V1</th>\n",
       "      <th>V2</th>\n",
       "      <th>V3</th>\n",
       "      <th>V4</th>\n",
       "      <th>V5</th>\n",
       "      <th>V6</th>\n",
       "      <th>V7</th>\n",
       "      <th>V8</th>\n",
       "      <th>V9</th>\n",
       "      <th>...</th>\n",
       "      <th>V21</th>\n",
       "      <th>V22</th>\n",
       "      <th>V23</th>\n",
       "      <th>V24</th>\n",
       "      <th>V25</th>\n",
       "      <th>V26</th>\n",
       "      <th>V27</th>\n",
       "      <th>V28</th>\n",
       "      <th>Amount</th>\n",
       "      <th>Class</th>\n",
       "    </tr>\n",
       "  </thead>\n",
       "  <tbody>\n",
       "    <tr>\n",
       "      <th>0</th>\n",
       "      <td>0.0</td>\n",
       "      <td>-1.359807</td>\n",
       "      <td>-0.072781</td>\n",
       "      <td>2.536347</td>\n",
       "      <td>1.378155</td>\n",
       "      <td>-0.338321</td>\n",
       "      <td>0.462388</td>\n",
       "      <td>0.239599</td>\n",
       "      <td>0.098698</td>\n",
       "      <td>0.363787</td>\n",
       "      <td>...</td>\n",
       "      <td>-0.018307</td>\n",
       "      <td>0.277838</td>\n",
       "      <td>-0.110474</td>\n",
       "      <td>0.066928</td>\n",
       "      <td>0.128539</td>\n",
       "      <td>-0.189115</td>\n",
       "      <td>0.133558</td>\n",
       "      <td>-0.021053</td>\n",
       "      <td>149.62</td>\n",
       "      <td>0</td>\n",
       "    </tr>\n",
       "    <tr>\n",
       "      <th>1</th>\n",
       "      <td>0.0</td>\n",
       "      <td>1.191857</td>\n",
       "      <td>0.266151</td>\n",
       "      <td>0.166480</td>\n",
       "      <td>0.448154</td>\n",
       "      <td>0.060018</td>\n",
       "      <td>-0.082361</td>\n",
       "      <td>-0.078803</td>\n",
       "      <td>0.085102</td>\n",
       "      <td>-0.255425</td>\n",
       "      <td>...</td>\n",
       "      <td>-0.225775</td>\n",
       "      <td>-0.638672</td>\n",
       "      <td>0.101288</td>\n",
       "      <td>-0.339846</td>\n",
       "      <td>0.167170</td>\n",
       "      <td>0.125895</td>\n",
       "      <td>-0.008983</td>\n",
       "      <td>0.014724</td>\n",
       "      <td>2.69</td>\n",
       "      <td>0</td>\n",
       "    </tr>\n",
       "    <tr>\n",
       "      <th>2</th>\n",
       "      <td>1.0</td>\n",
       "      <td>-1.358354</td>\n",
       "      <td>-1.340163</td>\n",
       "      <td>1.773209</td>\n",
       "      <td>0.379780</td>\n",
       "      <td>-0.503198</td>\n",
       "      <td>1.800499</td>\n",
       "      <td>0.791461</td>\n",
       "      <td>0.247676</td>\n",
       "      <td>-1.514654</td>\n",
       "      <td>...</td>\n",
       "      <td>0.247998</td>\n",
       "      <td>0.771679</td>\n",
       "      <td>0.909412</td>\n",
       "      <td>-0.689281</td>\n",
       "      <td>-0.327642</td>\n",
       "      <td>-0.139097</td>\n",
       "      <td>-0.055353</td>\n",
       "      <td>-0.059752</td>\n",
       "      <td>378.66</td>\n",
       "      <td>0</td>\n",
       "    </tr>\n",
       "    <tr>\n",
       "      <th>3</th>\n",
       "      <td>1.0</td>\n",
       "      <td>-0.966272</td>\n",
       "      <td>-0.185226</td>\n",
       "      <td>1.792993</td>\n",
       "      <td>-0.863291</td>\n",
       "      <td>-0.010309</td>\n",
       "      <td>1.247203</td>\n",
       "      <td>0.237609</td>\n",
       "      <td>0.377436</td>\n",
       "      <td>-1.387024</td>\n",
       "      <td>...</td>\n",
       "      <td>-0.108300</td>\n",
       "      <td>0.005274</td>\n",
       "      <td>-0.190321</td>\n",
       "      <td>-1.175575</td>\n",
       "      <td>0.647376</td>\n",
       "      <td>-0.221929</td>\n",
       "      <td>0.062723</td>\n",
       "      <td>0.061458</td>\n",
       "      <td>123.50</td>\n",
       "      <td>0</td>\n",
       "    </tr>\n",
       "    <tr>\n",
       "      <th>4</th>\n",
       "      <td>2.0</td>\n",
       "      <td>-1.158233</td>\n",
       "      <td>0.877737</td>\n",
       "      <td>1.548718</td>\n",
       "      <td>0.403034</td>\n",
       "      <td>-0.407193</td>\n",
       "      <td>0.095921</td>\n",
       "      <td>0.592941</td>\n",
       "      <td>-0.270533</td>\n",
       "      <td>0.817739</td>\n",
       "      <td>...</td>\n",
       "      <td>-0.009431</td>\n",
       "      <td>0.798278</td>\n",
       "      <td>-0.137458</td>\n",
       "      <td>0.141267</td>\n",
       "      <td>-0.206010</td>\n",
       "      <td>0.502292</td>\n",
       "      <td>0.219422</td>\n",
       "      <td>0.215153</td>\n",
       "      <td>69.99</td>\n",
       "      <td>0</td>\n",
       "    </tr>\n",
       "  </tbody>\n",
       "</table>\n",
       "<p>5 rows × 31 columns</p>\n",
       "</div>"
      ],
      "text/plain": [
       "   Time        V1        V2        V3        V4        V5        V6        V7  \\\n",
       "0   0.0 -1.359807 -0.072781  2.536347  1.378155 -0.338321  0.462388  0.239599   \n",
       "1   0.0  1.191857  0.266151  0.166480  0.448154  0.060018 -0.082361 -0.078803   \n",
       "2   1.0 -1.358354 -1.340163  1.773209  0.379780 -0.503198  1.800499  0.791461   \n",
       "3   1.0 -0.966272 -0.185226  1.792993 -0.863291 -0.010309  1.247203  0.237609   \n",
       "4   2.0 -1.158233  0.877737  1.548718  0.403034 -0.407193  0.095921  0.592941   \n",
       "\n",
       "         V8        V9  ...       V21       V22       V23       V24       V25  \\\n",
       "0  0.098698  0.363787  ... -0.018307  0.277838 -0.110474  0.066928  0.128539   \n",
       "1  0.085102 -0.255425  ... -0.225775 -0.638672  0.101288 -0.339846  0.167170   \n",
       "2  0.247676 -1.514654  ...  0.247998  0.771679  0.909412 -0.689281 -0.327642   \n",
       "3  0.377436 -1.387024  ... -0.108300  0.005274 -0.190321 -1.175575  0.647376   \n",
       "4 -0.270533  0.817739  ... -0.009431  0.798278 -0.137458  0.141267 -0.206010   \n",
       "\n",
       "        V26       V27       V28  Amount  Class  \n",
       "0 -0.189115  0.133558 -0.021053  149.62      0  \n",
       "1  0.125895 -0.008983  0.014724    2.69      0  \n",
       "2 -0.139097 -0.055353 -0.059752  378.66      0  \n",
       "3 -0.221929  0.062723  0.061458  123.50      0  \n",
       "4  0.502292  0.219422  0.215153   69.99      0  \n",
       "\n",
       "[5 rows x 31 columns]"
      ]
     },
     "execution_count": 3,
     "metadata": {},
     "output_type": "execute_result"
    }
   ],
   "source": [
    "df.head()"
   ]
  },
  {
   "cell_type": "code",
   "execution_count": 4,
   "metadata": {},
   "outputs": [],
   "source": [
    "fraud = df[df['Class']==1]"
   ]
  },
  {
   "cell_type": "code",
   "execution_count": 5,
   "metadata": {},
   "outputs": [],
   "source": [
    "genuine = df[df['Class']==0].sample(len(fraud))"
   ]
  },
  {
   "cell_type": "code",
   "execution_count": 6,
   "metadata": {},
   "outputs": [],
   "source": [
    "df_balanced = pd.concat([fraud,genuine])\n",
    "df_balanced = df_balanced.sample(frac=1, random_state=42)"
   ]
  },
  {
   "cell_type": "code",
   "execution_count": 7,
   "metadata": {},
   "outputs": [],
   "source": [
    "features = df_balanced.drop('Class',axis=1)\n",
    "target = df_balanced['Class']"
   ]
  },
  {
   "cell_type": "code",
   "execution_count": 8,
   "metadata": {},
   "outputs": [
    {
     "data": {
      "text/plain": [
       "1    473\n",
       "0    473\n",
       "Name: Class, dtype: int64"
      ]
     },
     "execution_count": 8,
     "metadata": {},
     "output_type": "execute_result"
    }
   ],
   "source": [
    "target.value_counts()"
   ]
  },
  {
   "cell_type": "code",
   "execution_count": 9,
   "metadata": {},
   "outputs": [],
   "source": [
    "scaler = StandardScaler()\n",
    "features[['Time','Amount']] = scaler.fit_transform(features[['Time','Amount']])"
   ]
  },
  {
   "cell_type": "code",
   "execution_count": 10,
   "metadata": {},
   "outputs": [],
   "source": [
    "X_train, X_test, y_train, y_test = train_test_split(features, target, test_size = 0.3, random_state=1234)"
   ]
  },
  {
   "cell_type": "markdown",
   "metadata": {},
   "source": [
    "### Model Traning + Hyperparameter Tunning"
   ]
  },
  {
   "cell_type": "markdown",
   "metadata": {},
   "source": [
    "#### Logistic Regression Model"
   ]
  },
  {
   "cell_type": "code",
   "execution_count": 35,
   "metadata": {},
   "outputs": [],
   "source": [
    "#the hyperparameters to tune\n",
    "param_grid = {\n",
    "    'C': [0.001, 0.01, 0.1, 1, 10],\n",
    "    'solver': ['liblinear', 'lbfgs'],\n",
    "    'max_iter':[1000,2000,5000]\n",
    "}"
   ]
  },
  {
   "cell_type": "code",
   "execution_count": 36,
   "metadata": {},
   "outputs": [],
   "source": [
    "# Create a GridSearchCV object\n",
    "gscv = GridSearchCV(LogisticRegression(), param_grid, cv=5)"
   ]
  },
  {
   "cell_type": "code",
   "execution_count": 37,
   "metadata": {},
   "outputs": [
    {
     "data": {
      "text/html": [
       "<style>#sk-container-id-8 {color: black;}#sk-container-id-8 pre{padding: 0;}#sk-container-id-8 div.sk-toggleable {background-color: white;}#sk-container-id-8 label.sk-toggleable__label {cursor: pointer;display: block;width: 100%;margin-bottom: 0;padding: 0.3em;box-sizing: border-box;text-align: center;}#sk-container-id-8 label.sk-toggleable__label-arrow:before {content: \"▸\";float: left;margin-right: 0.25em;color: #696969;}#sk-container-id-8 label.sk-toggleable__label-arrow:hover:before {color: black;}#sk-container-id-8 div.sk-estimator:hover label.sk-toggleable__label-arrow:before {color: black;}#sk-container-id-8 div.sk-toggleable__content {max-height: 0;max-width: 0;overflow: hidden;text-align: left;background-color: #f0f8ff;}#sk-container-id-8 div.sk-toggleable__content pre {margin: 0.2em;color: black;border-radius: 0.25em;background-color: #f0f8ff;}#sk-container-id-8 input.sk-toggleable__control:checked~div.sk-toggleable__content {max-height: 200px;max-width: 100%;overflow: auto;}#sk-container-id-8 input.sk-toggleable__control:checked~label.sk-toggleable__label-arrow:before {content: \"▾\";}#sk-container-id-8 div.sk-estimator input.sk-toggleable__control:checked~label.sk-toggleable__label {background-color: #d4ebff;}#sk-container-id-8 div.sk-label input.sk-toggleable__control:checked~label.sk-toggleable__label {background-color: #d4ebff;}#sk-container-id-8 input.sk-hidden--visually {border: 0;clip: rect(1px 1px 1px 1px);clip: rect(1px, 1px, 1px, 1px);height: 1px;margin: -1px;overflow: hidden;padding: 0;position: absolute;width: 1px;}#sk-container-id-8 div.sk-estimator {font-family: monospace;background-color: #f0f8ff;border: 1px dotted black;border-radius: 0.25em;box-sizing: border-box;margin-bottom: 0.5em;}#sk-container-id-8 div.sk-estimator:hover {background-color: #d4ebff;}#sk-container-id-8 div.sk-parallel-item::after {content: \"\";width: 100%;border-bottom: 1px solid gray;flex-grow: 1;}#sk-container-id-8 div.sk-label:hover label.sk-toggleable__label {background-color: #d4ebff;}#sk-container-id-8 div.sk-serial::before {content: \"\";position: absolute;border-left: 1px solid gray;box-sizing: border-box;top: 0;bottom: 0;left: 50%;z-index: 0;}#sk-container-id-8 div.sk-serial {display: flex;flex-direction: column;align-items: center;background-color: white;padding-right: 0.2em;padding-left: 0.2em;position: relative;}#sk-container-id-8 div.sk-item {position: relative;z-index: 1;}#sk-container-id-8 div.sk-parallel {display: flex;align-items: stretch;justify-content: center;background-color: white;position: relative;}#sk-container-id-8 div.sk-item::before, #sk-container-id-8 div.sk-parallel-item::before {content: \"\";position: absolute;border-left: 1px solid gray;box-sizing: border-box;top: 0;bottom: 0;left: 50%;z-index: -1;}#sk-container-id-8 div.sk-parallel-item {display: flex;flex-direction: column;z-index: 1;position: relative;background-color: white;}#sk-container-id-8 div.sk-parallel-item:first-child::after {align-self: flex-end;width: 50%;}#sk-container-id-8 div.sk-parallel-item:last-child::after {align-self: flex-start;width: 50%;}#sk-container-id-8 div.sk-parallel-item:only-child::after {width: 0;}#sk-container-id-8 div.sk-dashed-wrapped {border: 1px dashed gray;margin: 0 0.4em 0.5em 0.4em;box-sizing: border-box;padding-bottom: 0.4em;background-color: white;}#sk-container-id-8 div.sk-label label {font-family: monospace;font-weight: bold;display: inline-block;line-height: 1.2em;}#sk-container-id-8 div.sk-label-container {text-align: center;}#sk-container-id-8 div.sk-container {/* jupyter's `normalize.less` sets `[hidden] { display: none; }` but bootstrap.min.css set `[hidden] { display: none !important; }` so we also need the `!important` here to be able to override the default hidden behavior on the sphinx rendered scikit-learn.org. See: https://github.com/scikit-learn/scikit-learn/issues/21755 */display: inline-block !important;position: relative;}#sk-container-id-8 div.sk-text-repr-fallback {display: none;}</style><div id=\"sk-container-id-8\" class=\"sk-top-container\"><div class=\"sk-text-repr-fallback\"><pre>GridSearchCV(cv=5, estimator=LogisticRegression(),\n",
       "             param_grid={&#x27;C&#x27;: [0.001, 0.01, 0.1, 1, 10],\n",
       "                         &#x27;max_iter&#x27;: [1000, 2000, 5000],\n",
       "                         &#x27;solver&#x27;: [&#x27;liblinear&#x27;, &#x27;lbfgs&#x27;]})</pre><b>In a Jupyter environment, please rerun this cell to show the HTML representation or trust the notebook. <br />On GitHub, the HTML representation is unable to render, please try loading this page with nbviewer.org.</b></div><div class=\"sk-container\" hidden><div class=\"sk-item sk-dashed-wrapped\"><div class=\"sk-label-container\"><div class=\"sk-label sk-toggleable\"><input class=\"sk-toggleable__control sk-hidden--visually\" id=\"sk-estimator-id-20\" type=\"checkbox\" ><label for=\"sk-estimator-id-20\" class=\"sk-toggleable__label sk-toggleable__label-arrow\">GridSearchCV</label><div class=\"sk-toggleable__content\"><pre>GridSearchCV(cv=5, estimator=LogisticRegression(),\n",
       "             param_grid={&#x27;C&#x27;: [0.001, 0.01, 0.1, 1, 10],\n",
       "                         &#x27;max_iter&#x27;: [1000, 2000, 5000],\n",
       "                         &#x27;solver&#x27;: [&#x27;liblinear&#x27;, &#x27;lbfgs&#x27;]})</pre></div></div></div><div class=\"sk-parallel\"><div class=\"sk-parallel-item\"><div class=\"sk-item\"><div class=\"sk-label-container\"><div class=\"sk-label sk-toggleable\"><input class=\"sk-toggleable__control sk-hidden--visually\" id=\"sk-estimator-id-21\" type=\"checkbox\" ><label for=\"sk-estimator-id-21\" class=\"sk-toggleable__label sk-toggleable__label-arrow\">estimator: LogisticRegression</label><div class=\"sk-toggleable__content\"><pre>LogisticRegression()</pre></div></div></div><div class=\"sk-serial\"><div class=\"sk-item\"><div class=\"sk-estimator sk-toggleable\"><input class=\"sk-toggleable__control sk-hidden--visually\" id=\"sk-estimator-id-22\" type=\"checkbox\" ><label for=\"sk-estimator-id-22\" class=\"sk-toggleable__label sk-toggleable__label-arrow\">LogisticRegression</label><div class=\"sk-toggleable__content\"><pre>LogisticRegression()</pre></div></div></div></div></div></div></div></div></div></div>"
      ],
      "text/plain": [
       "GridSearchCV(cv=5, estimator=LogisticRegression(),\n",
       "             param_grid={'C': [0.001, 0.01, 0.1, 1, 10],\n",
       "                         'max_iter': [1000, 2000, 5000],\n",
       "                         'solver': ['liblinear', 'lbfgs']})"
      ]
     },
     "execution_count": 37,
     "metadata": {},
     "output_type": "execute_result"
    }
   ],
   "source": [
    "# Fit the GridSearchCV object to the training data\n",
    "gscv.fit(X_train, y_train)"
   ]
  },
  {
   "cell_type": "code",
   "execution_count": 38,
   "metadata": {},
   "outputs": [],
   "source": [
    "best_params = gscv.best_params_"
   ]
  },
  {
   "cell_type": "code",
   "execution_count": 39,
   "metadata": {},
   "outputs": [
    {
     "data": {
      "text/html": [
       "<style>#sk-container-id-9 {color: black;}#sk-container-id-9 pre{padding: 0;}#sk-container-id-9 div.sk-toggleable {background-color: white;}#sk-container-id-9 label.sk-toggleable__label {cursor: pointer;display: block;width: 100%;margin-bottom: 0;padding: 0.3em;box-sizing: border-box;text-align: center;}#sk-container-id-9 label.sk-toggleable__label-arrow:before {content: \"▸\";float: left;margin-right: 0.25em;color: #696969;}#sk-container-id-9 label.sk-toggleable__label-arrow:hover:before {color: black;}#sk-container-id-9 div.sk-estimator:hover label.sk-toggleable__label-arrow:before {color: black;}#sk-container-id-9 div.sk-toggleable__content {max-height: 0;max-width: 0;overflow: hidden;text-align: left;background-color: #f0f8ff;}#sk-container-id-9 div.sk-toggleable__content pre {margin: 0.2em;color: black;border-radius: 0.25em;background-color: #f0f8ff;}#sk-container-id-9 input.sk-toggleable__control:checked~div.sk-toggleable__content {max-height: 200px;max-width: 100%;overflow: auto;}#sk-container-id-9 input.sk-toggleable__control:checked~label.sk-toggleable__label-arrow:before {content: \"▾\";}#sk-container-id-9 div.sk-estimator input.sk-toggleable__control:checked~label.sk-toggleable__label {background-color: #d4ebff;}#sk-container-id-9 div.sk-label input.sk-toggleable__control:checked~label.sk-toggleable__label {background-color: #d4ebff;}#sk-container-id-9 input.sk-hidden--visually {border: 0;clip: rect(1px 1px 1px 1px);clip: rect(1px, 1px, 1px, 1px);height: 1px;margin: -1px;overflow: hidden;padding: 0;position: absolute;width: 1px;}#sk-container-id-9 div.sk-estimator {font-family: monospace;background-color: #f0f8ff;border: 1px dotted black;border-radius: 0.25em;box-sizing: border-box;margin-bottom: 0.5em;}#sk-container-id-9 div.sk-estimator:hover {background-color: #d4ebff;}#sk-container-id-9 div.sk-parallel-item::after {content: \"\";width: 100%;border-bottom: 1px solid gray;flex-grow: 1;}#sk-container-id-9 div.sk-label:hover label.sk-toggleable__label {background-color: #d4ebff;}#sk-container-id-9 div.sk-serial::before {content: \"\";position: absolute;border-left: 1px solid gray;box-sizing: border-box;top: 0;bottom: 0;left: 50%;z-index: 0;}#sk-container-id-9 div.sk-serial {display: flex;flex-direction: column;align-items: center;background-color: white;padding-right: 0.2em;padding-left: 0.2em;position: relative;}#sk-container-id-9 div.sk-item {position: relative;z-index: 1;}#sk-container-id-9 div.sk-parallel {display: flex;align-items: stretch;justify-content: center;background-color: white;position: relative;}#sk-container-id-9 div.sk-item::before, #sk-container-id-9 div.sk-parallel-item::before {content: \"\";position: absolute;border-left: 1px solid gray;box-sizing: border-box;top: 0;bottom: 0;left: 50%;z-index: -1;}#sk-container-id-9 div.sk-parallel-item {display: flex;flex-direction: column;z-index: 1;position: relative;background-color: white;}#sk-container-id-9 div.sk-parallel-item:first-child::after {align-self: flex-end;width: 50%;}#sk-container-id-9 div.sk-parallel-item:last-child::after {align-self: flex-start;width: 50%;}#sk-container-id-9 div.sk-parallel-item:only-child::after {width: 0;}#sk-container-id-9 div.sk-dashed-wrapped {border: 1px dashed gray;margin: 0 0.4em 0.5em 0.4em;box-sizing: border-box;padding-bottom: 0.4em;background-color: white;}#sk-container-id-9 div.sk-label label {font-family: monospace;font-weight: bold;display: inline-block;line-height: 1.2em;}#sk-container-id-9 div.sk-label-container {text-align: center;}#sk-container-id-9 div.sk-container {/* jupyter's `normalize.less` sets `[hidden] { display: none; }` but bootstrap.min.css set `[hidden] { display: none !important; }` so we also need the `!important` here to be able to override the default hidden behavior on the sphinx rendered scikit-learn.org. See: https://github.com/scikit-learn/scikit-learn/issues/21755 */display: inline-block !important;position: relative;}#sk-container-id-9 div.sk-text-repr-fallback {display: none;}</style><div id=\"sk-container-id-9\" class=\"sk-top-container\"><div class=\"sk-text-repr-fallback\"><pre>LogisticRegression(C=1, max_iter=1000)</pre><b>In a Jupyter environment, please rerun this cell to show the HTML representation or trust the notebook. <br />On GitHub, the HTML representation is unable to render, please try loading this page with nbviewer.org.</b></div><div class=\"sk-container\" hidden><div class=\"sk-item\"><div class=\"sk-estimator sk-toggleable\"><input class=\"sk-toggleable__control sk-hidden--visually\" id=\"sk-estimator-id-23\" type=\"checkbox\" checked><label for=\"sk-estimator-id-23\" class=\"sk-toggleable__label sk-toggleable__label-arrow\">LogisticRegression</label><div class=\"sk-toggleable__content\"><pre>LogisticRegression(C=1, max_iter=1000)</pre></div></div></div></div></div>"
      ],
      "text/plain": [
       "LogisticRegression(C=1, max_iter=1000)"
      ]
     },
     "execution_count": 39,
     "metadata": {},
     "output_type": "execute_result"
    }
   ],
   "source": [
    "lgt = LogisticRegression(**best_params)\n",
    "lgt.fit(X_train, y_train)"
   ]
  },
  {
   "cell_type": "code",
   "execution_count": 40,
   "metadata": {},
   "outputs": [],
   "source": [
    "y_pred = lgt.predict(X_test)"
   ]
  },
  {
   "cell_type": "code",
   "execution_count": 41,
   "metadata": {},
   "outputs": [
    {
     "name": "stdout",
     "output_type": "stream",
     "text": [
      "Accuracy: 0.9330985915492958\n",
      "Precision: 0.9846153846153847\n",
      "Recall: 0.8827586206896552\n",
      "F1-score: 0.9309090909090909\n",
      "MCC: 0.8712930336623459\n"
     ]
    }
   ],
   "source": [
    "accuracy_lgt = accuracy_score(y_test, y_pred)\n",
    "precision_lgt = precision_score(y_test, y_pred)\n",
    "recall_lgt = recall_score(y_test, y_pred)\n",
    "f1_score_lgt = f1_score(y_test, y_pred)\n",
    "mcc_lgt = matthews_corrcoef(y_test, y_pred)\n",
    "\n",
    "print(\"Accuracy:\", accuracy_lgt)\n",
    "print(\"Precision:\", precision_lgt)\n",
    "print(\"Recall:\", recall_lgt)\n",
    "print(\"F1-score:\", f1_score_lgt)\n",
    "print(\"MCC:\", mcc_lgt)"
   ]
  },
  {
   "cell_type": "code",
   "execution_count": 42,
   "metadata": {},
   "outputs": [
    {
     "name": "stdout",
     "output_type": "stream",
     "text": [
      "[[137   2]\n",
      " [ 17 128]]\n"
     ]
    }
   ],
   "source": [
    "cm_logit = confusion_matrix(y_test, y_pred)\n",
    "print(cm_logit)"
   ]
  },
  {
   "cell_type": "markdown",
   "metadata": {},
   "source": [
    "#### SVM Model"
   ]
  },
  {
   "cell_type": "code",
   "execution_count": 44,
   "metadata": {},
   "outputs": [],
   "source": [
    "param_grid_svm = {'C': [0.1, 1, 10, 100, 1000],  \n",
    "              'gamma': [1, 0.1, 0.01, 0.001, 0.0001], \n",
    "              } "
   ]
  },
  {
   "cell_type": "code",
   "execution_count": 45,
   "metadata": {},
   "outputs": [],
   "source": [
    "# Create a GridSearchCV object\n",
    "gscv_svm = GridSearchCV(SVC(), param_grid_svm, cv=5)"
   ]
  },
  {
   "cell_type": "code",
   "execution_count": 46,
   "metadata": {},
   "outputs": [
    {
     "data": {
      "text/html": [
       "<style>#sk-container-id-10 {color: black;}#sk-container-id-10 pre{padding: 0;}#sk-container-id-10 div.sk-toggleable {background-color: white;}#sk-container-id-10 label.sk-toggleable__label {cursor: pointer;display: block;width: 100%;margin-bottom: 0;padding: 0.3em;box-sizing: border-box;text-align: center;}#sk-container-id-10 label.sk-toggleable__label-arrow:before {content: \"▸\";float: left;margin-right: 0.25em;color: #696969;}#sk-container-id-10 label.sk-toggleable__label-arrow:hover:before {color: black;}#sk-container-id-10 div.sk-estimator:hover label.sk-toggleable__label-arrow:before {color: black;}#sk-container-id-10 div.sk-toggleable__content {max-height: 0;max-width: 0;overflow: hidden;text-align: left;background-color: #f0f8ff;}#sk-container-id-10 div.sk-toggleable__content pre {margin: 0.2em;color: black;border-radius: 0.25em;background-color: #f0f8ff;}#sk-container-id-10 input.sk-toggleable__control:checked~div.sk-toggleable__content {max-height: 200px;max-width: 100%;overflow: auto;}#sk-container-id-10 input.sk-toggleable__control:checked~label.sk-toggleable__label-arrow:before {content: \"▾\";}#sk-container-id-10 div.sk-estimator input.sk-toggleable__control:checked~label.sk-toggleable__label {background-color: #d4ebff;}#sk-container-id-10 div.sk-label input.sk-toggleable__control:checked~label.sk-toggleable__label {background-color: #d4ebff;}#sk-container-id-10 input.sk-hidden--visually {border: 0;clip: rect(1px 1px 1px 1px);clip: rect(1px, 1px, 1px, 1px);height: 1px;margin: -1px;overflow: hidden;padding: 0;position: absolute;width: 1px;}#sk-container-id-10 div.sk-estimator {font-family: monospace;background-color: #f0f8ff;border: 1px dotted black;border-radius: 0.25em;box-sizing: border-box;margin-bottom: 0.5em;}#sk-container-id-10 div.sk-estimator:hover {background-color: #d4ebff;}#sk-container-id-10 div.sk-parallel-item::after {content: \"\";width: 100%;border-bottom: 1px solid gray;flex-grow: 1;}#sk-container-id-10 div.sk-label:hover label.sk-toggleable__label {background-color: #d4ebff;}#sk-container-id-10 div.sk-serial::before {content: \"\";position: absolute;border-left: 1px solid gray;box-sizing: border-box;top: 0;bottom: 0;left: 50%;z-index: 0;}#sk-container-id-10 div.sk-serial {display: flex;flex-direction: column;align-items: center;background-color: white;padding-right: 0.2em;padding-left: 0.2em;position: relative;}#sk-container-id-10 div.sk-item {position: relative;z-index: 1;}#sk-container-id-10 div.sk-parallel {display: flex;align-items: stretch;justify-content: center;background-color: white;position: relative;}#sk-container-id-10 div.sk-item::before, #sk-container-id-10 div.sk-parallel-item::before {content: \"\";position: absolute;border-left: 1px solid gray;box-sizing: border-box;top: 0;bottom: 0;left: 50%;z-index: -1;}#sk-container-id-10 div.sk-parallel-item {display: flex;flex-direction: column;z-index: 1;position: relative;background-color: white;}#sk-container-id-10 div.sk-parallel-item:first-child::after {align-self: flex-end;width: 50%;}#sk-container-id-10 div.sk-parallel-item:last-child::after {align-self: flex-start;width: 50%;}#sk-container-id-10 div.sk-parallel-item:only-child::after {width: 0;}#sk-container-id-10 div.sk-dashed-wrapped {border: 1px dashed gray;margin: 0 0.4em 0.5em 0.4em;box-sizing: border-box;padding-bottom: 0.4em;background-color: white;}#sk-container-id-10 div.sk-label label {font-family: monospace;font-weight: bold;display: inline-block;line-height: 1.2em;}#sk-container-id-10 div.sk-label-container {text-align: center;}#sk-container-id-10 div.sk-container {/* jupyter's `normalize.less` sets `[hidden] { display: none; }` but bootstrap.min.css set `[hidden] { display: none !important; }` so we also need the `!important` here to be able to override the default hidden behavior on the sphinx rendered scikit-learn.org. See: https://github.com/scikit-learn/scikit-learn/issues/21755 */display: inline-block !important;position: relative;}#sk-container-id-10 div.sk-text-repr-fallback {display: none;}</style><div id=\"sk-container-id-10\" class=\"sk-top-container\"><div class=\"sk-text-repr-fallback\"><pre>GridSearchCV(cv=5, estimator=SVC(),\n",
       "             param_grid={&#x27;C&#x27;: [0.1, 1, 10, 100, 1000],\n",
       "                         &#x27;gamma&#x27;: [1, 0.1, 0.01, 0.001, 0.0001]})</pre><b>In a Jupyter environment, please rerun this cell to show the HTML representation or trust the notebook. <br />On GitHub, the HTML representation is unable to render, please try loading this page with nbviewer.org.</b></div><div class=\"sk-container\" hidden><div class=\"sk-item sk-dashed-wrapped\"><div class=\"sk-label-container\"><div class=\"sk-label sk-toggleable\"><input class=\"sk-toggleable__control sk-hidden--visually\" id=\"sk-estimator-id-24\" type=\"checkbox\" ><label for=\"sk-estimator-id-24\" class=\"sk-toggleable__label sk-toggleable__label-arrow\">GridSearchCV</label><div class=\"sk-toggleable__content\"><pre>GridSearchCV(cv=5, estimator=SVC(),\n",
       "             param_grid={&#x27;C&#x27;: [0.1, 1, 10, 100, 1000],\n",
       "                         &#x27;gamma&#x27;: [1, 0.1, 0.01, 0.001, 0.0001]})</pre></div></div></div><div class=\"sk-parallel\"><div class=\"sk-parallel-item\"><div class=\"sk-item\"><div class=\"sk-label-container\"><div class=\"sk-label sk-toggleable\"><input class=\"sk-toggleable__control sk-hidden--visually\" id=\"sk-estimator-id-25\" type=\"checkbox\" ><label for=\"sk-estimator-id-25\" class=\"sk-toggleable__label sk-toggleable__label-arrow\">estimator: SVC</label><div class=\"sk-toggleable__content\"><pre>SVC()</pre></div></div></div><div class=\"sk-serial\"><div class=\"sk-item\"><div class=\"sk-estimator sk-toggleable\"><input class=\"sk-toggleable__control sk-hidden--visually\" id=\"sk-estimator-id-26\" type=\"checkbox\" ><label for=\"sk-estimator-id-26\" class=\"sk-toggleable__label sk-toggleable__label-arrow\">SVC</label><div class=\"sk-toggleable__content\"><pre>SVC()</pre></div></div></div></div></div></div></div></div></div></div>"
      ],
      "text/plain": [
       "GridSearchCV(cv=5, estimator=SVC(),\n",
       "             param_grid={'C': [0.1, 1, 10, 100, 1000],\n",
       "                         'gamma': [1, 0.1, 0.01, 0.001, 0.0001]})"
      ]
     },
     "execution_count": 46,
     "metadata": {},
     "output_type": "execute_result"
    }
   ],
   "source": [
    "gscv_svm.fit(X_train, y_train) "
   ]
  },
  {
   "cell_type": "code",
   "execution_count": 51,
   "metadata": {},
   "outputs": [],
   "source": [
    "best_params_svm = gscv_svm.best_params_"
   ]
  },
  {
   "cell_type": "code",
   "execution_count": 52,
   "metadata": {},
   "outputs": [
    {
     "data": {
      "text/html": [
       "<style>#sk-container-id-12 {color: black;}#sk-container-id-12 pre{padding: 0;}#sk-container-id-12 div.sk-toggleable {background-color: white;}#sk-container-id-12 label.sk-toggleable__label {cursor: pointer;display: block;width: 100%;margin-bottom: 0;padding: 0.3em;box-sizing: border-box;text-align: center;}#sk-container-id-12 label.sk-toggleable__label-arrow:before {content: \"▸\";float: left;margin-right: 0.25em;color: #696969;}#sk-container-id-12 label.sk-toggleable__label-arrow:hover:before {color: black;}#sk-container-id-12 div.sk-estimator:hover label.sk-toggleable__label-arrow:before {color: black;}#sk-container-id-12 div.sk-toggleable__content {max-height: 0;max-width: 0;overflow: hidden;text-align: left;background-color: #f0f8ff;}#sk-container-id-12 div.sk-toggleable__content pre {margin: 0.2em;color: black;border-radius: 0.25em;background-color: #f0f8ff;}#sk-container-id-12 input.sk-toggleable__control:checked~div.sk-toggleable__content {max-height: 200px;max-width: 100%;overflow: auto;}#sk-container-id-12 input.sk-toggleable__control:checked~label.sk-toggleable__label-arrow:before {content: \"▾\";}#sk-container-id-12 div.sk-estimator input.sk-toggleable__control:checked~label.sk-toggleable__label {background-color: #d4ebff;}#sk-container-id-12 div.sk-label input.sk-toggleable__control:checked~label.sk-toggleable__label {background-color: #d4ebff;}#sk-container-id-12 input.sk-hidden--visually {border: 0;clip: rect(1px 1px 1px 1px);clip: rect(1px, 1px, 1px, 1px);height: 1px;margin: -1px;overflow: hidden;padding: 0;position: absolute;width: 1px;}#sk-container-id-12 div.sk-estimator {font-family: monospace;background-color: #f0f8ff;border: 1px dotted black;border-radius: 0.25em;box-sizing: border-box;margin-bottom: 0.5em;}#sk-container-id-12 div.sk-estimator:hover {background-color: #d4ebff;}#sk-container-id-12 div.sk-parallel-item::after {content: \"\";width: 100%;border-bottom: 1px solid gray;flex-grow: 1;}#sk-container-id-12 div.sk-label:hover label.sk-toggleable__label {background-color: #d4ebff;}#sk-container-id-12 div.sk-serial::before {content: \"\";position: absolute;border-left: 1px solid gray;box-sizing: border-box;top: 0;bottom: 0;left: 50%;z-index: 0;}#sk-container-id-12 div.sk-serial {display: flex;flex-direction: column;align-items: center;background-color: white;padding-right: 0.2em;padding-left: 0.2em;position: relative;}#sk-container-id-12 div.sk-item {position: relative;z-index: 1;}#sk-container-id-12 div.sk-parallel {display: flex;align-items: stretch;justify-content: center;background-color: white;position: relative;}#sk-container-id-12 div.sk-item::before, #sk-container-id-12 div.sk-parallel-item::before {content: \"\";position: absolute;border-left: 1px solid gray;box-sizing: border-box;top: 0;bottom: 0;left: 50%;z-index: -1;}#sk-container-id-12 div.sk-parallel-item {display: flex;flex-direction: column;z-index: 1;position: relative;background-color: white;}#sk-container-id-12 div.sk-parallel-item:first-child::after {align-self: flex-end;width: 50%;}#sk-container-id-12 div.sk-parallel-item:last-child::after {align-self: flex-start;width: 50%;}#sk-container-id-12 div.sk-parallel-item:only-child::after {width: 0;}#sk-container-id-12 div.sk-dashed-wrapped {border: 1px dashed gray;margin: 0 0.4em 0.5em 0.4em;box-sizing: border-box;padding-bottom: 0.4em;background-color: white;}#sk-container-id-12 div.sk-label label {font-family: monospace;font-weight: bold;display: inline-block;line-height: 1.2em;}#sk-container-id-12 div.sk-label-container {text-align: center;}#sk-container-id-12 div.sk-container {/* jupyter's `normalize.less` sets `[hidden] { display: none; }` but bootstrap.min.css set `[hidden] { display: none !important; }` so we also need the `!important` here to be able to override the default hidden behavior on the sphinx rendered scikit-learn.org. See: https://github.com/scikit-learn/scikit-learn/issues/21755 */display: inline-block !important;position: relative;}#sk-container-id-12 div.sk-text-repr-fallback {display: none;}</style><div id=\"sk-container-id-12\" class=\"sk-top-container\"><div class=\"sk-text-repr-fallback\"><pre>SVC(C=100, gamma=0.001)</pre><b>In a Jupyter environment, please rerun this cell to show the HTML representation or trust the notebook. <br />On GitHub, the HTML representation is unable to render, please try loading this page with nbviewer.org.</b></div><div class=\"sk-container\" hidden><div class=\"sk-item\"><div class=\"sk-estimator sk-toggleable\"><input class=\"sk-toggleable__control sk-hidden--visually\" id=\"sk-estimator-id-28\" type=\"checkbox\" checked><label for=\"sk-estimator-id-28\" class=\"sk-toggleable__label sk-toggleable__label-arrow\">SVC</label><div class=\"sk-toggleable__content\"><pre>SVC(C=100, gamma=0.001)</pre></div></div></div></div></div>"
      ],
      "text/plain": [
       "SVC(C=100, gamma=0.001)"
      ]
     },
     "execution_count": 52,
     "metadata": {},
     "output_type": "execute_result"
    }
   ],
   "source": [
    "svm = SVC(**best_params_svm)\n",
    "\n",
    "svm.fit(X_train, y_train)"
   ]
  },
  {
   "cell_type": "code",
   "execution_count": 53,
   "metadata": {},
   "outputs": [],
   "source": [
    "y_pred_svm = svm.predict(X_test)"
   ]
  },
  {
   "cell_type": "code",
   "execution_count": 54,
   "metadata": {},
   "outputs": [
    {
     "name": "stdout",
     "output_type": "stream",
     "text": [
      "Accuracy: 0.9225352112676056\n",
      "Precision: 0.9694656488549618\n",
      "Recall: 0.8758620689655172\n",
      "F1-score: 0.9202898550724637\n",
      "MCC: 0.8494485431545925\n"
     ]
    }
   ],
   "source": [
    "accuracy_svm = accuracy_score(y_test, y_pred_svm)\n",
    "precision_svm = precision_score(y_test, y_pred_svm)\n",
    "recall_svm = recall_score(y_test, y_pred_svm)\n",
    "f1_score_svm = f1_score(y_test, y_pred_svm)\n",
    "mcc_svm = matthews_corrcoef(y_test, y_pred_svm)\n",
    "\n",
    "print(\"Accuracy:\", accuracy_svm)\n",
    "print(\"Precision:\", precision_svm)\n",
    "print(\"Recall:\", recall_svm)\n",
    "print(\"F1-score:\", f1_score_svm)\n",
    "print(\"MCC:\", mcc_svm)"
   ]
  },
  {
   "cell_type": "code",
   "execution_count": 55,
   "metadata": {},
   "outputs": [
    {
     "name": "stdout",
     "output_type": "stream",
     "text": [
      "[[135   4]\n",
      " [ 18 127]]\n"
     ]
    }
   ],
   "source": [
    "cm_svm = confusion_matrix(y_test, y_pred_svm)\n",
    "print(cm_svm)"
   ]
  },
  {
   "cell_type": "markdown",
   "metadata": {},
   "source": [
    "#### Decision Tree"
   ]
  },
  {
   "cell_type": "code",
   "execution_count": 56,
   "metadata": {},
   "outputs": [],
   "source": [
    "param_grid_dt = {\n",
    "    'max_depth': [3, 5, 7, 10, 15, 20],\n",
    "    'min_samples_split': [2, 5, 10, 20, 50],\n",
    "    'min_samples_leaf': [1, 2, 5, 10, 20],\n",
    "    'criterion': ['gini', 'entropy']\n",
    "}"
   ]
  },
  {
   "cell_type": "code",
   "execution_count": 57,
   "metadata": {},
   "outputs": [],
   "source": [
    "# Create a GridSearchCV object\n",
    "gscv_dt = GridSearchCV(DecisionTreeClassifier(), param_grid_dt, cv=5)"
   ]
  },
  {
   "cell_type": "code",
   "execution_count": 58,
   "metadata": {},
   "outputs": [
    {
     "data": {
      "text/html": [
       "<style>#sk-container-id-13 {color: black;}#sk-container-id-13 pre{padding: 0;}#sk-container-id-13 div.sk-toggleable {background-color: white;}#sk-container-id-13 label.sk-toggleable__label {cursor: pointer;display: block;width: 100%;margin-bottom: 0;padding: 0.3em;box-sizing: border-box;text-align: center;}#sk-container-id-13 label.sk-toggleable__label-arrow:before {content: \"▸\";float: left;margin-right: 0.25em;color: #696969;}#sk-container-id-13 label.sk-toggleable__label-arrow:hover:before {color: black;}#sk-container-id-13 div.sk-estimator:hover label.sk-toggleable__label-arrow:before {color: black;}#sk-container-id-13 div.sk-toggleable__content {max-height: 0;max-width: 0;overflow: hidden;text-align: left;background-color: #f0f8ff;}#sk-container-id-13 div.sk-toggleable__content pre {margin: 0.2em;color: black;border-radius: 0.25em;background-color: #f0f8ff;}#sk-container-id-13 input.sk-toggleable__control:checked~div.sk-toggleable__content {max-height: 200px;max-width: 100%;overflow: auto;}#sk-container-id-13 input.sk-toggleable__control:checked~label.sk-toggleable__label-arrow:before {content: \"▾\";}#sk-container-id-13 div.sk-estimator input.sk-toggleable__control:checked~label.sk-toggleable__label {background-color: #d4ebff;}#sk-container-id-13 div.sk-label input.sk-toggleable__control:checked~label.sk-toggleable__label {background-color: #d4ebff;}#sk-container-id-13 input.sk-hidden--visually {border: 0;clip: rect(1px 1px 1px 1px);clip: rect(1px, 1px, 1px, 1px);height: 1px;margin: -1px;overflow: hidden;padding: 0;position: absolute;width: 1px;}#sk-container-id-13 div.sk-estimator {font-family: monospace;background-color: #f0f8ff;border: 1px dotted black;border-radius: 0.25em;box-sizing: border-box;margin-bottom: 0.5em;}#sk-container-id-13 div.sk-estimator:hover {background-color: #d4ebff;}#sk-container-id-13 div.sk-parallel-item::after {content: \"\";width: 100%;border-bottom: 1px solid gray;flex-grow: 1;}#sk-container-id-13 div.sk-label:hover label.sk-toggleable__label {background-color: #d4ebff;}#sk-container-id-13 div.sk-serial::before {content: \"\";position: absolute;border-left: 1px solid gray;box-sizing: border-box;top: 0;bottom: 0;left: 50%;z-index: 0;}#sk-container-id-13 div.sk-serial {display: flex;flex-direction: column;align-items: center;background-color: white;padding-right: 0.2em;padding-left: 0.2em;position: relative;}#sk-container-id-13 div.sk-item {position: relative;z-index: 1;}#sk-container-id-13 div.sk-parallel {display: flex;align-items: stretch;justify-content: center;background-color: white;position: relative;}#sk-container-id-13 div.sk-item::before, #sk-container-id-13 div.sk-parallel-item::before {content: \"\";position: absolute;border-left: 1px solid gray;box-sizing: border-box;top: 0;bottom: 0;left: 50%;z-index: -1;}#sk-container-id-13 div.sk-parallel-item {display: flex;flex-direction: column;z-index: 1;position: relative;background-color: white;}#sk-container-id-13 div.sk-parallel-item:first-child::after {align-self: flex-end;width: 50%;}#sk-container-id-13 div.sk-parallel-item:last-child::after {align-self: flex-start;width: 50%;}#sk-container-id-13 div.sk-parallel-item:only-child::after {width: 0;}#sk-container-id-13 div.sk-dashed-wrapped {border: 1px dashed gray;margin: 0 0.4em 0.5em 0.4em;box-sizing: border-box;padding-bottom: 0.4em;background-color: white;}#sk-container-id-13 div.sk-label label {font-family: monospace;font-weight: bold;display: inline-block;line-height: 1.2em;}#sk-container-id-13 div.sk-label-container {text-align: center;}#sk-container-id-13 div.sk-container {/* jupyter's `normalize.less` sets `[hidden] { display: none; }` but bootstrap.min.css set `[hidden] { display: none !important; }` so we also need the `!important` here to be able to override the default hidden behavior on the sphinx rendered scikit-learn.org. See: https://github.com/scikit-learn/scikit-learn/issues/21755 */display: inline-block !important;position: relative;}#sk-container-id-13 div.sk-text-repr-fallback {display: none;}</style><div id=\"sk-container-id-13\" class=\"sk-top-container\"><div class=\"sk-text-repr-fallback\"><pre>GridSearchCV(cv=5, estimator=DecisionTreeClassifier(),\n",
       "             param_grid={&#x27;criterion&#x27;: [&#x27;gini&#x27;, &#x27;entropy&#x27;],\n",
       "                         &#x27;max_depth&#x27;: [3, 5, 7, 10, 15, 20],\n",
       "                         &#x27;min_samples_leaf&#x27;: [1, 2, 5, 10, 20],\n",
       "                         &#x27;min_samples_split&#x27;: [2, 5, 10, 20, 50]})</pre><b>In a Jupyter environment, please rerun this cell to show the HTML representation or trust the notebook. <br />On GitHub, the HTML representation is unable to render, please try loading this page with nbviewer.org.</b></div><div class=\"sk-container\" hidden><div class=\"sk-item sk-dashed-wrapped\"><div class=\"sk-label-container\"><div class=\"sk-label sk-toggleable\"><input class=\"sk-toggleable__control sk-hidden--visually\" id=\"sk-estimator-id-29\" type=\"checkbox\" ><label for=\"sk-estimator-id-29\" class=\"sk-toggleable__label sk-toggleable__label-arrow\">GridSearchCV</label><div class=\"sk-toggleable__content\"><pre>GridSearchCV(cv=5, estimator=DecisionTreeClassifier(),\n",
       "             param_grid={&#x27;criterion&#x27;: [&#x27;gini&#x27;, &#x27;entropy&#x27;],\n",
       "                         &#x27;max_depth&#x27;: [3, 5, 7, 10, 15, 20],\n",
       "                         &#x27;min_samples_leaf&#x27;: [1, 2, 5, 10, 20],\n",
       "                         &#x27;min_samples_split&#x27;: [2, 5, 10, 20, 50]})</pre></div></div></div><div class=\"sk-parallel\"><div class=\"sk-parallel-item\"><div class=\"sk-item\"><div class=\"sk-label-container\"><div class=\"sk-label sk-toggleable\"><input class=\"sk-toggleable__control sk-hidden--visually\" id=\"sk-estimator-id-30\" type=\"checkbox\" ><label for=\"sk-estimator-id-30\" class=\"sk-toggleable__label sk-toggleable__label-arrow\">estimator: DecisionTreeClassifier</label><div class=\"sk-toggleable__content\"><pre>DecisionTreeClassifier()</pre></div></div></div><div class=\"sk-serial\"><div class=\"sk-item\"><div class=\"sk-estimator sk-toggleable\"><input class=\"sk-toggleable__control sk-hidden--visually\" id=\"sk-estimator-id-31\" type=\"checkbox\" ><label for=\"sk-estimator-id-31\" class=\"sk-toggleable__label sk-toggleable__label-arrow\">DecisionTreeClassifier</label><div class=\"sk-toggleable__content\"><pre>DecisionTreeClassifier()</pre></div></div></div></div></div></div></div></div></div></div>"
      ],
      "text/plain": [
       "GridSearchCV(cv=5, estimator=DecisionTreeClassifier(),\n",
       "             param_grid={'criterion': ['gini', 'entropy'],\n",
       "                         'max_depth': [3, 5, 7, 10, 15, 20],\n",
       "                         'min_samples_leaf': [1, 2, 5, 10, 20],\n",
       "                         'min_samples_split': [2, 5, 10, 20, 50]})"
      ]
     },
     "execution_count": 58,
     "metadata": {},
     "output_type": "execute_result"
    }
   ],
   "source": [
    "gscv_dt.fit(X_train, y_train) "
   ]
  },
  {
   "cell_type": "code",
   "execution_count": 59,
   "metadata": {},
   "outputs": [],
   "source": [
    "best_params_dt = gscv_dt.best_params_"
   ]
  },
  {
   "cell_type": "code",
   "execution_count": 60,
   "metadata": {},
   "outputs": [
    {
     "data": {
      "text/html": [
       "<style>#sk-container-id-14 {color: black;}#sk-container-id-14 pre{padding: 0;}#sk-container-id-14 div.sk-toggleable {background-color: white;}#sk-container-id-14 label.sk-toggleable__label {cursor: pointer;display: block;width: 100%;margin-bottom: 0;padding: 0.3em;box-sizing: border-box;text-align: center;}#sk-container-id-14 label.sk-toggleable__label-arrow:before {content: \"▸\";float: left;margin-right: 0.25em;color: #696969;}#sk-container-id-14 label.sk-toggleable__label-arrow:hover:before {color: black;}#sk-container-id-14 div.sk-estimator:hover label.sk-toggleable__label-arrow:before {color: black;}#sk-container-id-14 div.sk-toggleable__content {max-height: 0;max-width: 0;overflow: hidden;text-align: left;background-color: #f0f8ff;}#sk-container-id-14 div.sk-toggleable__content pre {margin: 0.2em;color: black;border-radius: 0.25em;background-color: #f0f8ff;}#sk-container-id-14 input.sk-toggleable__control:checked~div.sk-toggleable__content {max-height: 200px;max-width: 100%;overflow: auto;}#sk-container-id-14 input.sk-toggleable__control:checked~label.sk-toggleable__label-arrow:before {content: \"▾\";}#sk-container-id-14 div.sk-estimator input.sk-toggleable__control:checked~label.sk-toggleable__label {background-color: #d4ebff;}#sk-container-id-14 div.sk-label input.sk-toggleable__control:checked~label.sk-toggleable__label {background-color: #d4ebff;}#sk-container-id-14 input.sk-hidden--visually {border: 0;clip: rect(1px 1px 1px 1px);clip: rect(1px, 1px, 1px, 1px);height: 1px;margin: -1px;overflow: hidden;padding: 0;position: absolute;width: 1px;}#sk-container-id-14 div.sk-estimator {font-family: monospace;background-color: #f0f8ff;border: 1px dotted black;border-radius: 0.25em;box-sizing: border-box;margin-bottom: 0.5em;}#sk-container-id-14 div.sk-estimator:hover {background-color: #d4ebff;}#sk-container-id-14 div.sk-parallel-item::after {content: \"\";width: 100%;border-bottom: 1px solid gray;flex-grow: 1;}#sk-container-id-14 div.sk-label:hover label.sk-toggleable__label {background-color: #d4ebff;}#sk-container-id-14 div.sk-serial::before {content: \"\";position: absolute;border-left: 1px solid gray;box-sizing: border-box;top: 0;bottom: 0;left: 50%;z-index: 0;}#sk-container-id-14 div.sk-serial {display: flex;flex-direction: column;align-items: center;background-color: white;padding-right: 0.2em;padding-left: 0.2em;position: relative;}#sk-container-id-14 div.sk-item {position: relative;z-index: 1;}#sk-container-id-14 div.sk-parallel {display: flex;align-items: stretch;justify-content: center;background-color: white;position: relative;}#sk-container-id-14 div.sk-item::before, #sk-container-id-14 div.sk-parallel-item::before {content: \"\";position: absolute;border-left: 1px solid gray;box-sizing: border-box;top: 0;bottom: 0;left: 50%;z-index: -1;}#sk-container-id-14 div.sk-parallel-item {display: flex;flex-direction: column;z-index: 1;position: relative;background-color: white;}#sk-container-id-14 div.sk-parallel-item:first-child::after {align-self: flex-end;width: 50%;}#sk-container-id-14 div.sk-parallel-item:last-child::after {align-self: flex-start;width: 50%;}#sk-container-id-14 div.sk-parallel-item:only-child::after {width: 0;}#sk-container-id-14 div.sk-dashed-wrapped {border: 1px dashed gray;margin: 0 0.4em 0.5em 0.4em;box-sizing: border-box;padding-bottom: 0.4em;background-color: white;}#sk-container-id-14 div.sk-label label {font-family: monospace;font-weight: bold;display: inline-block;line-height: 1.2em;}#sk-container-id-14 div.sk-label-container {text-align: center;}#sk-container-id-14 div.sk-container {/* jupyter's `normalize.less` sets `[hidden] { display: none; }` but bootstrap.min.css set `[hidden] { display: none !important; }` so we also need the `!important` here to be able to override the default hidden behavior on the sphinx rendered scikit-learn.org. See: https://github.com/scikit-learn/scikit-learn/issues/21755 */display: inline-block !important;position: relative;}#sk-container-id-14 div.sk-text-repr-fallback {display: none;}</style><div id=\"sk-container-id-14\" class=\"sk-top-container\"><div class=\"sk-text-repr-fallback\"><pre>DecisionTreeClassifier(max_depth=3, min_samples_leaf=2, min_samples_split=10)</pre><b>In a Jupyter environment, please rerun this cell to show the HTML representation or trust the notebook. <br />On GitHub, the HTML representation is unable to render, please try loading this page with nbviewer.org.</b></div><div class=\"sk-container\" hidden><div class=\"sk-item\"><div class=\"sk-estimator sk-toggleable\"><input class=\"sk-toggleable__control sk-hidden--visually\" id=\"sk-estimator-id-32\" type=\"checkbox\" checked><label for=\"sk-estimator-id-32\" class=\"sk-toggleable__label sk-toggleable__label-arrow\">DecisionTreeClassifier</label><div class=\"sk-toggleable__content\"><pre>DecisionTreeClassifier(max_depth=3, min_samples_leaf=2, min_samples_split=10)</pre></div></div></div></div></div>"
      ],
      "text/plain": [
       "DecisionTreeClassifier(max_depth=3, min_samples_leaf=2, min_samples_split=10)"
      ]
     },
     "execution_count": 60,
     "metadata": {},
     "output_type": "execute_result"
    }
   ],
   "source": [
    "dtree = DecisionTreeClassifier(**best_params_dt)\n",
    "\n",
    "dtree.fit(X_train, y_train)"
   ]
  },
  {
   "cell_type": "code",
   "execution_count": 61,
   "metadata": {},
   "outputs": [],
   "source": [
    "y_pred_dtree = dtree.predict(X_test)"
   ]
  },
  {
   "cell_type": "code",
   "execution_count": 62,
   "metadata": {},
   "outputs": [
    {
     "name": "stdout",
     "output_type": "stream",
     "text": [
      "Accuracy: 0.9330985915492958\n",
      "Precision: 1.0\n",
      "Recall: 0.8689655172413793\n",
      "F1-score: 0.9298892988929889\n",
      "MCC: 0.8743395586968635\n"
     ]
    }
   ],
   "source": [
    "accuracy_dtree = accuracy_score(y_test, y_pred_dtree)\n",
    "precision_dtree = precision_score(y_test, y_pred_dtree)\n",
    "recall_dtree = recall_score(y_test, y_pred_dtree)\n",
    "f1_score_dtree = f1_score(y_test, y_pred_dtree)\n",
    "mcc_dtree = matthews_corrcoef(y_test, y_pred_dtree)\n",
    "\n",
    "print(\"Accuracy:\", accuracy_dtree)\n",
    "print(\"Precision:\", precision_dtree)\n",
    "print(\"Recall:\", recall_dtree)\n",
    "print(\"F1-score:\", f1_score_dtree)\n",
    "print(\"MCC:\", mcc_dtree)"
   ]
  },
  {
   "cell_type": "code",
   "execution_count": 63,
   "metadata": {},
   "outputs": [
    {
     "name": "stdout",
     "output_type": "stream",
     "text": [
      "[[139   0]\n",
      " [ 19 126]]\n"
     ]
    }
   ],
   "source": [
    "cm_dt = confusion_matrix(y_test, y_pred_dtree)\n",
    "print(cm_dt)"
   ]
  },
  {
   "cell_type": "markdown",
   "metadata": {},
   "source": [
    "### CNN"
   ]
  },
  {
   "cell_type": "code",
   "execution_count": 12,
   "metadata": {},
   "outputs": [],
   "source": [
    "X_val, X_test1, y_val, y_test1 = train_test_split(X_test, y_test, test_size=0.5, random_state=42)"
   ]
  },
  {
   "cell_type": "code",
   "execution_count": 13,
   "metadata": {},
   "outputs": [],
   "source": [
    "X_train1 = X_train.to_numpy()\n",
    "y_train1 = y_train.to_numpy()\n",
    "X_val1 = X_val.to_numpy()\n",
    "y_val1 = y_val.to_numpy()\n",
    "X_test1 = X_test1.to_numpy()\n",
    "y_test1 = y_test1.to_numpy()"
   ]
  },
  {
   "cell_type": "code",
   "execution_count": 14,
   "metadata": {},
   "outputs": [
    {
     "data": {
      "text/plain": [
       "((662, 30, 1), (142, 30, 1))"
      ]
     },
     "execution_count": 14,
     "metadata": {},
     "output_type": "execute_result"
    }
   ],
   "source": [
    "X_train1 = X_train1.reshape(X_train1.shape[0],X_train1.shape[1],1)\n",
    "X_test1 = X_test1.reshape(X_test1.shape[0],X_test1.shape[1],1)\n",
    "X_train1.shape, X_test1.shape"
   ]
  },
  {
   "cell_type": "code",
   "execution_count": 36,
   "metadata": {},
   "outputs": [
    {
     "name": "stderr",
     "output_type": "stream",
     "text": [
      "C:\\Users\\Ravin\\AppData\\Local\\Temp\\ipykernel_3052\\598770444.py:7: DeprecationWarning: `import kerastuner` is deprecated, please use `import keras_tuner`.\n",
      "  from kerastuner import RandomSearch\n"
     ]
    }
   ],
   "source": [
    "from keras.models import Sequential\n",
    "from keras.layers import Dense,Flatten,Conv1D,BatchNormalization,Dropout\n",
    "from keras.callbacks import EarlyStopping, ModelCheckpoint\n",
    "from keras.wrappers.scikit_learn import KerasClassifier\n",
    "import keras_tuner\n",
    "from tensorflow import keras\n",
    "from kerastuner import RandomSearch\n",
    "from kerastuner.engine.hyperparameters import HyperParameters"
   ]
  },
  {
   "cell_type": "code",
   "execution_count": 16,
   "metadata": {},
   "outputs": [],
   "source": [
    "#import model\n",
    "model=Sequential()"
   ]
  },
  {
   "cell_type": "code",
   "execution_count": 50,
   "metadata": {},
   "outputs": [],
   "source": [
    "def build_model(hp):\n",
    "  model = keras.Sequential([\n",
    "    keras.layers.Conv1D(\n",
    "        filters=hp.Int('conv_1_filter', min_value=32, max_value=128, step=16),\n",
    "        kernel_size=hp.Choice('conv_1_kernel', values = [3,5]),\n",
    "        activation='relu'),\n",
    "    keras.layers.BatchNormalization(),\n",
    "    keras.layers.Dropout(0.2),\n",
    "\n",
    "    keras.layers.Conv1D(\n",
    "        filters=hp.Int('conv_2_filter', min_value=32, max_value=64, step=16),\n",
    "        kernel_size=hp.Choice('conv_2_kernel', values = [3,5]),\n",
    "        activation='relu'),\n",
    "    keras.layers.BatchNormalization(),\n",
    "    keras.layers.Dropout(0.2),\n",
    "\n",
    "    keras.layers.Flatten(),\n",
    "    keras.layers.Dense(\n",
    "        units=hp.Int('dense_1_units', min_value=32, max_value=128, step=16),\n",
    "        activation='relu'),\n",
    "    keras.layers.Dropout(0.5),\n",
    "    keras.layers.Dense(1, activation='relu')\n",
    "  ])\n",
    "\n",
    "  model.compile(optimizer=keras.optimizers.Adam(hp.Choice('learning_rate', values=[1e-2, 1e-3])),\n",
    "                loss='binary_crossentropy',\n",
    "                metrics=['accuracy'])\n",
    "\n",
    "  return model\n"
   ]
  },
  {
   "cell_type": "code",
   "execution_count": 57,
   "metadata": {},
   "outputs": [],
   "source": [
    "tuner = keras_tuner.RandomSearch(\n",
    "    build_model,\n",
    "    objective='val_accuracy',\n",
    "    max_trials=5,\n",
    "    directory='D:/Uni Docs/DSC4996/Dynamic_fraud_detection_system/CNN_output',project_name=\"Hyperparameter Tuning of CNN\")"
   ]
  },
  {
   "cell_type": "code",
   "execution_count": 58,
   "metadata": {},
   "outputs": [
    {
     "name": "stdout",
     "output_type": "stream",
     "text": [
      "Trial 5 Complete [00h 00m 02s]\n",
      "val_accuracy: 0.9154929518699646\n",
      "\n",
      "Best val_accuracy So Far: 0.9154929518699646\n",
      "Total elapsed time: 00h 00m 09s\n"
     ]
    }
   ],
   "source": [
    "tuner.search(X_train1, y_train1, epochs=5, validation_data=(X_val1, y_val1))"
   ]
  },
  {
   "cell_type": "code",
   "execution_count": 61,
   "metadata": {},
   "outputs": [
    {
     "data": {
      "text/plain": [
       "<tf.Tensor: shape=(662, 1), dtype=float32, numpy=\n",
       "array([[4.97735500e+00],\n",
       "       [5.73536015e+00],\n",
       "       [4.20321178e+00],\n",
       "       [2.28749418e+00],\n",
       "       [2.16849327e-01],\n",
       "       [4.03928787e-01],\n",
       "       [3.22039127e-02],\n",
       "       [2.17942465e-02],\n",
       "       [5.51707268e+00],\n",
       "       [9.26881981e+00],\n",
       "       [1.44942701e-01],\n",
       "       [4.73464870e+00],\n",
       "       [8.90975094e+00],\n",
       "       [1.97789848e-01],\n",
       "       [2.27360390e-02],\n",
       "       [4.61292207e-01],\n",
       "       [2.03781664e-01],\n",
       "       [7.07489997e-02],\n",
       "       [1.69355726e+00],\n",
       "       [6.25173378e+00],\n",
       "       [3.34079480e+00],\n",
       "       [0.00000000e+00],\n",
       "       [0.00000000e+00],\n",
       "       [3.72636771e+00],\n",
       "       [3.13647836e-02],\n",
       "       [0.00000000e+00],\n",
       "       [3.04910612e+00],\n",
       "       [3.10361266e+00],\n",
       "       [4.95290375e+00],\n",
       "       [2.00737298e-01],\n",
       "       [1.53310716e-01],\n",
       "       [0.00000000e+00],\n",
       "       [4.41119783e-02],\n",
       "       [3.51418972e-01],\n",
       "       [2.66679615e-01],\n",
       "       [8.32262611e+00],\n",
       "       [1.19100466e-01],\n",
       "       [1.98943913e+00],\n",
       "       [6.74204409e-01],\n",
       "       [9.28790092e+00],\n",
       "       [5.44685030e+00],\n",
       "       [1.92386532e+00],\n",
       "       [0.00000000e+00],\n",
       "       [5.88793659e+00],\n",
       "       [0.00000000e+00],\n",
       "       [4.63741398e+00],\n",
       "       [2.33739901e+00],\n",
       "       [4.70965624e+00],\n",
       "       [1.00242905e-01],\n",
       "       [2.47685730e-01],\n",
       "       [3.48005819e+00],\n",
       "       [0.00000000e+00],\n",
       "       [6.59842491e-01],\n",
       "       [2.08246917e-01],\n",
       "       [3.13522601e+00],\n",
       "       [4.75375986e+00],\n",
       "       [0.00000000e+00],\n",
       "       [2.87285477e-01],\n",
       "       [6.12234640e+00],\n",
       "       [9.17819068e-02],\n",
       "       [2.70874572e+00],\n",
       "       [3.20106924e-01],\n",
       "       [0.00000000e+00],\n",
       "       [9.47123244e-02],\n",
       "       [8.30102563e-01],\n",
       "       [2.91792440e+00],\n",
       "       [4.21387792e-01],\n",
       "       [0.00000000e+00],\n",
       "       [4.78535271e+00],\n",
       "       [2.47487926e+00],\n",
       "       [2.81321645e-01],\n",
       "       [8.32856464e+00],\n",
       "       [3.55873919e+00],\n",
       "       [2.52061725e+00],\n",
       "       [4.30036336e-02],\n",
       "       [3.17545080e+00],\n",
       "       [1.13695249e-01],\n",
       "       [4.25708103e+00],\n",
       "       [0.00000000e+00],\n",
       "       [0.00000000e+00],\n",
       "       [0.00000000e+00],\n",
       "       [4.12340641e+00],\n",
       "       [1.09993148e+00],\n",
       "       [1.85709149e-01],\n",
       "       [1.67967653e+00],\n",
       "       [1.20955758e-01],\n",
       "       [2.35914946e+00],\n",
       "       [9.50952530e+00],\n",
       "       [8.79487991e-02],\n",
       "       [0.00000000e+00],\n",
       "       [6.18675537e-03],\n",
       "       [2.76849627e+00],\n",
       "       [3.73315954e+00],\n",
       "       [1.81910694e-01],\n",
       "       [9.69258404e+00],\n",
       "       [7.31682777e-01],\n",
       "       [5.47637194e-02],\n",
       "       [4.68246460e+00],\n",
       "       [0.00000000e+00],\n",
       "       [2.70999148e-02],\n",
       "       [9.48196888e+00],\n",
       "       [4.63594824e-01],\n",
       "       [0.00000000e+00],\n",
       "       [2.88211346e+00],\n",
       "       [2.40039259e-01],\n",
       "       [1.77302629e-01],\n",
       "       [1.28781259e-01],\n",
       "       [8.25173199e-01],\n",
       "       [7.76103437e-02],\n",
       "       [1.99363410e+00],\n",
       "       [3.27022409e+00],\n",
       "       [2.61981297e+00],\n",
       "       [0.00000000e+00],\n",
       "       [5.10309823e-02],\n",
       "       [4.22644234e+00],\n",
       "       [1.24708720e-01],\n",
       "       [2.22772717e-01],\n",
       "       [0.00000000e+00],\n",
       "       [0.00000000e+00],\n",
       "       [6.61418974e-01],\n",
       "       [4.11984652e-01],\n",
       "       [7.84079170e+00],\n",
       "       [3.23975134e+00],\n",
       "       [4.00725365e+00],\n",
       "       [2.20034897e-01],\n",
       "       [6.24737120e+00],\n",
       "       [2.66054010e+00],\n",
       "       [3.41275072e+00],\n",
       "       [3.88058841e-01],\n",
       "       [1.00255705e-01],\n",
       "       [8.62475276e-01],\n",
       "       [2.23847103e+00],\n",
       "       [5.39829880e-02],\n",
       "       [6.18263304e-01],\n",
       "       [6.12883687e-01],\n",
       "       [1.16082340e-01],\n",
       "       [9.69219303e+00],\n",
       "       [1.97836578e-01],\n",
       "       [0.00000000e+00],\n",
       "       [6.90745488e-02],\n",
       "       [1.81002498e-01],\n",
       "       [0.00000000e+00],\n",
       "       [7.60708824e-02],\n",
       "       [3.13911110e-01],\n",
       "       [2.59644842e+00],\n",
       "       [2.55317974e+00],\n",
       "       [3.43852973e+00],\n",
       "       [2.79791069e+00],\n",
       "       [2.09931552e-01],\n",
       "       [5.79763874e-02],\n",
       "       [1.02436952e-01],\n",
       "       [7.62229040e-02],\n",
       "       [8.44602871e+00],\n",
       "       [0.00000000e+00],\n",
       "       [0.00000000e+00],\n",
       "       [2.53320479e+00],\n",
       "       [3.65661144e-01],\n",
       "       [3.80044818e+00],\n",
       "       [2.53153157e+00],\n",
       "       [0.00000000e+00],\n",
       "       [2.67445110e-02],\n",
       "       [2.04122806e+00],\n",
       "       [1.09830773e+00],\n",
       "       [1.68209124e+00],\n",
       "       [9.23139286e+00],\n",
       "       [1.22245401e-05],\n",
       "       [1.05560414e-01],\n",
       "       [9.61622298e-02],\n",
       "       [2.41507936e+00],\n",
       "       [3.25094819e+00],\n",
       "       [1.60751402e-01],\n",
       "       [2.12475419e-01],\n",
       "       [4.54779196e+00],\n",
       "       [1.05429804e-02],\n",
       "       [2.69981241e+00],\n",
       "       [8.31048107e+00],\n",
       "       [2.34643722e+00],\n",
       "       [5.40084302e-01],\n",
       "       [3.66204113e-01],\n",
       "       [0.00000000e+00],\n",
       "       [0.00000000e+00],\n",
       "       [4.69203405e-02],\n",
       "       [9.05549154e-02],\n",
       "       [0.00000000e+00],\n",
       "       [4.81148094e-01],\n",
       "       [9.34112072e+00],\n",
       "       [2.85773799e-02],\n",
       "       [8.25765133e+00],\n",
       "       [0.00000000e+00],\n",
       "       [2.51221609e+00],\n",
       "       [3.82712245e+00],\n",
       "       [6.66081384e-02],\n",
       "       [4.28252792e+00],\n",
       "       [0.00000000e+00],\n",
       "       [2.54608870e-01],\n",
       "       [6.28639698e+00],\n",
       "       [1.10106921e+00],\n",
       "       [9.25745517e-02],\n",
       "       [9.88465309e+00],\n",
       "       [1.76679611e+00],\n",
       "       [8.17753449e-02],\n",
       "       [1.65981919e-01],\n",
       "       [2.82496810e-01],\n",
       "       [1.15353808e-01],\n",
       "       [2.48125410e+00],\n",
       "       [1.73115385e+00],\n",
       "       [0.00000000e+00],\n",
       "       [0.00000000e+00],\n",
       "       [3.39103460e+00],\n",
       "       [1.90059952e-02],\n",
       "       [2.52237096e-02],\n",
       "       [3.51105541e-01],\n",
       "       [9.39105824e-02],\n",
       "       [1.05732761e-01],\n",
       "       [4.85617542e+00],\n",
       "       [8.64352107e-01],\n",
       "       [8.84703350e+00],\n",
       "       [0.00000000e+00],\n",
       "       [8.98817629e-02],\n",
       "       [2.60051757e-01],\n",
       "       [3.82109690e+00],\n",
       "       [9.40611458e+00],\n",
       "       [9.62487221e+00],\n",
       "       [4.32253599e+00],\n",
       "       [0.00000000e+00],\n",
       "       [5.78822613e-01],\n",
       "       [4.70912552e+00],\n",
       "       [0.00000000e+00],\n",
       "       [8.60598660e+00],\n",
       "       [2.17535400e+00],\n",
       "       [9.83367252e+00],\n",
       "       [3.24413776e+00],\n",
       "       [3.71102047e+00],\n",
       "       [3.56835052e-02],\n",
       "       [2.80913591e+00],\n",
       "       [3.62334657e+00],\n",
       "       [0.00000000e+00],\n",
       "       [1.72044188e-02],\n",
       "       [4.75173771e-01],\n",
       "       [9.58247852e+00],\n",
       "       [5.89290047e+00],\n",
       "       [9.58879375e+00],\n",
       "       [8.86741734e+00],\n",
       "       [9.93118000e+00],\n",
       "       [6.22740746e+00],\n",
       "       [0.00000000e+00],\n",
       "       [4.96970296e-01],\n",
       "       [1.02185458e-01],\n",
       "       [0.00000000e+00],\n",
       "       [8.43690634e-02],\n",
       "       [2.82318807e+00],\n",
       "       [4.20983940e-01],\n",
       "       [1.59563869e-03],\n",
       "       [2.67075062e+00],\n",
       "       [3.28879327e-01],\n",
       "       [1.42987788e-01],\n",
       "       [2.70427895e+00],\n",
       "       [8.13033772e+00],\n",
       "       [4.85983086e+00],\n",
       "       [2.87343711e-01],\n",
       "       [2.29716754e+00],\n",
       "       [1.00077591e+01],\n",
       "       [9.42625332e+00],\n",
       "       [4.88586998e+00],\n",
       "       [9.98234081e+00],\n",
       "       [0.00000000e+00],\n",
       "       [1.84356064e-01],\n",
       "       [7.07384720e-02],\n",
       "       [3.76391506e+00],\n",
       "       [0.00000000e+00],\n",
       "       [8.78473377e+00],\n",
       "       [3.56640434e+00],\n",
       "       [0.00000000e+00],\n",
       "       [8.58141613e+00],\n",
       "       [2.21371233e-01],\n",
       "       [2.17172742e+00],\n",
       "       [0.00000000e+00],\n",
       "       [1.73222399e+00],\n",
       "       [5.59502983e+00],\n",
       "       [0.00000000e+00],\n",
       "       [4.64426577e-01],\n",
       "       [1.25582874e-01],\n",
       "       [4.73733209e-02],\n",
       "       [1.11748494e-01],\n",
       "       [2.17098445e-01],\n",
       "       [0.00000000e+00],\n",
       "       [1.79628104e-01],\n",
       "       [1.29985857e+00],\n",
       "       [2.93951094e-01],\n",
       "       [3.54405165e+00],\n",
       "       [1.02087222e-01],\n",
       "       [3.69407944e-02],\n",
       "       [3.64734322e-01],\n",
       "       [1.77915192e+00],\n",
       "       [9.17002869e+00],\n",
       "       [1.02128990e-01],\n",
       "       [7.24674642e-01],\n",
       "       [0.00000000e+00],\n",
       "       [0.00000000e+00],\n",
       "       [0.00000000e+00],\n",
       "       [2.63505697e-01],\n",
       "       [1.66340756e+00],\n",
       "       [3.91761398e+00],\n",
       "       [3.65080833e+00],\n",
       "       [4.57371712e+00],\n",
       "       [6.18723011e+00],\n",
       "       [5.82618535e-01],\n",
       "       [1.42611474e-01],\n",
       "       [8.26946354e+00],\n",
       "       [1.31083578e-02],\n",
       "       [7.32833818e-02],\n",
       "       [1.09899007e-01],\n",
       "       [4.57924080e+00],\n",
       "       [8.35153484e+00],\n",
       "       [3.10597968e+00],\n",
       "       [9.43184471e+00],\n",
       "       [1.90131783e+00],\n",
       "       [2.32774472e+00],\n",
       "       [7.59786293e-02],\n",
       "       [3.31308126e-01],\n",
       "       [1.49213541e-02],\n",
       "       [3.68583351e-01],\n",
       "       [0.00000000e+00],\n",
       "       [3.45348382e+00],\n",
       "       [1.30026579e-01],\n",
       "       [1.21968593e-02],\n",
       "       [9.16775990e+00],\n",
       "       [4.64914963e-02],\n",
       "       [1.56104505e-01],\n",
       "       [3.45868915e-01],\n",
       "       [3.06580253e-02],\n",
       "       [2.55057144e+00],\n",
       "       [2.68430561e-01],\n",
       "       [1.73123801e+00],\n",
       "       [9.41255283e+00],\n",
       "       [0.00000000e+00],\n",
       "       [2.46506453e+00],\n",
       "       [1.94608420e-01],\n",
       "       [0.00000000e+00],\n",
       "       [1.01910383e-02],\n",
       "       [1.64329171e-01],\n",
       "       [1.68522239e+00],\n",
       "       [3.75747252e+00],\n",
       "       [9.48662663e+00],\n",
       "       [1.50909930e-01],\n",
       "       [1.10691059e+00],\n",
       "       [0.00000000e+00],\n",
       "       [1.97319537e-01],\n",
       "       [1.33161449e+00],\n",
       "       [0.00000000e+00],\n",
       "       [2.90178561e+00],\n",
       "       [1.20602734e-01],\n",
       "       [3.17614055e+00],\n",
       "       [0.00000000e+00],\n",
       "       [1.11916780e-01],\n",
       "       [3.86441261e-01],\n",
       "       [1.79274995e-02],\n",
       "       [3.83501983e+00],\n",
       "       [2.43283987e+00],\n",
       "       [2.63630152e+00],\n",
       "       [9.43291187e+00],\n",
       "       [5.88372612e+00],\n",
       "       [2.54002601e-01],\n",
       "       [4.45047729e-02],\n",
       "       [1.51247799e-01],\n",
       "       [0.00000000e+00],\n",
       "       [2.42374659e+00],\n",
       "       [0.00000000e+00],\n",
       "       [7.55025372e-02],\n",
       "       [0.00000000e+00],\n",
       "       [4.17988110e+00],\n",
       "       [1.13591507e-01],\n",
       "       [2.54204512e+00],\n",
       "       [0.00000000e+00],\n",
       "       [2.39408207e+00],\n",
       "       [2.43698359e+00],\n",
       "       [9.75963688e+00],\n",
       "       [0.00000000e+00],\n",
       "       [4.65833873e-01],\n",
       "       [2.31074840e-01],\n",
       "       [8.51815224e-01],\n",
       "       [0.00000000e+00],\n",
       "       [1.89665496e-01],\n",
       "       [8.64350557e-01],\n",
       "       [0.00000000e+00],\n",
       "       [3.77754712e+00],\n",
       "       [2.05922174e+00],\n",
       "       [4.28931522e+00],\n",
       "       [2.12420392e+00],\n",
       "       [9.78749916e-02],\n",
       "       [6.96319640e-02],\n",
       "       [2.27234030e+00],\n",
       "       [8.73264149e-02],\n",
       "       [0.00000000e+00],\n",
       "       [9.24705696e+00],\n",
       "       [1.20879598e-01],\n",
       "       [5.73202491e-01],\n",
       "       [9.97162685e-02],\n",
       "       [0.00000000e+00],\n",
       "       [5.25308967e-01],\n",
       "       [6.18306175e-02],\n",
       "       [0.00000000e+00],\n",
       "       [2.33270097e+00],\n",
       "       [4.63768101e+00],\n",
       "       [3.55751371e+00],\n",
       "       [2.27612834e-02],\n",
       "       [3.76751542e-01],\n",
       "       [3.77173752e-01],\n",
       "       [0.00000000e+00],\n",
       "       [9.19458199e+00],\n",
       "       [1.77605152e-02],\n",
       "       [2.31937468e-02],\n",
       "       [8.25957119e-01],\n",
       "       [2.06238294e+00],\n",
       "       [0.00000000e+00],\n",
       "       [2.05805159e+00],\n",
       "       [0.00000000e+00],\n",
       "       [2.00073814e+00],\n",
       "       [7.86056072e-02],\n",
       "       [6.92884922e-02],\n",
       "       [8.43617344e+00],\n",
       "       [2.03217417e-01],\n",
       "       [2.04915714e+00],\n",
       "       [3.74846315e+00],\n",
       "       [8.40497762e-02],\n",
       "       [0.00000000e+00],\n",
       "       [1.84362054e-01],\n",
       "       [0.00000000e+00],\n",
       "       [1.00146408e+01],\n",
       "       [4.66824865e+00],\n",
       "       [9.12501621e+00],\n",
       "       [1.11822382e-01],\n",
       "       [7.31708929e-02],\n",
       "       [1.29524887e-01],\n",
       "       [1.47078335e-01],\n",
       "       [5.49398613e+00],\n",
       "       [8.03678483e-03],\n",
       "       [8.59986496e+00],\n",
       "       [1.82115197e-01],\n",
       "       [1.52610421e-01],\n",
       "       [6.08178139e+00],\n",
       "       [2.12837964e-01],\n",
       "       [8.50461864e+00],\n",
       "       [4.22420025e+00],\n",
       "       [3.35623693e+00],\n",
       "       [3.18627882e+00],\n",
       "       [8.83891869e+00],\n",
       "       [2.27107382e+00],\n",
       "       [0.00000000e+00],\n",
       "       [1.27734303e-01],\n",
       "       [2.55527049e-02],\n",
       "       [4.39642000e+00],\n",
       "       [6.06305659e-01],\n",
       "       [1.56187683e-01],\n",
       "       [0.00000000e+00],\n",
       "       [3.54780006e+00],\n",
       "       [9.30813402e-02],\n",
       "       [2.02946723e-01],\n",
       "       [3.34097236e-01],\n",
       "       [4.14270067e+00],\n",
       "       [2.79908395e+00],\n",
       "       [0.00000000e+00],\n",
       "       [9.91854763e+00],\n",
       "       [7.45759234e-02],\n",
       "       [1.23328261e-01],\n",
       "       [1.47972733e-01],\n",
       "       [0.00000000e+00],\n",
       "       [2.30809242e-01],\n",
       "       [0.00000000e+00],\n",
       "       [0.00000000e+00],\n",
       "       [4.51208067e+00],\n",
       "       [1.04119428e-01],\n",
       "       [4.25918531e+00],\n",
       "       [6.08740520e+00],\n",
       "       [2.12344170e-01],\n",
       "       [2.60944813e-01],\n",
       "       [0.00000000e+00],\n",
       "       [9.17503643e+00],\n",
       "       [3.15190136e-01],\n",
       "       [1.23462602e-02],\n",
       "       [9.22927931e-02],\n",
       "       [4.18753296e-01],\n",
       "       [9.24403667e+00],\n",
       "       [3.35521176e-02],\n",
       "       [0.00000000e+00],\n",
       "       [6.04598141e+00],\n",
       "       [4.60876048e-01],\n",
       "       [8.32556057e+00],\n",
       "       [3.87970686e+00],\n",
       "       [9.69950008e+00],\n",
       "       [1.26830161e-01],\n",
       "       [1.30987942e-01],\n",
       "       [8.33833504e+00],\n",
       "       [2.31723547e+00],\n",
       "       [1.02721736e-01],\n",
       "       [3.16728175e-01],\n",
       "       [1.89600617e-01],\n",
       "       [9.44088078e+00],\n",
       "       [2.38751078e+00],\n",
       "       [1.30934924e-01],\n",
       "       [9.53379726e+00],\n",
       "       [0.00000000e+00],\n",
       "       [3.51031876e+00],\n",
       "       [2.66071153e+00],\n",
       "       [0.00000000e+00],\n",
       "       [5.75789027e-02],\n",
       "       [4.74280089e-01],\n",
       "       [6.61456063e-02],\n",
       "       [6.16076887e-02],\n",
       "       [2.59041500e+00],\n",
       "       [1.89021087e+00],\n",
       "       [3.33647221e-01],\n",
       "       [6.54033709e+00],\n",
       "       [2.12886423e-01],\n",
       "       [5.06369543e+00],\n",
       "       [1.46635287e-02],\n",
       "       [8.12720582e-02],\n",
       "       [0.00000000e+00],\n",
       "       [1.77844548e+00],\n",
       "       [8.76530457e+00],\n",
       "       [1.62040405e-02],\n",
       "       [0.00000000e+00],\n",
       "       [0.00000000e+00],\n",
       "       [0.00000000e+00],\n",
       "       [2.04222298e+00],\n",
       "       [4.78102398e+00],\n",
       "       [2.45470619e+00],\n",
       "       [1.09085321e-01],\n",
       "       [0.00000000e+00],\n",
       "       [0.00000000e+00],\n",
       "       [8.06228742e-02],\n",
       "       [5.48537397e+00],\n",
       "       [2.22543329e-01],\n",
       "       [4.81536198e+00],\n",
       "       [4.93932724e+00],\n",
       "       [2.90511513e+00],\n",
       "       [3.00551116e-01],\n",
       "       [8.34761620e+00],\n",
       "       [1.13337398e+00],\n",
       "       [1.89182818e+00],\n",
       "       [5.67858982e+00],\n",
       "       [2.67977715e+00],\n",
       "       [0.00000000e+00],\n",
       "       [1.31457657e-01],\n",
       "       [0.00000000e+00],\n",
       "       [2.02709341e+00],\n",
       "       [2.43867445e+00],\n",
       "       [6.59900725e-01],\n",
       "       [3.37754536e+00],\n",
       "       [5.91303539e+00],\n",
       "       [0.00000000e+00],\n",
       "       [0.00000000e+00],\n",
       "       [3.93609738e+00],\n",
       "       [3.55648130e-01],\n",
       "       [1.81531638e-01],\n",
       "       [2.18402743e+00],\n",
       "       [4.90568542e+00],\n",
       "       [5.49906445e+00],\n",
       "       [3.63479090e+00],\n",
       "       [5.07659554e-01],\n",
       "       [1.61007345e-01],\n",
       "       [0.00000000e+00],\n",
       "       [3.14329362e+00],\n",
       "       [4.07049990e+00],\n",
       "       [3.40417242e+00],\n",
       "       [4.46270198e-01],\n",
       "       [3.63818336e+00],\n",
       "       [8.33905888e+00],\n",
       "       [4.67674828e+00],\n",
       "       [1.77211374e-01],\n",
       "       [2.01930356e+00],\n",
       "       [1.33821273e+00],\n",
       "       [0.00000000e+00],\n",
       "       [2.75443363e+00],\n",
       "       [4.79365730e+00],\n",
       "       [2.12012589e-01],\n",
       "       [0.00000000e+00],\n",
       "       [3.10297537e+00],\n",
       "       [2.52169013e+00],\n",
       "       [1.80789560e-01],\n",
       "       [6.26982301e-02],\n",
       "       [3.87050176e+00],\n",
       "       [9.53913403e+00],\n",
       "       [3.27944398e-01],\n",
       "       [1.03131965e-01],\n",
       "       [0.00000000e+00],\n",
       "       [1.88084468e-02],\n",
       "       [2.14448595e+00],\n",
       "       [9.39944077e+00],\n",
       "       [3.21356964e+00],\n",
       "       [2.43341357e-01],\n",
       "       [3.47993150e-03],\n",
       "       [8.25695324e+00],\n",
       "       [1.98244333e+00],\n",
       "       [1.32511944e-01],\n",
       "       [1.39192271e+00],\n",
       "       [6.78138065e+00],\n",
       "       [4.88262177e+00],\n",
       "       [0.00000000e+00],\n",
       "       [2.41497493e+00],\n",
       "       [2.92428195e-01],\n",
       "       [9.94320774e+00],\n",
       "       [8.73624757e-02],\n",
       "       [4.03260440e-03],\n",
       "       [0.00000000e+00],\n",
       "       [3.35279256e-01],\n",
       "       [0.00000000e+00],\n",
       "       [7.28463307e-02],\n",
       "       [0.00000000e+00],\n",
       "       [0.00000000e+00],\n",
       "       [1.03391580e-01],\n",
       "       [1.19635873e-01],\n",
       "       [9.16628912e-02],\n",
       "       [0.00000000e+00],\n",
       "       [1.99723929e-01],\n",
       "       [7.21371770e-02],\n",
       "       [1.09653199e+00],\n",
       "       [5.27569830e-01],\n",
       "       [2.10512471e+00],\n",
       "       [1.24992512e-01],\n",
       "       [9.22552204e+00],\n",
       "       [4.48778532e-02],\n",
       "       [3.74233991e-01],\n",
       "       [2.49157637e-01],\n",
       "       [0.00000000e+00],\n",
       "       [3.75168848e+00],\n",
       "       [0.00000000e+00],\n",
       "       [2.88921863e-01],\n",
       "       [7.21543372e-01],\n",
       "       [2.04073906e+00],\n",
       "       [2.22699738e+00],\n",
       "       [5.48673794e-03],\n",
       "       [5.23226738e-01],\n",
       "       [4.88107872e+00],\n",
       "       [1.24410249e-01],\n",
       "       [3.72739881e-01],\n",
       "       [3.73649597e+00],\n",
       "       [2.19079089e+00],\n",
       "       [0.00000000e+00],\n",
       "       [2.34054834e-01],\n",
       "       [4.63578129e+00],\n",
       "       [8.27941608e+00],\n",
       "       [1.21011287e-01],\n",
       "       [3.59898305e+00],\n",
       "       [2.65788645e-01],\n",
       "       [2.87979662e-01],\n",
       "       [1.22523606e-02],\n",
       "       [0.00000000e+00],\n",
       "       [3.60262156e+00],\n",
       "       [2.65583307e-01],\n",
       "       [2.61360312e+00],\n",
       "       [0.00000000e+00],\n",
       "       [1.47853494e-01],\n",
       "       [2.37001944e+00],\n",
       "       [0.00000000e+00],\n",
       "       [0.00000000e+00],\n",
       "       [1.66749239e-01],\n",
       "       [9.38072109e+00],\n",
       "       [0.00000000e+00],\n",
       "       [3.80474180e-01],\n",
       "       [1.30638033e-01],\n",
       "       [8.37832451e-01]], dtype=float32)>"
      ]
     },
     "execution_count": 61,
     "metadata": {},
     "output_type": "execute_result"
    }
   ],
   "source": [
    "best_model=tuner.get_best_models(num_models=1)[0]\n",
    "best_model(X_train1)"
   ]
  },
  {
   "cell_type": "code",
   "execution_count": 62,
   "metadata": {},
   "outputs": [
    {
     "name": "stdout",
     "output_type": "stream",
     "text": [
      "Model: \"sequential\"\n",
      "_________________________________________________________________\n",
      " Layer (type)                Output Shape              Param #   \n",
      "=================================================================\n",
      " conv1d (Conv1D)             (662, 26, 32)             192       \n",
      "                                                                 \n",
      " batch_normalization (BatchN  (662, 26, 32)            128       \n",
      " ormalization)                                                   \n",
      "                                                                 \n",
      " dropout (Dropout)           (662, 26, 32)             0         \n",
      "                                                                 \n",
      " conv1d_1 (Conv1D)           (662, 22, 48)             7728      \n",
      "                                                                 \n",
      " batch_normalization_1 (Batc  (662, 22, 48)            192       \n",
      " hNormalization)                                                 \n",
      "                                                                 \n",
      " dropout_1 (Dropout)         (662, 22, 48)             0         \n",
      "                                                                 \n",
      " flatten (Flatten)           (662, 1056)               0         \n",
      "                                                                 \n",
      " dense (Dense)               (662, 128)                135296    \n",
      "                                                                 \n",
      " dropout_2 (Dropout)         (662, 128)                0         \n",
      "                                                                 \n",
      " dense_1 (Dense)             (662, 1)                  129       \n",
      "                                                                 \n",
      "=================================================================\n",
      "Total params: 143,665\n",
      "Trainable params: 143,505\n",
      "Non-trainable params: 160\n",
      "_________________________________________________________________\n"
     ]
    }
   ],
   "source": [
    "best_model.summary()"
   ]
  },
  {
   "cell_type": "code",
   "execution_count": 80,
   "metadata": {},
   "outputs": [],
   "source": [
    "early_stopping = EarlyStopping(monitor='val_loss', patience=10, restore_best_weights=True)\n",
    "model_checkpoint = ModelCheckpoint('D:/Uni Docs/DSC4996/Dynamic_fraud_detection_system/CNN_output/best_model_us_data.h5', save_best_only=True)"
   ]
  },
  {
   "cell_type": "code",
   "execution_count": 81,
   "metadata": {},
   "outputs": [
    {
     "name": "stdout",
     "output_type": "stream",
     "text": [
      "Epoch 1/100\n",
      "21/21 [==============================] - 0s 6ms/step - loss: 0.7140 - accuracy: 0.9350 - val_loss: 1.3269 - val_accuracy: 0.9014\n",
      "Epoch 2/100\n",
      "21/21 [==============================] - 0s 4ms/step - loss: 0.8896 - accuracy: 0.9411 - val_loss: 1.5286 - val_accuracy: 0.9014\n",
      "Epoch 3/100\n",
      "21/21 [==============================] - 0s 5ms/step - loss: 0.7203 - accuracy: 0.9441 - val_loss: 1.2242 - val_accuracy: 0.9014\n",
      "Epoch 4/100\n",
      "21/21 [==============================] - 0s 4ms/step - loss: 0.6773 - accuracy: 0.9441 - val_loss: 1.2557 - val_accuracy: 0.8944\n",
      "Epoch 5/100\n",
      "21/21 [==============================] - 0s 5ms/step - loss: 0.5852 - accuracy: 0.9607 - val_loss: 1.5272 - val_accuracy: 0.9014\n",
      "Epoch 6/100\n",
      "21/21 [==============================] - 0s 5ms/step - loss: 0.7959 - accuracy: 0.9456 - val_loss: 1.5392 - val_accuracy: 0.8873\n",
      "Epoch 7/100\n",
      "21/21 [==============================] - 0s 4ms/step - loss: 0.6612 - accuracy: 0.9532 - val_loss: 1.5240 - val_accuracy: 0.9014\n",
      "Epoch 8/100\n",
      "21/21 [==============================] - 0s 5ms/step - loss: 0.7265 - accuracy: 0.9471 - val_loss: 1.5231 - val_accuracy: 0.9014\n",
      "Epoch 9/100\n",
      "21/21 [==============================] - 0s 6ms/step - loss: 0.6553 - accuracy: 0.9441 - val_loss: 1.0184 - val_accuracy: 0.9155\n",
      "Epoch 10/100\n",
      "21/21 [==============================] - 0s 5ms/step - loss: 0.8432 - accuracy: 0.9335 - val_loss: 1.4086 - val_accuracy: 0.9085\n",
      "Epoch 11/100\n",
      "21/21 [==============================] - 0s 5ms/step - loss: 0.8786 - accuracy: 0.9366 - val_loss: 1.1106 - val_accuracy: 0.9155\n",
      "Epoch 12/100\n",
      "21/21 [==============================] - 0s 5ms/step - loss: 0.9592 - accuracy: 0.9335 - val_loss: 1.2099 - val_accuracy: 0.9085\n",
      "Epoch 13/100\n",
      "21/21 [==============================] - 0s 5ms/step - loss: 0.8280 - accuracy: 0.9426 - val_loss: 1.2155 - val_accuracy: 0.9085\n",
      "Epoch 14/100\n",
      "21/21 [==============================] - 0s 5ms/step - loss: 0.6406 - accuracy: 0.9517 - val_loss: 1.6328 - val_accuracy: 0.8873\n",
      "Epoch 15/100\n",
      "21/21 [==============================] - 0s 5ms/step - loss: 0.7371 - accuracy: 0.9411 - val_loss: 1.6335 - val_accuracy: 0.8803\n",
      "Epoch 16/100\n",
      "21/21 [==============================] - 0s 5ms/step - loss: 0.7319 - accuracy: 0.9471 - val_loss: 1.4460 - val_accuracy: 0.8873\n",
      "Epoch 17/100\n",
      "21/21 [==============================] - 0s 5ms/step - loss: 0.6607 - accuracy: 0.9547 - val_loss: 1.2178 - val_accuracy: 0.9155\n",
      "Epoch 18/100\n",
      "21/21 [==============================] - 0s 5ms/step - loss: 0.6881 - accuracy: 0.9502 - val_loss: 1.2747 - val_accuracy: 0.8803\n",
      "Epoch 19/100\n",
      "21/21 [==============================] - 0s 4ms/step - loss: 0.6922 - accuracy: 0.9471 - val_loss: 1.2413 - val_accuracy: 0.8873\n"
     ]
    }
   ],
   "source": [
    "# fitting the model\n",
    "cnn_fit =best_model.fit(X_train1,y_train1,epochs=100,validation_data=(X_val1,y_val1),callbacks=[early_stopping, model_checkpoint])"
   ]
  },
  {
   "cell_type": "code",
   "execution_count": 82,
   "metadata": {},
   "outputs": [],
   "source": [
    "# plot\n",
    "def plot_learningcurve(cnn_fit,epochs):\n",
    "  epoch=range(1,epochs+1)\n",
    "  # accuracy\n",
    "  plt.plot(epoch, cnn_fit.history['accuracy'])\n",
    "  plt.plot(epoch, cnn_fit.history['val_accuracy'])\n",
    "  plt.title('Model accuracy')\n",
    "  plt.xlabel('epoch')\n",
    "  plt.ylabel('accuracy')\n",
    "  plt.legend(['train','val'], loc='upper left')\n",
    "  plt.show()\n",
    "\n",
    "  # loss\n",
    "  plt.plot(epoch, cnn_fit.history['loss'])\n",
    "  plt.plot(epoch, cnn_fit.history['val_loss'])\n",
    "  plt.title('Model loss')\n",
    "  plt.xlabel('epoch')\n",
    "  plt.ylabel('loss')\n",
    "  plt.legend(['train','val'], loc='upper left')\n",
    "  plt.show()"
   ]
  },
  {
   "cell_type": "code",
   "execution_count": 83,
   "metadata": {},
   "outputs": [
    {
     "data": {
      "image/png": "[encoded data removed]",
      "text/plain": [
       "<Figure size 640x480 with 1 Axes>"
      ]
     },
     "metadata": {},
     "output_type": "display_data"
    },
    {
     "data": {
      "image/png": "[encoded data removed]",
      "text/plain": [
       "<Figure size 640x480 with 1 Axes>"
      ]
     },
     "metadata": {},
     "output_type": "display_data"
    }
   ],
   "source": [
    "plot_learningcurve(cnn_fit,19)"
   ]
  },
  {
   "cell_type": "code",
   "execution_count": 84,
   "metadata": {},
   "outputs": [
    {
     "name": "stdout",
     "output_type": "stream",
     "text": [
      "5/5 [==============================] - 0s 2ms/step\n"
     ]
    }
   ],
   "source": [
    "y_pred_cnn = best_model.predict(X_test1)"
   ]
  },
  {
   "cell_type": "code",
   "execution_count": 85,
   "metadata": {},
   "outputs": [],
   "source": [
    "import numpy as np\n",
    "\n",
    "def predict_classes(probs, threshold=0.5):\n",
    "\n",
    "  classes = np.zeros_like(probs, dtype=int)\n",
    "  classes[probs >= threshold] = 1\n",
    "  return classes\n"
   ]
  },
  {
   "cell_type": "code",
   "execution_count": 86,
   "metadata": {},
   "outputs": [],
   "source": [
    "preds = predict_classes(y_pred_cnn)"
   ]
  },
  {
   "cell_type": "code",
   "execution_count": 87,
   "metadata": {},
   "outputs": [
    {
     "name": "stdout",
     "output_type": "stream",
     "text": [
      "Accuracy: 0.8943661971830986\n",
      "Precision: 0.9836065573770492\n",
      "F1-score: 0.888888888888889\n",
      "Recall: 0.8108108108108109\n",
      "MCC: 0.8034025424996645\n"
     ]
    }
   ],
   "source": [
    "accuracy_cnn = accuracy_score(y_test1, preds)\n",
    "precision_cnn = precision_score(y_test1, preds)\n",
    "recall_cnn = recall_score(y_test1, preds)\n",
    "f1_score_cnn = f1_score(y_test1, preds)\n",
    "mcc_cnn = matthews_corrcoef(y_test1, preds)\n",
    "\n",
    "print(\"Accuracy:\", accuracy_cnn)\n",
    "print(\"Precision:\", precision_cnn)\n",
    "print(\"F1-score:\", f1_score_cnn)\n",
    "print(\"Recall:\", recall_cnn)\n",
    "print(\"MCC:\", mcc_cnn)"
   ]
  },
  {
   "cell_type": "code",
   "execution_count": 88,
   "metadata": {},
   "outputs": [
    {
     "name": "stdout",
     "output_type": "stream",
     "text": [
      "[[67  1]\n",
      " [14 60]]\n"
     ]
    }
   ],
   "source": [
    "cm_dt = confusion_matrix(y_test1, preds)\n",
    "print(cm_dt)"
   ]
  }
 ],
 "metadata": {
  "kernelspec": {
   "display_name": "base",
   "language": "python",
   "name": "python3"
  },
  "language_info": {
   "codemirror_mode": {
    "name": "ipython",
    "version": 3
   },
   "file_extension": ".py",
   "mimetype": "text/x-python",
   "name": "python",
   "nbconvert_exporter": "python",
   "pygments_lexer": "ipython3",
   "version": "3.11.4"
  }
 },
 "nbformat": 4,
 "nbformat_minor": 2
}
