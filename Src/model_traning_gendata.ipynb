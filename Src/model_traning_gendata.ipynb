{
 "cells": [
  {
   "cell_type": "code",
   "execution_count": 1,
   "metadata": {},
   "outputs": [],
   "source": [
    "import pandas as pd\n",
    "import numpy as np\n",
    "from sklearn.preprocessing import StandardScaler\n",
    "from imblearn.combine import SMOTETomek\n",
    "from sklearn.model_selection import train_test_split\n",
    "from sklearn.linear_model import LogisticRegression\n",
    "from sklearn.svm import SVC\n",
    "from sklearn.tree import DecisionTreeClassifier\n",
    "from sklearn.metrics import accuracy_score, precision_score, recall_score, f1_score, matthews_corrcoef\n",
    "from sklearn.model_selection import StratifiedKFold\n",
    "import tensorflow as tf\n",
    "import matplotlib.pyplot as plt\n",
    "import seaborn as sns\n",
    "from sklearn.metrics import confusion_matrix\n"
   ]
  },
  {
   "cell_type": "markdown",
   "metadata": {},
   "source": [
    "### handing Data Inbalancess"
   ]
  },
  {
   "cell_type": "code",
   "execution_count": 2,
   "metadata": {},
   "outputs": [],
   "source": [
    "df = pd.read_csv(r'D:\\Uni Docs\\DSC4996\\Dynamic_fraud_detection_system\\Data\\generated_df.csv')"
   ]
  },
  {
   "cell_type": "code",
   "execution_count": 3,
   "metadata": {},
   "outputs": [
    {
     "data": {
      "text/html": [
       "<div>\n",
       "<style scoped>\n",
       "    .dataframe tbody tr th:only-of-type {\n",
       "        vertical-align: middle;\n",
       "    }\n",
       "\n",
       "    .dataframe tbody tr th {\n",
       "        vertical-align: top;\n",
       "    }\n",
       "\n",
       "    .dataframe thead th {\n",
       "        text-align: right;\n",
       "    }\n",
       "</style>\n",
       "<table border=\"1\" class=\"dataframe\">\n",
       "  <thead>\n",
       "    <tr style=\"text-align: right;\">\n",
       "      <th></th>\n",
       "      <th>Time</th>\n",
       "      <th>V1</th>\n",
       "      <th>V2</th>\n",
       "      <th>V3</th>\n",
       "      <th>V4</th>\n",
       "      <th>V5</th>\n",
       "      <th>V6</th>\n",
       "      <th>V7</th>\n",
       "      <th>V8</th>\n",
       "      <th>V9</th>\n",
       "      <th>...</th>\n",
       "      <th>V21</th>\n",
       "      <th>V22</th>\n",
       "      <th>V23</th>\n",
       "      <th>V24</th>\n",
       "      <th>V25</th>\n",
       "      <th>V26</th>\n",
       "      <th>V27</th>\n",
       "      <th>V28</th>\n",
       "      <th>Amount</th>\n",
       "      <th>Class</th>\n",
       "    </tr>\n",
       "  </thead>\n",
       "  <tbody>\n",
       "    <tr>\n",
       "      <th>0</th>\n",
       "      <td>-0.146374</td>\n",
       "      <td>-0.015519</td>\n",
       "      <td>0.085356</td>\n",
       "      <td>-0.040542</td>\n",
       "      <td>0.066677</td>\n",
       "      <td>-0.081207</td>\n",
       "      <td>0.087645</td>\n",
       "      <td>-0.117641</td>\n",
       "      <td>-0.073402</td>\n",
       "      <td>-0.057336</td>\n",
       "      <td>...</td>\n",
       "      <td>0.013769</td>\n",
       "      <td>0.002563</td>\n",
       "      <td>0.101975</td>\n",
       "      <td>-0.060232</td>\n",
       "      <td>-0.191511</td>\n",
       "      <td>-0.090968</td>\n",
       "      <td>-0.066698</td>\n",
       "      <td>-0.206421</td>\n",
       "      <td>-0.086421</td>\n",
       "      <td>1</td>\n",
       "    </tr>\n",
       "    <tr>\n",
       "      <th>1</th>\n",
       "      <td>-0.179971</td>\n",
       "      <td>0.010620</td>\n",
       "      <td>0.158013</td>\n",
       "      <td>-0.114025</td>\n",
       "      <td>0.077457</td>\n",
       "      <td>-0.087706</td>\n",
       "      <td>0.063625</td>\n",
       "      <td>-0.105901</td>\n",
       "      <td>-0.054817</td>\n",
       "      <td>-0.068706</td>\n",
       "      <td>...</td>\n",
       "      <td>-0.042756</td>\n",
       "      <td>-0.057189</td>\n",
       "      <td>0.073796</td>\n",
       "      <td>-0.024800</td>\n",
       "      <td>-0.230429</td>\n",
       "      <td>-0.011682</td>\n",
       "      <td>0.010791</td>\n",
       "      <td>-0.156533</td>\n",
       "      <td>-0.053275</td>\n",
       "      <td>1</td>\n",
       "    </tr>\n",
       "    <tr>\n",
       "      <th>2</th>\n",
       "      <td>1.219835</td>\n",
       "      <td>2.119089</td>\n",
       "      <td>-1.024633</td>\n",
       "      <td>-0.613399</td>\n",
       "      <td>-0.621483</td>\n",
       "      <td>-0.769342</td>\n",
       "      <td>0.432778</td>\n",
       "      <td>-1.214603</td>\n",
       "      <td>0.185715</td>\n",
       "      <td>-0.019076</td>\n",
       "      <td>...</td>\n",
       "      <td>-0.163955</td>\n",
       "      <td>0.156860</td>\n",
       "      <td>0.181343</td>\n",
       "      <td>0.217964</td>\n",
       "      <td>-0.300916</td>\n",
       "      <td>0.709351</td>\n",
       "      <td>-0.015154</td>\n",
       "      <td>-0.055179</td>\n",
       "      <td>-0.325371</td>\n",
       "      <td>0</td>\n",
       "    </tr>\n",
       "    <tr>\n",
       "      <th>3</th>\n",
       "      <td>-0.099612</td>\n",
       "      <td>0.048388</td>\n",
       "      <td>0.174961</td>\n",
       "      <td>-0.056897</td>\n",
       "      <td>0.157342</td>\n",
       "      <td>-0.086699</td>\n",
       "      <td>-0.008830</td>\n",
       "      <td>-0.129328</td>\n",
       "      <td>-0.082722</td>\n",
       "      <td>-0.063709</td>\n",
       "      <td>...</td>\n",
       "      <td>-0.048781</td>\n",
       "      <td>0.036051</td>\n",
       "      <td>0.025908</td>\n",
       "      <td>-0.005768</td>\n",
       "      <td>-0.131239</td>\n",
       "      <td>-0.022695</td>\n",
       "      <td>-0.069082</td>\n",
       "      <td>-0.209291</td>\n",
       "      <td>-0.020680</td>\n",
       "      <td>1</td>\n",
       "    </tr>\n",
       "    <tr>\n",
       "      <th>4</th>\n",
       "      <td>-0.327164</td>\n",
       "      <td>1.181842</td>\n",
       "      <td>-0.220696</td>\n",
       "      <td>0.650137</td>\n",
       "      <td>-0.166884</td>\n",
       "      <td>-0.770594</td>\n",
       "      <td>-0.379380</td>\n",
       "      <td>-0.480922</td>\n",
       "      <td>0.187963</td>\n",
       "      <td>0.333115</td>\n",
       "      <td>...</td>\n",
       "      <td>-0.057635</td>\n",
       "      <td>-0.225252</td>\n",
       "      <td>0.156492</td>\n",
       "      <td>0.247896</td>\n",
       "      <td>-0.060545</td>\n",
       "      <td>0.908772</td>\n",
       "      <td>-0.067108</td>\n",
       "      <td>-0.005120</td>\n",
       "      <td>-0.344421</td>\n",
       "      <td>0</td>\n",
       "    </tr>\n",
       "    <tr>\n",
       "      <th>...</th>\n",
       "      <td>...</td>\n",
       "      <td>...</td>\n",
       "      <td>...</td>\n",
       "      <td>...</td>\n",
       "      <td>...</td>\n",
       "      <td>...</td>\n",
       "      <td>...</td>\n",
       "      <td>...</td>\n",
       "      <td>...</td>\n",
       "      <td>...</td>\n",
       "      <td>...</td>\n",
       "      <td>...</td>\n",
       "      <td>...</td>\n",
       "      <td>...</td>\n",
       "      <td>...</td>\n",
       "      <td>...</td>\n",
       "      <td>...</td>\n",
       "      <td>...</td>\n",
       "      <td>...</td>\n",
       "      <td>...</td>\n",
       "      <td>...</td>\n",
       "    </tr>\n",
       "    <tr>\n",
       "      <th>458721</th>\n",
       "      <td>1.360712</td>\n",
       "      <td>0.149260</td>\n",
       "      <td>0.988698</td>\n",
       "      <td>-0.605170</td>\n",
       "      <td>-0.788264</td>\n",
       "      <td>1.238822</td>\n",
       "      <td>-0.203064</td>\n",
       "      <td>0.861209</td>\n",
       "      <td>0.067349</td>\n",
       "      <td>-0.279204</td>\n",
       "      <td>...</td>\n",
       "      <td>-0.326673</td>\n",
       "      <td>-0.816542</td>\n",
       "      <td>0.008957</td>\n",
       "      <td>-0.010456</td>\n",
       "      <td>-0.377837</td>\n",
       "      <td>0.128193</td>\n",
       "      <td>0.219217</td>\n",
       "      <td>0.068558</td>\n",
       "      <td>-0.349773</td>\n",
       "      <td>0</td>\n",
       "    </tr>\n",
       "    <tr>\n",
       "      <th>458722</th>\n",
       "      <td>-0.144409</td>\n",
       "      <td>-0.056656</td>\n",
       "      <td>0.148645</td>\n",
       "      <td>-0.104169</td>\n",
       "      <td>0.046285</td>\n",
       "      <td>-0.127849</td>\n",
       "      <td>-0.003682</td>\n",
       "      <td>-0.101806</td>\n",
       "      <td>-0.062445</td>\n",
       "      <td>-0.060322</td>\n",
       "      <td>...</td>\n",
       "      <td>0.030523</td>\n",
       "      <td>-0.052311</td>\n",
       "      <td>0.109520</td>\n",
       "      <td>-0.045674</td>\n",
       "      <td>-0.214116</td>\n",
       "      <td>-0.088019</td>\n",
       "      <td>-0.053956</td>\n",
       "      <td>-0.185627</td>\n",
       "      <td>-0.087897</td>\n",
       "      <td>1</td>\n",
       "    </tr>\n",
       "    <tr>\n",
       "      <th>458723</th>\n",
       "      <td>-0.312295</td>\n",
       "      <td>1.259310</td>\n",
       "      <td>-0.049484</td>\n",
       "      <td>-0.721776</td>\n",
       "      <td>0.071903</td>\n",
       "      <td>1.864771</td>\n",
       "      <td>3.635628</td>\n",
       "      <td>-0.821682</td>\n",
       "      <td>0.929256</td>\n",
       "      <td>0.128685</td>\n",
       "      <td>...</td>\n",
       "      <td>0.070189</td>\n",
       "      <td>0.104264</td>\n",
       "      <td>-0.107993</td>\n",
       "      <td>1.004823</td>\n",
       "      <td>0.674600</td>\n",
       "      <td>-0.275199</td>\n",
       "      <td>0.045933</td>\n",
       "      <td>0.025074</td>\n",
       "      <td>-0.335356</td>\n",
       "      <td>0</td>\n",
       "    </tr>\n",
       "    <tr>\n",
       "      <th>458724</th>\n",
       "      <td>-0.132160</td>\n",
       "      <td>1.982903</td>\n",
       "      <td>-0.134427</td>\n",
       "      <td>-1.161183</td>\n",
       "      <td>0.472515</td>\n",
       "      <td>-0.043755</td>\n",
       "      <td>-1.080473</td>\n",
       "      <td>0.306983</td>\n",
       "      <td>-0.373167</td>\n",
       "      <td>0.454594</td>\n",
       "      <td>...</td>\n",
       "      <td>-0.212230</td>\n",
       "      <td>-0.472417</td>\n",
       "      <td>0.248672</td>\n",
       "      <td>0.025584</td>\n",
       "      <td>-0.195097</td>\n",
       "      <td>0.272711</td>\n",
       "      <td>-0.071660</td>\n",
       "      <td>-0.055715</td>\n",
       "      <td>-0.195658</td>\n",
       "      <td>0</td>\n",
       "    </tr>\n",
       "    <tr>\n",
       "      <th>458725</th>\n",
       "      <td>-0.384429</td>\n",
       "      <td>-0.465150</td>\n",
       "      <td>0.818433</td>\n",
       "      <td>1.326391</td>\n",
       "      <td>-1.345201</td>\n",
       "      <td>0.584115</td>\n",
       "      <td>-0.683284</td>\n",
       "      <td>0.856022</td>\n",
       "      <td>-0.178265</td>\n",
       "      <td>-0.537311</td>\n",
       "      <td>...</td>\n",
       "      <td>-0.235506</td>\n",
       "      <td>-0.719605</td>\n",
       "      <td>-0.290143</td>\n",
       "      <td>-0.387924</td>\n",
       "      <td>0.413861</td>\n",
       "      <td>0.813386</td>\n",
       "      <td>-0.130873</td>\n",
       "      <td>-0.047641</td>\n",
       "      <td>-0.353327</td>\n",
       "      <td>0</td>\n",
       "    </tr>\n",
       "  </tbody>\n",
       "</table>\n",
       "<p>458726 rows × 31 columns</p>\n",
       "</div>"
      ],
      "text/plain": [
       "            Time        V1        V2        V3        V4        V5        V6  \\\n",
       "0      -0.146374 -0.015519  0.085356 -0.040542  0.066677 -0.081207  0.087645   \n",
       "1      -0.179971  0.010620  0.158013 -0.114025  0.077457 -0.087706  0.063625   \n",
       "2       1.219835  2.119089 -1.024633 -0.613399 -0.621483 -0.769342  0.432778   \n",
       "3      -0.099612  0.048388  0.174961 -0.056897  0.157342 -0.086699 -0.008830   \n",
       "4      -0.327164  1.181842 -0.220696  0.650137 -0.166884 -0.770594 -0.379380   \n",
       "...          ...       ...       ...       ...       ...       ...       ...   \n",
       "458721  1.360712  0.149260  0.988698 -0.605170 -0.788264  1.238822 -0.203064   \n",
       "458722 -0.144409 -0.056656  0.148645 -0.104169  0.046285 -0.127849 -0.003682   \n",
       "458723 -0.312295  1.259310 -0.049484 -0.721776  0.071903  1.864771  3.635628   \n",
       "458724 -0.132160  1.982903 -0.134427 -1.161183  0.472515 -0.043755 -1.080473   \n",
       "458725 -0.384429 -0.465150  0.818433  1.326391 -1.345201  0.584115 -0.683284   \n",
       "\n",
       "              V7        V8        V9  ...       V21       V22       V23  \\\n",
       "0      -0.117641 -0.073402 -0.057336  ...  0.013769  0.002563  0.101975   \n",
       "1      -0.105901 -0.054817 -0.068706  ... -0.042756 -0.057189  0.073796   \n",
       "2      -1.214603  0.185715 -0.019076  ... -0.163955  0.156860  0.181343   \n",
       "3      -0.129328 -0.082722 -0.063709  ... -0.048781  0.036051  0.025908   \n",
       "4      -0.480922  0.187963  0.333115  ... -0.057635 -0.225252  0.156492   \n",
       "...          ...       ...       ...  ...       ...       ...       ...   \n",
       "458721  0.861209  0.067349 -0.279204  ... -0.326673 -0.816542  0.008957   \n",
       "458722 -0.101806 -0.062445 -0.060322  ...  0.030523 -0.052311  0.109520   \n",
       "458723 -0.821682  0.929256  0.128685  ...  0.070189  0.104264 -0.107993   \n",
       "458724  0.306983 -0.373167  0.454594  ... -0.212230 -0.472417  0.248672   \n",
       "458725  0.856022 -0.178265 -0.537311  ... -0.235506 -0.719605 -0.290143   \n",
       "\n",
       "             V24       V25       V26       V27       V28    Amount  Class  \n",
       "0      -0.060232 -0.191511 -0.090968 -0.066698 -0.206421 -0.086421      1  \n",
       "1      -0.024800 -0.230429 -0.011682  0.010791 -0.156533 -0.053275      1  \n",
       "2       0.217964 -0.300916  0.709351 -0.015154 -0.055179 -0.325371      0  \n",
       "3      -0.005768 -0.131239 -0.022695 -0.069082 -0.209291 -0.020680      1  \n",
       "4       0.247896 -0.060545  0.908772 -0.067108 -0.005120 -0.344421      0  \n",
       "...          ...       ...       ...       ...       ...       ...    ...  \n",
       "458721 -0.010456 -0.377837  0.128193  0.219217  0.068558 -0.349773      0  \n",
       "458722 -0.045674 -0.214116 -0.088019 -0.053956 -0.185627 -0.087897      1  \n",
       "458723  1.004823  0.674600 -0.275199  0.045933  0.025074 -0.335356      0  \n",
       "458724  0.025584 -0.195097  0.272711 -0.071660 -0.055715 -0.195658      0  \n",
       "458725 -0.387924  0.413861  0.813386 -0.130873 -0.047641 -0.353327      0  \n",
       "\n",
       "[458726 rows x 31 columns]"
      ]
     },
     "execution_count": 3,
     "metadata": {},
     "output_type": "execute_result"
    }
   ],
   "source": [
    "df"
   ]
  },
  {
   "cell_type": "code",
   "execution_count": 4,
   "metadata": {},
   "outputs": [
    {
     "data": {
      "text/plain": [
       "0    283253\n",
       "1    175473\n",
       "Name: Class, dtype: int64"
      ]
     },
     "execution_count": 4,
     "metadata": {},
     "output_type": "execute_result"
    }
   ],
   "source": [
    "df['Class'].value_counts()"
   ]
  },
  {
   "cell_type": "code",
   "execution_count": 5,
   "metadata": {},
   "outputs": [],
   "source": [
    "features = df.drop('Class',axis=1)\n",
    "target = df['Class']"
   ]
  },
  {
   "cell_type": "code",
   "execution_count": 6,
   "metadata": {},
   "outputs": [],
   "source": [
    "X_train, X_test, y_train, y_test = train_test_split(features, target, test_size = 0.2, random_state=1234)"
   ]
  },
  {
   "cell_type": "markdown",
   "metadata": {},
   "source": [
    "### Model Traning - 01"
   ]
  },
  {
   "cell_type": "markdown",
   "metadata": {},
   "source": [
    "#### Logistic Regression Model"
   ]
  },
  {
   "cell_type": "code",
   "execution_count": 7,
   "metadata": {},
   "outputs": [
    {
     "data": {
      "text/html": [
       "<style>#sk-container-id-1 {color: black;}#sk-container-id-1 pre{padding: 0;}#sk-container-id-1 div.sk-toggleable {background-color: white;}#sk-container-id-1 label.sk-toggleable__label {cursor: pointer;display: block;width: 100%;margin-bottom: 0;padding: 0.3em;box-sizing: border-box;text-align: center;}#sk-container-id-1 label.sk-toggleable__label-arrow:before {content: \"▸\";float: left;margin-right: 0.25em;color: #696969;}#sk-container-id-1 label.sk-toggleable__label-arrow:hover:before {color: black;}#sk-container-id-1 div.sk-estimator:hover label.sk-toggleable__label-arrow:before {color: black;}#sk-container-id-1 div.sk-toggleable__content {max-height: 0;max-width: 0;overflow: hidden;text-align: left;background-color: #f0f8ff;}#sk-container-id-1 div.sk-toggleable__content pre {margin: 0.2em;color: black;border-radius: 0.25em;background-color: #f0f8ff;}#sk-container-id-1 input.sk-toggleable__control:checked~div.sk-toggleable__content {max-height: 200px;max-width: 100%;overflow: auto;}#sk-container-id-1 input.sk-toggleable__control:checked~label.sk-toggleable__label-arrow:before {content: \"▾\";}#sk-container-id-1 div.sk-estimator input.sk-toggleable__control:checked~label.sk-toggleable__label {background-color: #d4ebff;}#sk-container-id-1 div.sk-label input.sk-toggleable__control:checked~label.sk-toggleable__label {background-color: #d4ebff;}#sk-container-id-1 input.sk-hidden--visually {border: 0;clip: rect(1px 1px 1px 1px);clip: rect(1px, 1px, 1px, 1px);height: 1px;margin: -1px;overflow: hidden;padding: 0;position: absolute;width: 1px;}#sk-container-id-1 div.sk-estimator {font-family: monospace;background-color: #f0f8ff;border: 1px dotted black;border-radius: 0.25em;box-sizing: border-box;margin-bottom: 0.5em;}#sk-container-id-1 div.sk-estimator:hover {background-color: #d4ebff;}#sk-container-id-1 div.sk-parallel-item::after {content: \"\";width: 100%;border-bottom: 1px solid gray;flex-grow: 1;}#sk-container-id-1 div.sk-label:hover label.sk-toggleable__label {background-color: #d4ebff;}#sk-container-id-1 div.sk-serial::before {content: \"\";position: absolute;border-left: 1px solid gray;box-sizing: border-box;top: 0;bottom: 0;left: 50%;z-index: 0;}#sk-container-id-1 div.sk-serial {display: flex;flex-direction: column;align-items: center;background-color: white;padding-right: 0.2em;padding-left: 0.2em;position: relative;}#sk-container-id-1 div.sk-item {position: relative;z-index: 1;}#sk-container-id-1 div.sk-parallel {display: flex;align-items: stretch;justify-content: center;background-color: white;position: relative;}#sk-container-id-1 div.sk-item::before, #sk-container-id-1 div.sk-parallel-item::before {content: \"\";position: absolute;border-left: 1px solid gray;box-sizing: border-box;top: 0;bottom: 0;left: 50%;z-index: -1;}#sk-container-id-1 div.sk-parallel-item {display: flex;flex-direction: column;z-index: 1;position: relative;background-color: white;}#sk-container-id-1 div.sk-parallel-item:first-child::after {align-self: flex-end;width: 50%;}#sk-container-id-1 div.sk-parallel-item:last-child::after {align-self: flex-start;width: 50%;}#sk-container-id-1 div.sk-parallel-item:only-child::after {width: 0;}#sk-container-id-1 div.sk-dashed-wrapped {border: 1px dashed gray;margin: 0 0.4em 0.5em 0.4em;box-sizing: border-box;padding-bottom: 0.4em;background-color: white;}#sk-container-id-1 div.sk-label label {font-family: monospace;font-weight: bold;display: inline-block;line-height: 1.2em;}#sk-container-id-1 div.sk-label-container {text-align: center;}#sk-container-id-1 div.sk-container {/* jupyter's `normalize.less` sets `[hidden] { display: none; }` but bootstrap.min.css set `[hidden] { display: none !important; }` so we also need the `!important` here to be able to override the default hidden behavior on the sphinx rendered scikit-learn.org. See: https://github.com/scikit-learn/scikit-learn/issues/21755 */display: inline-block !important;position: relative;}#sk-container-id-1 div.sk-text-repr-fallback {display: none;}</style><div id=\"sk-container-id-1\" class=\"sk-top-container\"><div class=\"sk-text-repr-fallback\"><pre>LogisticRegression(max_iter=1000)</pre><b>In a Jupyter environment, please rerun this cell to show the HTML representation or trust the notebook. <br />On GitHub, the HTML representation is unable to render, please try loading this page with nbviewer.org.</b></div><div class=\"sk-container\" hidden><div class=\"sk-item\"><div class=\"sk-estimator sk-toggleable\"><input class=\"sk-toggleable__control sk-hidden--visually\" id=\"sk-estimator-id-1\" type=\"checkbox\" checked><label for=\"sk-estimator-id-1\" class=\"sk-toggleable__label sk-toggleable__label-arrow\">LogisticRegression</label><div class=\"sk-toggleable__content\"><pre>LogisticRegression(max_iter=1000)</pre></div></div></div></div></div>"
      ],
      "text/plain": [
       "LogisticRegression(max_iter=1000)"
      ]
     },
     "execution_count": 7,
     "metadata": {},
     "output_type": "execute_result"
    }
   ],
   "source": [
    "lgt = LogisticRegression(max_iter=1000)\n",
    "lgt.fit(X_train, y_train)"
   ]
  },
  {
   "cell_type": "code",
   "execution_count": 8,
   "metadata": {},
   "outputs": [],
   "source": [
    "y_pred = lgt.predict(X_test)"
   ]
  },
  {
   "cell_type": "code",
   "execution_count": 9,
   "metadata": {},
   "outputs": [
    {
     "name": "stdout",
     "output_type": "stream",
     "text": [
      "Accuracy: 0.9423735094718025\n",
      "Precision: 0.9014054170480857\n",
      "Recall: 0.9537102976783934\n",
      "F1-score: 0.9268204908162276\n",
      "MCC: 0.8803085405707608\n"
     ]
    }
   ],
   "source": [
    "accuracy_lgt = accuracy_score(y_test, y_pred)\n",
    "precision_lgt = precision_score(y_test, y_pred)\n",
    "recall_lgt = recall_score(y_test, y_pred)\n",
    "f1_score_lgt = f1_score(y_test, y_pred)\n",
    "mcc_lgt = matthews_corrcoef(y_test, y_pred)\n",
    "\n",
    "print(\"Accuracy:\", accuracy_lgt)\n",
    "print(\"Precision:\", precision_lgt)\n",
    "print(\"Recall:\", recall_lgt)\n",
    "print(\"F1-score:\", f1_score_lgt)\n",
    "print(\"MCC:\", mcc_lgt)"
   ]
  },
  {
   "cell_type": "code",
   "execution_count": 10,
   "metadata": {},
   "outputs": [
    {
     "name": "stdout",
     "output_type": "stream",
     "text": [
      "[[52979  3662]\n",
      " [ 1625 33480]]\n"
     ]
    }
   ],
   "source": [
    "cm_logit = confusion_matrix(y_test, y_pred)\n",
    "print(cm_logit)"
   ]
  },
  {
   "cell_type": "markdown",
   "metadata": {},
   "source": [
    "#### SVM Model"
   ]
  },
  {
   "cell_type": "code",
   "execution_count": 11,
   "metadata": {},
   "outputs": [
    {
     "data": {
      "text/html": [
       "<style>#sk-container-id-2 {color: black;}#sk-container-id-2 pre{padding: 0;}#sk-container-id-2 div.sk-toggleable {background-color: white;}#sk-container-id-2 label.sk-toggleable__label {cursor: pointer;display: block;width: 100%;margin-bottom: 0;padding: 0.3em;box-sizing: border-box;text-align: center;}#sk-container-id-2 label.sk-toggleable__label-arrow:before {content: \"▸\";float: left;margin-right: 0.25em;color: #696969;}#sk-container-id-2 label.sk-toggleable__label-arrow:hover:before {color: black;}#sk-container-id-2 div.sk-estimator:hover label.sk-toggleable__label-arrow:before {color: black;}#sk-container-id-2 div.sk-toggleable__content {max-height: 0;max-width: 0;overflow: hidden;text-align: left;background-color: #f0f8ff;}#sk-container-id-2 div.sk-toggleable__content pre {margin: 0.2em;color: black;border-radius: 0.25em;background-color: #f0f8ff;}#sk-container-id-2 input.sk-toggleable__control:checked~div.sk-toggleable__content {max-height: 200px;max-width: 100%;overflow: auto;}#sk-container-id-2 input.sk-toggleable__control:checked~label.sk-toggleable__label-arrow:before {content: \"▾\";}#sk-container-id-2 div.sk-estimator input.sk-toggleable__control:checked~label.sk-toggleable__label {background-color: #d4ebff;}#sk-container-id-2 div.sk-label input.sk-toggleable__control:checked~label.sk-toggleable__label {background-color: #d4ebff;}#sk-container-id-2 input.sk-hidden--visually {border: 0;clip: rect(1px 1px 1px 1px);clip: rect(1px, 1px, 1px, 1px);height: 1px;margin: -1px;overflow: hidden;padding: 0;position: absolute;width: 1px;}#sk-container-id-2 div.sk-estimator {font-family: monospace;background-color: #f0f8ff;border: 1px dotted black;border-radius: 0.25em;box-sizing: border-box;margin-bottom: 0.5em;}#sk-container-id-2 div.sk-estimator:hover {background-color: #d4ebff;}#sk-container-id-2 div.sk-parallel-item::after {content: \"\";width: 100%;border-bottom: 1px solid gray;flex-grow: 1;}#sk-container-id-2 div.sk-label:hover label.sk-toggleable__label {background-color: #d4ebff;}#sk-container-id-2 div.sk-serial::before {content: \"\";position: absolute;border-left: 1px solid gray;box-sizing: border-box;top: 0;bottom: 0;left: 50%;z-index: 0;}#sk-container-id-2 div.sk-serial {display: flex;flex-direction: column;align-items: center;background-color: white;padding-right: 0.2em;padding-left: 0.2em;position: relative;}#sk-container-id-2 div.sk-item {position: relative;z-index: 1;}#sk-container-id-2 div.sk-parallel {display: flex;align-items: stretch;justify-content: center;background-color: white;position: relative;}#sk-container-id-2 div.sk-item::before, #sk-container-id-2 div.sk-parallel-item::before {content: \"\";position: absolute;border-left: 1px solid gray;box-sizing: border-box;top: 0;bottom: 0;left: 50%;z-index: -1;}#sk-container-id-2 div.sk-parallel-item {display: flex;flex-direction: column;z-index: 1;position: relative;background-color: white;}#sk-container-id-2 div.sk-parallel-item:first-child::after {align-self: flex-end;width: 50%;}#sk-container-id-2 div.sk-parallel-item:last-child::after {align-self: flex-start;width: 50%;}#sk-container-id-2 div.sk-parallel-item:only-child::after {width: 0;}#sk-container-id-2 div.sk-dashed-wrapped {border: 1px dashed gray;margin: 0 0.4em 0.5em 0.4em;box-sizing: border-box;padding-bottom: 0.4em;background-color: white;}#sk-container-id-2 div.sk-label label {font-family: monospace;font-weight: bold;display: inline-block;line-height: 1.2em;}#sk-container-id-2 div.sk-label-container {text-align: center;}#sk-container-id-2 div.sk-container {/* jupyter's `normalize.less` sets `[hidden] { display: none; }` but bootstrap.min.css set `[hidden] { display: none !important; }` so we also need the `!important` here to be able to override the default hidden behavior on the sphinx rendered scikit-learn.org. See: https://github.com/scikit-learn/scikit-learn/issues/21755 */display: inline-block !important;position: relative;}#sk-container-id-2 div.sk-text-repr-fallback {display: none;}</style><div id=\"sk-container-id-2\" class=\"sk-top-container\"><div class=\"sk-text-repr-fallback\"><pre>SVC()</pre><b>In a Jupyter environment, please rerun this cell to show the HTML representation or trust the notebook. <br />On GitHub, the HTML representation is unable to render, please try loading this page with nbviewer.org.</b></div><div class=\"sk-container\" hidden><div class=\"sk-item\"><div class=\"sk-estimator sk-toggleable\"><input class=\"sk-toggleable__control sk-hidden--visually\" id=\"sk-estimator-id-2\" type=\"checkbox\" checked><label for=\"sk-estimator-id-2\" class=\"sk-toggleable__label sk-toggleable__label-arrow\">SVC</label><div class=\"sk-toggleable__content\"><pre>SVC()</pre></div></div></div></div></div>"
      ],
      "text/plain": [
       "SVC()"
      ]
     },
     "execution_count": 11,
     "metadata": {},
     "output_type": "execute_result"
    }
   ],
   "source": [
    "svm = SVC()\n",
    "\n",
    "svm.fit(X_train, y_train)"
   ]
  },
  {
   "cell_type": "code",
   "execution_count": 12,
   "metadata": {},
   "outputs": [],
   "source": [
    "y_pred_svm = svm.predict(X_test)"
   ]
  },
  {
   "cell_type": "code",
   "execution_count": 16,
   "metadata": {},
   "outputs": [
    {
     "name": "stdout",
     "output_type": "stream",
     "text": [
      "Accuracy: 0.9996294116364746\n",
      "Precision: 0.9997719953259042\n",
      "Recall: 0.9992593647628543\n",
      "F1-score: 0.9995156143150218\n",
      "MCC: 0.999215612259167\n"
     ]
    }
   ],
   "source": [
    "accuracy_svm = accuracy_score(y_test, y_pred_svm)\n",
    "precision_svm = precision_score(y_test, y_pred_svm)\n",
    "recall_svm = recall_score(y_test, y_pred_svm)\n",
    "f1_score_svm = f1_score(y_test, y_pred_svm)\n",
    "mcc_svm = matthews_corrcoef(y_test, y_pred_svm)\n",
    "\n",
    "print(\"Accuracy:\", accuracy_svm)\n",
    "print(\"Precision:\", precision_svm)\n",
    "print(\"Recall:\", recall_svm)\n",
    "print(\"F1-score:\", f1_score_svm)\n",
    "print(\"MCC:\", mcc_svm)"
   ]
  },
  {
   "cell_type": "code",
   "execution_count": 17,
   "metadata": {},
   "outputs": [
    {
     "name": "stdout",
     "output_type": "stream",
     "text": [
      "[[56633     8]\n",
      " [   26 35079]]\n"
     ]
    }
   ],
   "source": [
    "cm_svm = confusion_matrix(y_test, y_pred_svm)\n",
    "print(cm_svm)"
   ]
  },
  {
   "cell_type": "markdown",
   "metadata": {},
   "source": [
    "#### Decision Tree"
   ]
  },
  {
   "cell_type": "code",
   "execution_count": 18,
   "metadata": {},
   "outputs": [
    {
     "data": {
      "text/html": [
       "<style>#sk-container-id-3 {color: black;}#sk-container-id-3 pre{padding: 0;}#sk-container-id-3 div.sk-toggleable {background-color: white;}#sk-container-id-3 label.sk-toggleable__label {cursor: pointer;display: block;width: 100%;margin-bottom: 0;padding: 0.3em;box-sizing: border-box;text-align: center;}#sk-container-id-3 label.sk-toggleable__label-arrow:before {content: \"▸\";float: left;margin-right: 0.25em;color: #696969;}#sk-container-id-3 label.sk-toggleable__label-arrow:hover:before {color: black;}#sk-container-id-3 div.sk-estimator:hover label.sk-toggleable__label-arrow:before {color: black;}#sk-container-id-3 div.sk-toggleable__content {max-height: 0;max-width: 0;overflow: hidden;text-align: left;background-color: #f0f8ff;}#sk-container-id-3 div.sk-toggleable__content pre {margin: 0.2em;color: black;border-radius: 0.25em;background-color: #f0f8ff;}#sk-container-id-3 input.sk-toggleable__control:checked~div.sk-toggleable__content {max-height: 200px;max-width: 100%;overflow: auto;}#sk-container-id-3 input.sk-toggleable__control:checked~label.sk-toggleable__label-arrow:before {content: \"▾\";}#sk-container-id-3 div.sk-estimator input.sk-toggleable__control:checked~label.sk-toggleable__label {background-color: #d4ebff;}#sk-container-id-3 div.sk-label input.sk-toggleable__control:checked~label.sk-toggleable__label {background-color: #d4ebff;}#sk-container-id-3 input.sk-hidden--visually {border: 0;clip: rect(1px 1px 1px 1px);clip: rect(1px, 1px, 1px, 1px);height: 1px;margin: -1px;overflow: hidden;padding: 0;position: absolute;width: 1px;}#sk-container-id-3 div.sk-estimator {font-family: monospace;background-color: #f0f8ff;border: 1px dotted black;border-radius: 0.25em;box-sizing: border-box;margin-bottom: 0.5em;}#sk-container-id-3 div.sk-estimator:hover {background-color: #d4ebff;}#sk-container-id-3 div.sk-parallel-item::after {content: \"\";width: 100%;border-bottom: 1px solid gray;flex-grow: 1;}#sk-container-id-3 div.sk-label:hover label.sk-toggleable__label {background-color: #d4ebff;}#sk-container-id-3 div.sk-serial::before {content: \"\";position: absolute;border-left: 1px solid gray;box-sizing: border-box;top: 0;bottom: 0;left: 50%;z-index: 0;}#sk-container-id-3 div.sk-serial {display: flex;flex-direction: column;align-items: center;background-color: white;padding-right: 0.2em;padding-left: 0.2em;position: relative;}#sk-container-id-3 div.sk-item {position: relative;z-index: 1;}#sk-container-id-3 div.sk-parallel {display: flex;align-items: stretch;justify-content: center;background-color: white;position: relative;}#sk-container-id-3 div.sk-item::before, #sk-container-id-3 div.sk-parallel-item::before {content: \"\";position: absolute;border-left: 1px solid gray;box-sizing: border-box;top: 0;bottom: 0;left: 50%;z-index: -1;}#sk-container-id-3 div.sk-parallel-item {display: flex;flex-direction: column;z-index: 1;position: relative;background-color: white;}#sk-container-id-3 div.sk-parallel-item:first-child::after {align-self: flex-end;width: 50%;}#sk-container-id-3 div.sk-parallel-item:last-child::after {align-self: flex-start;width: 50%;}#sk-container-id-3 div.sk-parallel-item:only-child::after {width: 0;}#sk-container-id-3 div.sk-dashed-wrapped {border: 1px dashed gray;margin: 0 0.4em 0.5em 0.4em;box-sizing: border-box;padding-bottom: 0.4em;background-color: white;}#sk-container-id-3 div.sk-label label {font-family: monospace;font-weight: bold;display: inline-block;line-height: 1.2em;}#sk-container-id-3 div.sk-label-container {text-align: center;}#sk-container-id-3 div.sk-container {/* jupyter's `normalize.less` sets `[hidden] { display: none; }` but bootstrap.min.css set `[hidden] { display: none !important; }` so we also need the `!important` here to be able to override the default hidden behavior on the sphinx rendered scikit-learn.org. See: https://github.com/scikit-learn/scikit-learn/issues/21755 */display: inline-block !important;position: relative;}#sk-container-id-3 div.sk-text-repr-fallback {display: none;}</style><div id=\"sk-container-id-3\" class=\"sk-top-container\"><div class=\"sk-text-repr-fallback\"><pre>DecisionTreeClassifier()</pre><b>In a Jupyter environment, please rerun this cell to show the HTML representation or trust the notebook. <br />On GitHub, the HTML representation is unable to render, please try loading this page with nbviewer.org.</b></div><div class=\"sk-container\" hidden><div class=\"sk-item\"><div class=\"sk-estimator sk-toggleable\"><input class=\"sk-toggleable__control sk-hidden--visually\" id=\"sk-estimator-id-3\" type=\"checkbox\" checked><label for=\"sk-estimator-id-3\" class=\"sk-toggleable__label sk-toggleable__label-arrow\">DecisionTreeClassifier</label><div class=\"sk-toggleable__content\"><pre>DecisionTreeClassifier()</pre></div></div></div></div></div>"
      ],
      "text/plain": [
       "DecisionTreeClassifier()"
      ]
     },
     "execution_count": 18,
     "metadata": {},
     "output_type": "execute_result"
    }
   ],
   "source": [
    "dtree = DecisionTreeClassifier()\n",
    "\n",
    "dtree.fit(X_train, y_train)"
   ]
  },
  {
   "cell_type": "code",
   "execution_count": 19,
   "metadata": {},
   "outputs": [],
   "source": [
    "y_pred_dtree = dtree.predict(X_test)"
   ]
  },
  {
   "cell_type": "code",
   "execution_count": 21,
   "metadata": {},
   "outputs": [
    {
     "name": "stdout",
     "output_type": "stream",
     "text": [
      "Accuracy: 0.9993678198504568\n",
      "Precision: 0.9987760794694447\n",
      "Recall: 0.9995727104401082\n",
      "F1-score: 0.9991742361684558\n",
      "MCC: 0.9986623214073909\n"
     ]
    }
   ],
   "source": [
    "accuracy_dtree = accuracy_score(y_test, y_pred_dtree)\n",
    "precision_dtree = precision_score(y_test, y_pred_dtree)\n",
    "recall_dtree = recall_score(y_test, y_pred_dtree)\n",
    "f1_score_dtree = f1_score(y_test, y_pred_dtree)\n",
    "mcc_dtree = matthews_corrcoef(y_test, y_pred_dtree)\n",
    "\n",
    "print(\"Accuracy:\", accuracy_dtree)\n",
    "print(\"Precision:\", precision_dtree)\n",
    "print(\"Recall:\", recall_dtree)\n",
    "print(\"F1-score:\", f1_score_dtree)\n",
    "print(\"MCC:\", mcc_dtree)"
   ]
  },
  {
   "cell_type": "code",
   "execution_count": 22,
   "metadata": {},
   "outputs": [
    {
     "name": "stdout",
     "output_type": "stream",
     "text": [
      "[[56598    43]\n",
      " [   15 35090]]\n"
     ]
    }
   ],
   "source": [
    "cm_dt = confusion_matrix(y_test, y_pred_dtree)\n",
    "print(cm_dt)"
   ]
  },
  {
   "cell_type": "markdown",
   "metadata": {},
   "source": [
    "### CNN"
   ]
  },
  {
   "cell_type": "code",
   "execution_count": 23,
   "metadata": {},
   "outputs": [],
   "source": [
    "X_train1 = X_train.to_numpy()\n",
    "y_train1 = y_train.to_numpy()\n",
    "X_test1 = X_test.to_numpy()\n",
    "y_test1 = y_test.to_numpy()"
   ]
  },
  {
   "cell_type": "code",
   "execution_count": 24,
   "metadata": {},
   "outputs": [
    {
     "data": {
      "text/plain": [
       "((366980, 30, 1), (91746, 30, 1))"
      ]
     },
     "execution_count": 24,
     "metadata": {},
     "output_type": "execute_result"
    }
   ],
   "source": [
    "X_train1 = X_train1.reshape(X_train1.shape[0],X_train1.shape[1],1)\n",
    "X_test1 = X_test1.reshape(X_test1.shape[0],X_test1.shape[1],1)\n",
    "X_train1.shape, X_test1.shape"
   ]
  },
  {
   "cell_type": "code",
   "execution_count": 25,
   "metadata": {},
   "outputs": [],
   "source": [
    "from tensorflow.keras.models import Sequential\n",
    "from tensorflow.keras.layers import Dense,Flatten,Conv1D,BatchNormalization,Dropout"
   ]
  },
  {
   "cell_type": "code",
   "execution_count": 26,
   "metadata": {},
   "outputs": [],
   "source": [
    "#import model\n",
    "model=Sequential()"
   ]
  },
  {
   "cell_type": "code",
   "execution_count": 27,
   "metadata": {},
   "outputs": [],
   "source": [
    "# layers\n",
    "model.add(Conv1D(filters=32, kernel_size=2, activation='relu', input_shape=X_train1[0].shape))\n",
    "model.add(BatchNormalization())\n",
    "model.add(Dropout(0.2))\n",
    "\n",
    "model.add(Conv1D(filters=64, kernel_size=2, activation='relu'))\n",
    "model.add(BatchNormalization())\n",
    "model.add(Dropout(0.2))\n",
    "\n",
    "# build ANN\n",
    "model.add(Flatten())\n",
    "model.add(Dense(64, activation='relu'))\n",
    "model.add(Dropout(0.5))\n",
    "model.add(Dense(1, activation='relu'))"
   ]
  },
  {
   "cell_type": "code",
   "execution_count": 28,
   "metadata": {},
   "outputs": [],
   "source": [
    "# compile the model\n",
    "model.compile(optimizer='adam', loss='binary_crossentropy', metrics=['accuracy'])"
   ]
  },
  {
   "cell_type": "code",
   "execution_count": 29,
   "metadata": {},
   "outputs": [
    {
     "name": "stdout",
     "output_type": "stream",
     "text": [
      "Epoch 1/20\n",
      "11469/11469 [==============================] - 43s 4ms/step - loss: 0.0209 - accuracy: 0.9986 - val_loss: 0.0108 - val_accuracy: 0.9993\n",
      "Epoch 2/20\n",
      "11469/11469 [==============================] - 42s 4ms/step - loss: 0.0174 - accuracy: 0.9989 - val_loss: 0.0108 - val_accuracy: 0.9993\n",
      "Epoch 3/20\n",
      "11469/11469 [==============================] - 44s 4ms/step - loss: 0.0174 - accuracy: 0.9989 - val_loss: 0.0108 - val_accuracy: 0.9993\n",
      "Epoch 4/20\n",
      "11469/11469 [==============================] - 43s 4ms/step - loss: 0.0172 - accuracy: 0.9989 - val_loss: 0.0108 - val_accuracy: 0.9993\n",
      "Epoch 5/20\n",
      "11469/11469 [==============================] - 42s 4ms/step - loss: 0.0173 - accuracy: 0.9989 - val_loss: 0.0108 - val_accuracy: 0.9993\n",
      "Epoch 6/20\n",
      "11469/11469 [==============================] - 47s 4ms/step - loss: 0.0174 - accuracy: 0.9989 - val_loss: 0.0108 - val_accuracy: 0.9993\n",
      "Epoch 7/20\n",
      "11469/11469 [==============================] - 51s 4ms/step - loss: 0.0174 - accuracy: 0.9989 - val_loss: 0.0108 - val_accuracy: 0.9993\n",
      "Epoch 8/20\n",
      "11469/11469 [==============================] - 46s 4ms/step - loss: 0.0172 - accuracy: 0.9989 - val_loss: 0.0108 - val_accuracy: 0.9993\n",
      "Epoch 9/20\n",
      "11469/11469 [==============================] - 44s 4ms/step - loss: 0.0173 - accuracy: 0.9989 - val_loss: 0.0108 - val_accuracy: 0.9993\n",
      "Epoch 10/20\n",
      "11469/11469 [==============================] - 45s 4ms/step - loss: 0.0172 - accuracy: 0.9989 - val_loss: 0.0108 - val_accuracy: 0.9993\n",
      "Epoch 11/20\n",
      "11469/11469 [==============================] - 46s 4ms/step - loss: 0.0172 - accuracy: 0.9989 - val_loss: 0.0108 - val_accuracy: 0.9993\n",
      "Epoch 12/20\n",
      "11469/11469 [==============================] - 45s 4ms/step - loss: 0.0172 - accuracy: 0.9989 - val_loss: 0.0108 - val_accuracy: 0.9993\n",
      "Epoch 13/20\n",
      "11469/11469 [==============================] - 44s 4ms/step - loss: 0.0172 - accuracy: 0.9989 - val_loss: 0.0108 - val_accuracy: 0.9993\n",
      "Epoch 14/20\n",
      "11469/11469 [==============================] - 45s 4ms/step - loss: 0.0172 - accuracy: 0.9989 - val_loss: 0.0108 - val_accuracy: 0.9993\n",
      "Epoch 15/20\n",
      "11469/11469 [==============================] - 44s 4ms/step - loss: 0.0172 - accuracy: 0.9989 - val_loss: 0.0108 - val_accuracy: 0.9993\n",
      "Epoch 16/20\n",
      "11469/11469 [==============================] - 100s 9ms/step - loss: 0.0172 - accuracy: 0.9989 - val_loss: 0.0108 - val_accuracy: 0.9993\n",
      "Epoch 17/20\n",
      "11469/11469 [==============================] - 130s 11ms/step - loss: 0.0172 - accuracy: 0.9989 - val_loss: 0.0108 - val_accuracy: 0.9993\n",
      "Epoch 18/20\n",
      "11469/11469 [==============================] - 81s 7ms/step - loss: 0.0173 - accuracy: 0.9989 - val_loss: 0.0108 - val_accuracy: 0.9993\n",
      "Epoch 19/20\n",
      "11469/11469 [==============================] - 43s 4ms/step - loss: 0.0172 - accuracy: 0.9989 - val_loss: 0.0108 - val_accuracy: 0.9993\n",
      "Epoch 20/20\n",
      "11469/11469 [==============================] - 45s 4ms/step - loss: 0.0172 - accuracy: 0.9989 - val_loss: 0.0108 - val_accuracy: 0.9993\n"
     ]
    }
   ],
   "source": [
    "# fitting the model\n",
    "cnn_fit =model.fit(X_train1,y_train1,epochs=20,validation_data=(X_test1,y_test1))"
   ]
  },
  {
   "cell_type": "code",
   "execution_count": 30,
   "metadata": {},
   "outputs": [],
   "source": [
    "# plot\n",
    "def plot_learningcurve(cnn_fit,epochs):\n",
    "  epoch=range(1,epochs+1)\n",
    "  # accuracy\n",
    "  plt.plot(epoch, cnn_fit.history['accuracy'])\n",
    "  plt.plot(epoch, cnn_fit.history['val_accuracy'])\n",
    "  plt.title('Model accuracy')\n",
    "  plt.xlabel('epoch')\n",
    "  plt.ylabel('accuracy')\n",
    "  plt.legend(['train','val'], loc='upper left')\n",
    "  plt.show()\n",
    "\n",
    "  # loss\n",
    "  plt.plot(epoch, cnn_fit.history['loss'])\n",
    "  plt.plot(epoch, cnn_fit.history['val_loss'])\n",
    "  plt.title('Model loss')\n",
    "  plt.xlabel('epoch')\n",
    "  plt.ylabel('loss')\n",
    "  plt.legend(['train','val'], loc='upper left')\n",
    "  plt.show()"
   ]
  },
  {
   "cell_type": "code",
   "execution_count": 31,
   "metadata": {},
   "outputs": [
    {
     "data": {
      "image/png": "[encoded data removed]",
      "text/plain": [
       "<Figure size 640x480 with 1 Axes>"
      ]
     },
     "metadata": {},
     "output_type": "display_data"
    },
    {
     "data": {
      "image/png": "[encoded data removed]",
      "text/plain": [
       "<Figure size 640x480 with 1 Axes>"
      ]
     },
     "metadata": {},
     "output_type": "display_data"
    }
   ],
   "source": [
    "plot_learningcurve(cnn_fit,20)"
   ]
  },
  {
   "cell_type": "code",
   "execution_count": 32,
   "metadata": {},
   "outputs": [
    {
     "name": "stdout",
     "output_type": "stream",
     "text": [
      "2868/2868 [==============================] - 3s 1ms/step\n"
     ]
    }
   ],
   "source": [
    "y_pred_cnn = model.predict(X_test1)"
   ]
  },
  {
   "cell_type": "code",
   "execution_count": 33,
   "metadata": {},
   "outputs": [],
   "source": [
    "import numpy as np\n",
    "\n",
    "def predict_classes(probs, threshold=0.5):\n",
    "\n",
    "  classes = np.zeros_like(probs, dtype=int)\n",
    "  classes[probs >= threshold] = 1\n",
    "  return classes\n"
   ]
  },
  {
   "cell_type": "code",
   "execution_count": 34,
   "metadata": {},
   "outputs": [],
   "source": [
    "preds = predict_classes(y_pred_cnn)"
   ]
  },
  {
   "cell_type": "code",
   "execution_count": 35,
   "metadata": {},
   "outputs": [
    {
     "name": "stdout",
     "output_type": "stream",
     "text": [
      "Accuracy: 0.9993024219039522\n",
      "Precision: 1.0\n",
      "F1-score: 0.9990876172554386\n",
      "Recall: 0.9981768978777952\n",
      "MCC: 0.9985240644328498\n"
     ]
    }
   ],
   "source": [
    "accuracy_cnn = accuracy_score(y_test1, preds)\n",
    "precision_cnn = precision_score(y_test1, preds)\n",
    "recall_cnn = recall_score(y_test1, preds)\n",
    "f1_score_cnn = f1_score(y_test1, preds)\n",
    "mcc_cnn = matthews_corrcoef(y_test1, preds)\n",
    "\n",
    "print(\"Accuracy:\", accuracy_cnn)\n",
    "print(\"Precision:\", precision_cnn)\n",
    "print(\"F1-score:\", f1_score_cnn)\n",
    "print(\"Recall:\", recall_cnn)\n",
    "print(\"MCC:\", mcc_cnn)"
   ]
  },
  {
   "cell_type": "code",
   "execution_count": 36,
   "metadata": {},
   "outputs": [
    {
     "name": "stdout",
     "output_type": "stream",
     "text": [
      "[[56641     0]\n",
      " [   64 35041]]\n"
     ]
    }
   ],
   "source": [
    "cm_dt = confusion_matrix(y_test1, preds)\n",
    "print(cm_dt)"
   ]
  }
 ],
 "metadata": {
  "kernelspec": {
   "display_name": "base",
   "language": "python",
   "name": "python3"
  },
  "language_info": {
   "codemirror_mode": {
    "name": "ipython",
    "version": 3
   },
   "file_extension": ".py",
   "mimetype": "text/x-python",
   "name": "python",
   "nbconvert_exporter": "python",
   "pygments_lexer": "ipython3",
   "version": "3.11.4"
  },
  "orig_nbformat": 4
 },
 "nbformat": 4,
 "nbformat_minor": 2
}
